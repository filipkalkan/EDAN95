{
 "cells": [
  {
   "cell_type": "markdown",
   "metadata": {},
   "source": [
    "# Programming Assignment #5: Convolutional Networks\n",
    "Author: Pierre Nugues"
   ]
  },
  {
   "cell_type": "markdown",
   "metadata": {},
   "source": [
    "<h2>Objectives</h2>"
   ]
  },
  {
   "cell_type": "markdown",
   "metadata": {},
   "source": [
    "The objectives of this assignment are to:\n",
    "* Write a program to recognize flowers on images\n",
    "* Learn how to manage an image data set\n",
    "* Apply convolutional networks to images\n",
    "* Understand class activation\n",
    "* Write a short report on your experiments. This report is mandatory to pass the assignment."
   ]
  },
  {
   "cell_type": "markdown",
   "metadata": {},
   "source": [
    "## Organization"
   ]
  },
  {
   "cell_type": "markdown",
   "metadata": {},
   "source": [
    "Each group will have to:\n",
    "* Write Python programs to recognize the type of flowers in an image.\n",
    "* Experiment different neural architectures and compare the results.\n",
    "\n",
    "Each student will have to:\n",
    "* Run at home Chollet's notebook: `chapter09_part03_interpreting-what-convnets-learn.ipynb`. You can download from https://github.com/fchollet/deep-learning-with-python-notebooks.\n",
    "* Write an individual report on these experiments.\n",
    "\n",
    "While not compulsory, I highly recommend that you use Google colab and run your program on a GPU (Unless you have a GPU on your machine). This is something you select when you run the notebook (runtime type). You will have to create a Google account for this: https://colab.research.google.com\n",
    "\n",
    "As there are a few parameterization steps, I recommend that you start this lab as early as you can."
   ]
  },
  {
   "cell_type": "markdown",
   "metadata": {},
   "source": [
    "## Collecting a Dataset"
   ]
  },
  {
   "cell_type": "markdown",
   "metadata": {},
   "source": [
    "1. Register to Kaggle (https://www.kaggle.com/) to collect the datset used in this experiment. It is free and you will have access to lots of datasets. If you do not want to register, go to step 2.\n",
    "2. Download the Flower corpus:\n",
    "   * Either from Kaggle if you have registered (https://www.kaggle.com/alxmamaev/flowers-recognition). \n",
    "   * Or use a local copy, `flower-recognition.zip`, in the `datasets` folder in canvas.\n",
    "3. Split randomly your dataset into training, validation, and test sets: Use a 60/20/20 ratio. You will read all the file names and create a list of pairs, (file_name, category). You will then shuffle your list and save your partition of the data. To speed up the lab, you can also:\n",
    "   * Start with the partition available in the canvas folder (`flower_split.zip`); or\n",
    "   * Run the code in the cells below (recommended).\n"
   ]
  },
  {
   "cell_type": "code",
   "execution_count": 33,
   "metadata": {},
   "outputs": [],
   "source": [
    "import os\n",
    "import random\n",
    "import shutil\n",
    "from tqdm import tqdm\n",
    "\n",
    "# The machine name. Use the name colab is you run the code from Google colab\n",
    "machine_name = 'filip'\n",
    "\n",
    "# To create the same dataset\n",
    "random.seed(0)"
   ]
  },
  {
   "cell_type": "markdown",
   "metadata": {},
   "source": [
    "If you use Google colab (recommended). Use the GPU accelerator"
   ]
  },
  {
   "cell_type": "code",
   "execution_count": 34,
   "metadata": {},
   "outputs": [],
   "source": [
    "if machine_name == 'colab':\n",
    "    from google.colab import drive\n",
    "    drive.mount(\"/content/drive\")"
   ]
  },
  {
   "cell_type": "code",
   "execution_count": 35,
   "metadata": {},
   "outputs": [],
   "source": [
    "# Here write the path to your dataset\n",
    "if machine_name == 'vilde':\n",
    "    base = '/home/pierre/Cours/EDAN95/datasets/'\n",
    "if machine_name == 'mahir':\n",
    "    base = '../'\n",
    "    tf.config.set_soft_device_placement(True)\n",
    "elif machine_name == 'filip':\n",
    "    base = 'C:\\\\Users\\\\filip\\\\Documents\\\\Högskola\\\\[EDAN95] - Applied Machine Learning\\\\lab_5\\\\'\n",
    "elif machine_name == 'colab': # If you run your notebook with colab\n",
    "    base = '/content/drive/My Drive/Colab Notebooks/'\n",
    "else: # If you run your notebook on your machine\n",
    "    base = 'your folder'"
   ]
  },
  {
   "cell_type": "code",
   "execution_count": 36,
   "metadata": {},
   "outputs": [
    {
     "name": "stdout",
     "output_type": "stream",
     "text": [
      "Image types: ['daisy', 'dandelion', 'rose', 'sunflower', 'tulip']\n"
     ]
    },
    {
     "data": {
      "text/plain": [
       "['C:\\\\Users\\\\filip\\\\Documents\\\\Högskola\\\\[EDAN95] - Applied Machine Learning\\\\lab_5\\\\flowers\\\\daisy',\n",
       " 'C:\\\\Users\\\\filip\\\\Documents\\\\Högskola\\\\[EDAN95] - Applied Machine Learning\\\\lab_5\\\\flowers\\\\dandelion',\n",
       " 'C:\\\\Users\\\\filip\\\\Documents\\\\Högskola\\\\[EDAN95] - Applied Machine Learning\\\\lab_5\\\\flowers\\\\rose',\n",
       " 'C:\\\\Users\\\\filip\\\\Documents\\\\Högskola\\\\[EDAN95] - Applied Machine Learning\\\\lab_5\\\\flowers\\\\sunflower',\n",
       " 'C:\\\\Users\\\\filip\\\\Documents\\\\Högskola\\\\[EDAN95] - Applied Machine Learning\\\\lab_5\\\\flowers\\\\tulip']"
      ]
     },
     "execution_count": 36,
     "metadata": {},
     "output_type": "execute_result"
    }
   ],
   "source": [
    "original_dataset_dir = os.path.join(base, 'flowers')\n",
    "dataset = os.path.join(base, 'flowers_split')\n",
    "\n",
    "train_dir = os.path.join(dataset, 'train')\n",
    "validation_dir = os.path.join(dataset, 'validation')\n",
    "test_dir = os.path.join(dataset, 'test')\n",
    "\n",
    "categories = os.listdir(original_dataset_dir)\n",
    "categories = [category for category in categories if not category.startswith('.')]\n",
    "print('Image types:', categories)\n",
    "data_folders = [os.path.join(original_dataset_dir, category) for category in categories]\n",
    "data_folders"
   ]
  },
  {
   "cell_type": "markdown",
   "metadata": {},
   "source": [
    "We build the (image, label) pairs"
   ]
  },
  {
   "cell_type": "code",
   "execution_count": 37,
   "metadata": {},
   "outputs": [
    {
     "data": {
      "text/plain": [
       "[('100080576_f52e8ee070_n.jpg', 'daisy'),\n",
       " ('10140303196_b88d3d6cec.jpg', 'daisy'),\n",
       " ('10172379554_b296050f82_n.jpg', 'daisy'),\n",
       " ('10172567486_2748826a8b.jpg', 'daisy'),\n",
       " ('10172636503_21bededa75_n.jpg', 'daisy'),\n",
       " ('102841525_bd6628ae3c.jpg', 'daisy'),\n",
       " ('10300722094_28fa978807_n.jpg', 'daisy'),\n",
       " ('1031799732_e7f4008c03.jpg', 'daisy'),\n",
       " ('10391248763_1d16681106_n.jpg', 'daisy'),\n",
       " ('10437754174_22ec990b77_m.jpg', 'daisy')]"
      ]
     },
     "execution_count": 37,
     "metadata": {},
     "output_type": "execute_result"
    }
   ],
   "source": [
    "pairs = []\n",
    "for folder, category in zip(data_folders, categories):\n",
    "    images = os.listdir(folder)\n",
    "    images = [image for image in images if not image.startswith('.')]\n",
    "    pairs.extend([(image, category) for image in images])\n",
    "pairs[:10]"
   ]
  },
  {
   "cell_type": "markdown",
   "metadata": {},
   "source": [
    "We define a split. We will run this part only once to create the partition into training, validation, and test sets."
   ]
  },
  {
   "cell_type": "code",
   "execution_count": 38,
   "metadata": {},
   "outputs": [
    {
     "name": "stdout",
     "output_type": "stream",
     "text": [
      "2590\n",
      "863\n",
      "864\n"
     ]
    }
   ],
   "source": [
    "\n",
    "random.shuffle(pairs)\n",
    "img_nbr = len(pairs)\n",
    "train_images = pairs[0:int(0.6 * img_nbr)]\n",
    "val_images = pairs[int(0.6 * img_nbr):int(0.8 * img_nbr)]\n",
    "test_images = pairs[int(0.8 * img_nbr):]\n",
    "\n",
    "# print(train_images)\n",
    "print(len(train_images))\n",
    "print(len(val_images))\n",
    "print(len(test_images))"
   ]
  },
  {
   "cell_type": "markdown",
   "metadata": {},
   "source": [
    "We create the three subsets. We will run this part only once to create the partition into training, validation, and test sets."
   ]
  },
  {
   "cell_type": "code",
   "execution_count": 39,
   "metadata": {},
   "outputs": [],
   "source": [
    "if False:\n",
    "    for image, label in tqdm(train_images):\n",
    "        src = os.path.join(original_dataset_dir, label, image)\n",
    "        dst = os.path.join(train_dir, label, image)\n",
    "        os.makedirs(os.path.dirname(dst), exist_ok=True)\n",
    "        shutil.copyfile(src, dst)\n",
    "\n",
    "    for image, label in tqdm(val_images):\n",
    "        src = os.path.join(original_dataset_dir, label, image)\n",
    "        dst = os.path.join(validation_dir, label, image)\n",
    "        os.makedirs(os.path.dirname(dst), exist_ok=True)\n",
    "        shutil.copyfile(src, dst)\n",
    "\n",
    "    for image, label in tqdm(test_images):\n",
    "        src = os.path.join(original_dataset_dir, label, image)\n",
    "        dst = os.path.join(test_dir, label, image)\n",
    "        os.makedirs(os.path.dirname(dst), exist_ok=True)\n",
    "        shutil.copyfile(src, dst)"
   ]
  },
  {
   "cell_type": "markdown",
   "metadata": {},
   "source": [
    "## Building a Simple Convolutional Neural Network"
   ]
  },
  {
   "cell_type": "markdown",
   "metadata": {},
   "source": [
    "### Architecture"
   ]
  },
  {
   "cell_type": "markdown",
   "metadata": {},
   "source": [
    "Create a simple convolutional network and train a model with the training set. You can start from the architecture proposed by Chollet, Listing 8.7 (in Chollet's notebook chapter 8), and a small number of epochs. Use the `Rescaling` layer to scale your images as in the book:\n",
    "```\n",
    "layer.Rescaling(1.255)\n",
    "```\n",
    "* You will need to modify some parameters so that your network handles multiple classes.\n",
    "* You will report the training and validation losses and accuracies and comment on the possible overfit."
   ]
  },
  {
   "cell_type": "code",
   "execution_count": 40,
   "metadata": {},
   "outputs": [],
   "source": [
    "import numpy as np\n",
    "from sklearn.metrics import classification_report, confusion_matrix, accuracy_score\n",
    "import matplotlib.pyplot as plt\n",
    "import tensorflow as tf\n",
    "from tensorflow import keras\n",
    "from tensorflow.keras import layers\n",
    "# from tensorflow.keras import models\n",
    "# from tensorflow.keras import optimizers\n",
    "# from tensorflow.image import ResizeMethod\n",
    "\n",
    "EPOCHS = 30\n",
    "OPTIMIZER = 'rmsprop'\n",
    "# The pretrained network\n",
    "PRETRAINED = 'INCEPTION'"
   ]
  },
  {
   "cell_type": "code",
   "execution_count": 41,
   "metadata": {},
   "outputs": [
    {
     "name": "stdout",
     "output_type": "stream",
     "text": [
      "Found 3632 files belonging to 5 classes.\n",
      "Found 1555 files belonging to 5 classes.\n",
      "Found 1563 files belonging to 5 classes.\n"
     ]
    }
   ],
   "source": [
    "train_dataset = keras.utils.image_dataset_from_directory(\n",
    "    os.path.join(base ,\n",
    "        \"flowers_split\" ,\n",
    "        \"train\")\n",
    "    ,\n",
    "    image_size=(180, 180),\n",
    "    batch_size=64)\n",
    "\n",
    "validation_dataset = keras.utils.image_dataset_from_directory(\n",
    "    os.path.join(base, \"flowers_split\", \"validation\"),\n",
    "    image_size=(180, 180),\n",
    "    batch_size=64)\n",
    "\n",
    "test_dataset = keras.utils.image_dataset_from_directory(\n",
    "    os.path.join(base, \"flowers_split\", \"test\"),\n",
    "    image_size=(180, 180),\n",
    "    batch_size=64,\n",
    "    shuffle=False)"
   ]
  },
  {
   "cell_type": "markdown",
   "metadata": {},
   "source": [
    "Create the network and compile it"
   ]
  },
  {
   "cell_type": "code",
   "execution_count": 42,
   "metadata": {},
   "outputs": [],
   "source": [
    "inputs = keras.Input(shape=(180, 180, 3))\n",
    "x = layers.experimental.preprocessing.Rescaling(scale=1./255)(inputs)\n",
    "x = layers.Conv2D(filters=32, kernel_size=3, activation=\"relu\")(x)\n",
    "x = layers.MaxPooling2D(pool_size=2)(x)\n",
    "x = layers.Conv2D(filters=64, kernel_size=3, activation=\"relu\")(x)\n",
    "x = layers.MaxPooling2D(pool_size=2)(x)\n",
    "x = layers.Conv2D(filters=128, kernel_size=3, activation=\"relu\")(x)\n",
    "x = layers.Flatten()(x)\n",
    "outputs = layers.Dense(len(test_dataset.class_names), activation=\"softmax\")(x)\n",
    "model = keras.Model(inputs=inputs, outputs=outputs)"
   ]
  },
  {
   "cell_type": "markdown",
   "metadata": {},
   "source": [
    "Compile your network"
   ]
  },
  {
   "cell_type": "code",
   "execution_count": 43,
   "metadata": {},
   "outputs": [],
   "source": [
    "model.compile(optimizer=\"rmsprop\", loss=\"sparse_categorical_crossentropy\", metrics=[\"accuracy\"])"
   ]
  },
  {
   "cell_type": "code",
   "execution_count": 44,
   "metadata": {},
   "outputs": [
    {
     "name": "stdout",
     "output_type": "stream",
     "text": [
      "Model: \"model_2\"\n",
      "_________________________________________________________________\n",
      "Layer (type)                 Output Shape              Param #   \n",
      "=================================================================\n",
      "input_5 (InputLayer)         [(None, 180, 180, 3)]     0         \n",
      "_________________________________________________________________\n",
      "rescaling_1 (Rescaling)      (None, 180, 180, 3)       0         \n",
      "_________________________________________________________________\n",
      "conv2d_191 (Conv2D)          (None, 178, 178, 32)      896       \n",
      "_________________________________________________________________\n",
      "max_pooling2d_10 (MaxPooling (None, 89, 89, 32)        0         \n",
      "_________________________________________________________________\n",
      "conv2d_192 (Conv2D)          (None, 87, 87, 64)        18496     \n",
      "_________________________________________________________________\n",
      "max_pooling2d_11 (MaxPooling (None, 43, 43, 64)        0         \n",
      "_________________________________________________________________\n",
      "conv2d_193 (Conv2D)          (None, 41, 41, 128)       73856     \n",
      "_________________________________________________________________\n",
      "flatten_2 (Flatten)          (None, 215168)            0         \n",
      "_________________________________________________________________\n",
      "dense_3 (Dense)              (None, 5)                 1075845   \n",
      "=================================================================\n",
      "Total params: 1,169,093\n",
      "Trainable params: 1,169,093\n",
      "Non-trainable params: 0\n",
      "_________________________________________________________________\n"
     ]
    }
   ],
   "source": [
    "model.summary()"
   ]
  },
  {
   "cell_type": "markdown",
   "metadata": {},
   "source": [
    "Create now the data readers for the training, validation, and test sets"
   ]
  },
  {
   "cell_type": "markdown",
   "metadata": {},
   "source": [
    "You will now fit your model. Before, you will define a callback as in Chollet's book."
   ]
  },
  {
   "cell_type": "code",
   "execution_count": 45,
   "metadata": {},
   "outputs": [],
   "source": [
    "callbacks = [\n",
    "    keras.callbacks.ModelCheckpoint(\n",
    "        filepath=\"lab5.keras\",\n",
    "        save_best_only=True,\n",
    "        monitor=\"val_loss\")\n",
    "]"
   ]
  },
  {
   "cell_type": "markdown",
   "metadata": {},
   "source": [
    "And fit your model"
   ]
  },
  {
   "cell_type": "code",
   "execution_count": 46,
   "metadata": {},
   "outputs": [
    {
     "name": "stdout",
     "output_type": "stream",
     "text": [
      "Epoch 1/20\n",
      "57/57 [==============================] - 31s 520ms/step - loss: 1.8480 - accuracy: 0.3841 - val_loss: 1.2594 - val_accuracy: 0.4521\n",
      "Epoch 2/20\n",
      "57/57 [==============================] - 23s 399ms/step - loss: 1.1899 - accuracy: 0.5201 - val_loss: 1.0592 - val_accuracy: 0.6013\n",
      "Epoch 3/20\n",
      "57/57 [==============================] - 25s 431ms/step - loss: 0.9927 - accuracy: 0.6203 - val_loss: 1.1322 - val_accuracy: 0.5711\n",
      "Epoch 4/20\n",
      "57/57 [==============================] - 25s 439ms/step - loss: 0.8093 - accuracy: 0.6985 - val_loss: 0.7974 - val_accuracy: 0.7151\n",
      "Epoch 5/20\n",
      "57/57 [==============================] - 24s 414ms/step - loss: 0.6014 - accuracy: 0.7930 - val_loss: 0.6194 - val_accuracy: 0.8006\n",
      "Epoch 6/20\n",
      "57/57 [==============================] - 25s 432ms/step - loss: 0.3875 - accuracy: 0.8706 - val_loss: 0.8947 - val_accuracy: 0.7273\n",
      "Epoch 7/20\n",
      "57/57 [==============================] - 24s 422ms/step - loss: 0.2244 - accuracy: 0.9290 - val_loss: 0.6310 - val_accuracy: 0.8444\n",
      "Epoch 8/20\n",
      "57/57 [==============================] - 25s 443ms/step - loss: 0.1490 - accuracy: 0.9576 - val_loss: 0.6359 - val_accuracy: 0.8521\n",
      "Epoch 9/20\n",
      "57/57 [==============================] - 26s 455ms/step - loss: 0.0987 - accuracy: 0.9760 - val_loss: 0.7022 - val_accuracy: 0.8566\n",
      "Epoch 10/20\n",
      "57/57 [==============================] - 25s 444ms/step - loss: 0.0799 - accuracy: 0.9788 - val_loss: 1.4988 - val_accuracy: 0.7563\n",
      "Epoch 11/20\n",
      "57/57 [==============================] - 26s 451ms/step - loss: 0.0987 - accuracy: 0.9785 - val_loss: 0.7875 - val_accuracy: 0.8617\n",
      "Epoch 12/20\n",
      "57/57 [==============================] - 26s 453ms/step - loss: 0.0681 - accuracy: 0.9824 - val_loss: 0.8934 - val_accuracy: 0.8547\n",
      "Epoch 13/20\n",
      "57/57 [==============================] - 25s 431ms/step - loss: 0.1683 - accuracy: 0.9736 - val_loss: 0.8702 - val_accuracy: 0.8598\n",
      "Epoch 14/20\n",
      "57/57 [==============================] - 26s 448ms/step - loss: 0.0490 - accuracy: 0.9876 - val_loss: 1.0144 - val_accuracy: 0.8457\n",
      "Epoch 15/20\n",
      "57/57 [==============================] - 27s 468ms/step - loss: 0.1149 - accuracy: 0.9771 - val_loss: 0.7916 - val_accuracy: 0.8566\n",
      "Epoch 16/20\n",
      "57/57 [==============================] - 26s 449ms/step - loss: 0.0522 - accuracy: 0.9890 - val_loss: 1.0009 - val_accuracy: 0.8392\n",
      "Epoch 17/20\n",
      "57/57 [==============================] - 27s 466ms/step - loss: 0.2065 - accuracy: 0.9780 - val_loss: 0.8491 - val_accuracy: 0.8502\n",
      "Epoch 18/20\n",
      "57/57 [==============================] - 26s 453ms/step - loss: 0.0201 - accuracy: 0.9972 - val_loss: 1.3566 - val_accuracy: 0.8071\n",
      "Epoch 19/20\n",
      "57/57 [==============================] - 26s 447ms/step - loss: 0.0722 - accuracy: 0.9876 - val_loss: 1.0519 - val_accuracy: 0.8540\n",
      "Epoch 20/20\n",
      "57/57 [==============================] - 26s 447ms/step - loss: 0.0585 - accuracy: 0.9873 - val_loss: 1.0466 - val_accuracy: 0.8572\n"
     ]
    }
   ],
   "source": [
    "history = model.fit(\n",
    "    train_dataset,\n",
    "    epochs=20,\n",
    "    validation_data=validation_dataset,\n",
    "    callbacks=callbacks)"
   ]
  },
  {
   "cell_type": "markdown",
   "metadata": {},
   "source": [
    "### Analyzing the fitting performance over epochs"
   ]
  },
  {
   "cell_type": "markdown",
   "metadata": {},
   "source": [
    "As in Chollet's examples, show the training and validation loss"
   ]
  },
  {
   "cell_type": "code",
   "execution_count": 47,
   "metadata": {},
   "outputs": [
    {
     "data": {
      "image/png": "[encoded data removed]",
      "text/plain": [
       "<Figure size 432x288 with 1 Axes>"
      ]
     },
     "metadata": {
      "needs_background": "light"
     },
     "output_type": "display_data"
    },
    {
     "data": {
      "image/png": "[encoded data removed]",
      "text/plain": [
       "<Figure size 432x288 with 1 Axes>"
      ]
     },
     "metadata": {
      "needs_background": "light"
     },
     "output_type": "display_data"
    }
   ],
   "source": [
    "accuracy = history.history[\"accuracy\"]\n",
    "val_accuracy = history.history[\"val_accuracy\"]\n",
    "loss = history.history[\"loss\"]\n",
    "val_loss = history.history[\"val_loss\"]\n",
    "epochs = range(1, len(loss) + 1)\n",
    "plt.plot(epochs, accuracy, \"bo\", label=\"Training accuracy\")\n",
    "plt.plot(epochs, val_accuracy, \"b\", label=\"Validation accuracy\")\n",
    "plt.title(\"Training and validation accuracy\")\n",
    "plt.legend()\n",
    "plt.figure()\n",
    "plt.plot(epochs, loss, \"bo\", label=\"Training loss\")\n",
    "plt.plot(epochs, val_loss, \"b\", label=\"Validation loss\")\n",
    "plt.title(\"Training and validation loss\")\n",
    "plt.legend()\n",
    "plt.show()"
   ]
  },
  {
   "cell_type": "markdown",
   "metadata": {},
   "source": [
    "### Predicting the test set"
   ]
  },
  {
   "cell_type": "markdown",
   "metadata": {},
   "source": [
    "You will now apply now your network to the test set. Read the best model from your checkpoints"
   ]
  },
  {
   "cell_type": "code",
   "execution_count": 48,
   "metadata": {},
   "outputs": [],
   "source": [
    "test_model = keras.models.load_model('lab5.keras')"
   ]
  },
  {
   "cell_type": "markdown",
   "metadata": {},
   "source": [
    "Predict the test set classes. Call the matrix of prediction probabilities `Y_pred` and the predicted classes `y_pred`. While predicting, extract the annotations that you will call `y_true`."
   ]
  },
  {
   "cell_type": "code",
   "execution_count": 49,
   "metadata": {},
   "outputs": [],
   "source": [
    "Y_pred = test_model.predict(test_dataset)\n",
    "y_pred = [np.argmax(probability) for probability in Y_pred]\n",
    "y_true = np.concatenate([y for x, y in test_dataset], axis=0)"
   ]
  },
  {
   "cell_type": "code",
   "execution_count": 50,
   "metadata": {},
   "outputs": [
    {
     "data": {
      "text/plain": [
       "array([[0.33387107, 0.31313494, 0.06074269, 0.24686918, 0.04538219],\n",
       "       [0.6638157 , 0.07362416, 0.10349477, 0.0906441 , 0.0684213 ],\n",
       "       [0.8947955 , 0.08710446, 0.0033013 , 0.00140455, 0.01339415],\n",
       "       [0.20544975, 0.66971624, 0.06020516, 0.00958357, 0.0550453 ],\n",
       "       [0.7576709 , 0.10260876, 0.02116115, 0.0209005 , 0.09765873]],\n",
       "      dtype=float32)"
      ]
     },
     "execution_count": 50,
     "metadata": {},
     "output_type": "execute_result"
    }
   ],
   "source": [
    "Y_pred[:5]"
   ]
  },
  {
   "cell_type": "code",
   "execution_count": 51,
   "metadata": {},
   "outputs": [
    {
     "data": {
      "text/plain": [
       "[0, 0, 0, 1, 0, 0, 0, 0, 0, 0, 0, 0, 2, 0, 0, 0, 1, 1, 0, 0]"
      ]
     },
     "execution_count": 51,
     "metadata": {},
     "output_type": "execute_result"
    }
   ],
   "source": [
    "y_pred[:20]"
   ]
  },
  {
   "cell_type": "code",
   "execution_count": 52,
   "metadata": {},
   "outputs": [
    {
     "data": {
      "text/plain": [
       "array([0, 0, 0, 0, 0, 0, 0, 0, 0, 0, 0, 0, 0, 0, 0, 0, 0, 0, 0, 0])"
      ]
     },
     "execution_count": 52,
     "metadata": {},
     "output_type": "execute_result"
    }
   ],
   "source": [
    "y_true[:20]"
   ]
  },
  {
   "cell_type": "markdown",
   "metadata": {},
   "source": [
    "Evaluate your model and report the loss and accuracy using Keras `evaluate()` function. You will store them in the `test_loss_1` and `test_acc_1` variables."
   ]
  },
  {
   "cell_type": "code",
   "execution_count": 53,
   "metadata": {},
   "outputs": [
    {
     "name": "stdout",
     "output_type": "stream",
     "text": [
      "25/25 [==============================] - 3s 110ms/step - loss: 0.6194 - accuracy: 0.8006\n",
      "Test accuracy: 0.801\n"
     ]
    }
   ],
   "source": [
    "test_loss_1, test_acc_1 = test_model.evaluate(validation_dataset)\n",
    "print(f\"Test accuracy: {test_acc_1:.3f}\")"
   ]
  },
  {
   "cell_type": "code",
   "execution_count": 54,
   "metadata": {},
   "outputs": [
    {
     "data": {
      "text/plain": [
       "(0.6194152235984802, 0.8006430864334106)"
      ]
     },
     "execution_count": 54,
     "metadata": {},
     "output_type": "execute_result"
    }
   ],
   "source": [
    "test_loss_1, test_acc_1"
   ]
  },
  {
   "cell_type": "markdown",
   "metadata": {},
   "source": [
    "Report the accuracy as well as the classification report. Use sklearn functions this time."
   ]
  },
  {
   "cell_type": "code",
   "execution_count": 55,
   "metadata": {},
   "outputs": [
    {
     "name": "stdout",
     "output_type": "stream",
     "text": [
      "0.8006430864334106\n",
      "              precision    recall  f1-score   support\n",
      "\n",
      "           0       0.87      0.77      0.82       316\n",
      "           1       0.77      0.88      0.82       374\n",
      "           2       0.88      0.72      0.79       282\n",
      "           3       0.89      0.75      0.81       250\n",
      "           4       0.72      0.87      0.79       341\n",
      "\n",
      "    accuracy                           0.80      1563\n",
      "   macro avg       0.82      0.80      0.80      1563\n",
      "weighted avg       0.82      0.80      0.80      1563\n",
      "\n"
     ]
    }
   ],
   "source": [
    "from sklearn import metrics\n",
    "\n",
    "print(test_acc_1)\n",
    "print(metrics.classification_report(y_true, y_pred))\n"
   ]
  },
  {
   "cell_type": "markdown",
   "metadata": {},
   "source": [
    "Print the confusion matrix. Use a sklearn function"
   ]
  },
  {
   "cell_type": "code",
   "execution_count": 56,
   "metadata": {},
   "outputs": [
    {
     "data": {
      "text/plain": [
       "array([[243,  36,   4,   8,  25],\n",
       "       [ 16, 328,   4,   9,  17],\n",
       "       [  6,  16, 203,   3,  54],\n",
       "       [  5,  38,   1, 187,  19],\n",
       "       [ 10,  10,  20,   4, 297]], dtype=int64)"
      ]
     },
     "execution_count": 56,
     "metadata": {},
     "output_type": "execute_result"
    }
   ],
   "source": [
    "metrics.confusion_matrix(y_true, y_pred)"
   ]
  },
  {
   "cell_type": "markdown",
   "metadata": {},
   "source": [
    "Try to improve your model by modifying some parameters and evaluate your network again."
   ]
  },
  {
   "cell_type": "markdown",
   "metadata": {},
   "source": [
    "## Using Image Augmentation"
   ]
  },
  {
   "cell_type": "markdown",
   "metadata": {},
   "source": [
    "### Architecture"
   ]
  },
  {
   "cell_type": "markdown",
   "metadata": {},
   "source": [
    "The flower dataset is relatively small. A way to expand such datasets is to generate artificial images by applying small transformations to existing images. Keras provides built-in layers for this. You will reuse them and apply it to the flower data set.\n",
    "1. Using the network from the previous exercise, apply some transformations to your images. You can start from Chollet, Listing 8.13 (in notebook 08 also).\n",
    "2. Report the training and validation losses and accuracies and comment on the possible overfit.\n",
    "3. Apply your network to the test set and report the accuracy as well as the confusion matrix you obtained."
   ]
  },
  {
   "cell_type": "markdown",
   "metadata": {},
   "source": [
    "Write a sequence of transformation layers"
   ]
  },
  {
   "cell_type": "code",
   "execution_count": 100,
   "metadata": {},
   "outputs": [],
   "source": [
    "data_augmentation = keras.Sequential(\n",
    "    [\n",
    "        layers.experimental.preprocessing.RandomFlip(\"horizontal\"),\n",
    "        layers.experimental.preprocessing.RandomRotation(0.1),\n",
    "        layers.experimental.preprocessing.RandomZoom(0.2),\n",
    "    ]\n",
    ")"
   ]
  },
  {
   "cell_type": "markdown",
   "metadata": {},
   "source": [
    "Define a model including these layers."
   ]
  },
  {
   "cell_type": "code",
   "execution_count": 101,
   "metadata": {},
   "outputs": [],
   "source": [
    "inputs = keras.Input(shape=(180, 180, 3))\n",
    "x = data_augmentation(inputs)\n",
    "x = layers.experimental.preprocessing.Rescaling(scale=1./255)(x)\n",
    "x = layers.Conv2D(filters=32, kernel_size=3, activation=\"relu\")(x)\n",
    "x = layers.MaxPooling2D(pool_size=2)(x)\n",
    "x = layers.Conv2D(filters=64, kernel_size=3, activation=\"relu\")(x)\n",
    "x = layers.MaxPooling2D(pool_size=2)(x)\n",
    "x = layers.Conv2D(filters=128, kernel_size=3, activation=\"relu\")(x)\n",
    "x = layers.Flatten()(x)\n",
    "outputs = layers.Dense(len(test_dataset.class_names), activation=\"softmax\")(x)\n",
    "model_augmented = keras.Model(inputs=inputs, outputs=outputs)\n"
   ]
  },
  {
   "cell_type": "markdown",
   "metadata": {},
   "source": [
    "Compile your network"
   ]
  },
  {
   "cell_type": "code",
   "execution_count": 102,
   "metadata": {},
   "outputs": [],
   "source": [
    "model_augmented.compile(optimizer=\"rmsprop\", loss=\"sparse_categorical_crossentropy\", metrics=[\"accuracy\"])"
   ]
  },
  {
   "cell_type": "code",
   "execution_count": 103,
   "metadata": {},
   "outputs": [
    {
     "name": "stdout",
     "output_type": "stream",
     "text": [
      "Model: \"model_6\"\n",
      "_________________________________________________________________\n",
      "Layer (type)                 Output Shape              Param #   \n",
      "=================================================================\n",
      "input_11 (InputLayer)        [(None, 180, 180, 3)]     0         \n",
      "_________________________________________________________________\n",
      "sequential_3 (Sequential)    (None, 180, 180, 3)       0         \n",
      "_________________________________________________________________\n",
      "rescaling_3 (Rescaling)      (None, 180, 180, 3)       0         \n",
      "_________________________________________________________________\n",
      "conv2d_385 (Conv2D)          (None, 178, 178, 32)      896       \n",
      "_________________________________________________________________\n",
      "max_pooling2d_22 (MaxPooling (None, 89, 89, 32)        0         \n",
      "_________________________________________________________________\n",
      "conv2d_386 (Conv2D)          (None, 87, 87, 64)        18496     \n",
      "_________________________________________________________________\n",
      "max_pooling2d_23 (MaxPooling (None, 43, 43, 64)        0         \n",
      "_________________________________________________________________\n",
      "conv2d_387 (Conv2D)          (None, 41, 41, 128)       73856     \n",
      "_________________________________________________________________\n",
      "flatten_6 (Flatten)          (None, 215168)            0         \n",
      "_________________________________________________________________\n",
      "dense_9 (Dense)              (None, 5)                 1075845   \n",
      "=================================================================\n",
      "Total params: 1,169,093\n",
      "Trainable params: 1,169,093\n",
      "Non-trainable params: 0\n",
      "_________________________________________________________________\n"
     ]
    }
   ],
   "source": [
    "model_augmented.summary()"
   ]
  },
  {
   "cell_type": "markdown",
   "metadata": {},
   "source": [
    "Define a callback to save your best model"
   ]
  },
  {
   "cell_type": "code",
   "execution_count": 104,
   "metadata": {},
   "outputs": [],
   "source": [
    "callbacks = [\n",
    "    keras.callbacks.ModelCheckpoint(\n",
    "        filepath=\"lab5-augmented.keras\",\n",
    "        save_best_only=True,\n",
    "        monitor=\"val_loss\")\n",
    "]"
   ]
  },
  {
   "cell_type": "markdown",
   "metadata": {},
   "source": [
    "And fit your model"
   ]
  },
  {
   "cell_type": "code",
   "execution_count": 105,
   "metadata": {},
   "outputs": [
    {
     "name": "stdout",
     "output_type": "stream",
     "text": [
      "Epoch 1/50\n",
      "57/57 [==============================] - 27s 455ms/step - loss: 1.8335 - accuracy: 0.3987 - val_loss: 1.2208 - val_accuracy: 0.4482\n",
      "Epoch 2/50\n",
      "57/57 [==============================] - 27s 473ms/step - loss: 1.1886 - accuracy: 0.5229 - val_loss: 1.0815 - val_accuracy: 0.5685\n",
      "Epoch 3/50\n",
      "57/57 [==============================] - 28s 491ms/step - loss: 1.0806 - accuracy: 0.5666 - val_loss: 0.9468 - val_accuracy: 0.6334\n",
      "Epoch 4/50\n",
      "57/57 [==============================] - 27s 480ms/step - loss: 0.9852 - accuracy: 0.6220 - val_loss: 0.9742 - val_accuracy: 0.6225\n",
      "Epoch 5/50\n",
      "57/57 [==============================] - 28s 487ms/step - loss: 0.9287 - accuracy: 0.6415 - val_loss: 1.2683 - val_accuracy: 0.5466\n",
      "Epoch 6/50\n",
      "57/57 [==============================] - 27s 465ms/step - loss: 0.8879 - accuracy: 0.6718 - val_loss: 0.8566 - val_accuracy: 0.6701\n",
      "Epoch 7/50\n",
      "57/57 [==============================] - 28s 492ms/step - loss: 0.8261 - accuracy: 0.6836 - val_loss: 0.9991 - val_accuracy: 0.6386\n",
      "Epoch 8/50\n",
      "57/57 [==============================] - 28s 483ms/step - loss: 0.8160 - accuracy: 0.6955 - val_loss: 0.7427 - val_accuracy: 0.7209\n",
      "Epoch 9/50\n",
      "57/57 [==============================] - 28s 490ms/step - loss: 0.7789 - accuracy: 0.7109 - val_loss: 0.9856 - val_accuracy: 0.6585\n",
      "Epoch 10/50\n",
      "57/57 [==============================] - 28s 492ms/step - loss: 0.7753 - accuracy: 0.7059 - val_loss: 0.7311 - val_accuracy: 0.7299\n",
      "Epoch 11/50\n",
      "57/57 [==============================] - 28s 489ms/step - loss: 0.7404 - accuracy: 0.7288 - val_loss: 0.7094 - val_accuracy: 0.7441\n",
      "Epoch 12/50\n",
      "57/57 [==============================] - 28s 492ms/step - loss: 0.7268 - accuracy: 0.7313 - val_loss: 0.7461 - val_accuracy: 0.7132\n",
      "Epoch 13/50\n",
      "57/57 [==============================] - 29s 507ms/step - loss: 0.7043 - accuracy: 0.7351 - val_loss: 0.7542 - val_accuracy: 0.7273\n",
      "Epoch 14/50\n",
      "57/57 [==============================] - 28s 491ms/step - loss: 0.6938 - accuracy: 0.7437 - val_loss: 0.7190 - val_accuracy: 0.7383\n",
      "Epoch 15/50\n",
      "57/57 [==============================] - 29s 510ms/step - loss: 0.6807 - accuracy: 0.7448 - val_loss: 0.7442 - val_accuracy: 0.7318\n",
      "Epoch 16/50\n",
      "57/57 [==============================] - 28s 489ms/step - loss: 0.6504 - accuracy: 0.7632 - val_loss: 0.8707 - val_accuracy: 0.7068\n",
      "Epoch 17/50\n",
      "57/57 [==============================] - 28s 495ms/step - loss: 0.6345 - accuracy: 0.7588 - val_loss: 0.8215 - val_accuracy: 0.7164\n",
      "Epoch 18/50\n",
      "57/57 [==============================] - 27s 478ms/step - loss: 0.6329 - accuracy: 0.7616 - val_loss: 0.8363 - val_accuracy: 0.7241\n",
      "Epoch 19/50\n",
      "57/57 [==============================] - 28s 489ms/step - loss: 0.6074 - accuracy: 0.7687 - val_loss: 0.8333 - val_accuracy: 0.7177\n",
      "Epoch 20/50\n",
      "57/57 [==============================] - 28s 489ms/step - loss: 0.5893 - accuracy: 0.7795 - val_loss: 0.6789 - val_accuracy: 0.7691\n",
      "Epoch 21/50\n",
      "57/57 [==============================] - 28s 490ms/step - loss: 0.5939 - accuracy: 0.7811 - val_loss: 0.8516 - val_accuracy: 0.7093\n",
      "Epoch 22/50\n",
      "57/57 [==============================] - 27s 471ms/step - loss: 0.5671 - accuracy: 0.7968 - val_loss: 0.6410 - val_accuracy: 0.7904\n",
      "Epoch 23/50\n",
      "57/57 [==============================] - 28s 494ms/step - loss: 0.5642 - accuracy: 0.7921 - val_loss: 0.6529 - val_accuracy: 0.7666\n",
      "Epoch 24/50\n",
      "57/57 [==============================] - 28s 483ms/step - loss: 0.5522 - accuracy: 0.7979 - val_loss: 0.6594 - val_accuracy: 0.7884\n",
      "Epoch 25/50\n",
      "57/57 [==============================] - 28s 488ms/step - loss: 0.5343 - accuracy: 0.8007 - val_loss: 0.5538 - val_accuracy: 0.8064\n",
      "Epoch 26/50\n",
      "57/57 [==============================] - 32s 559ms/step - loss: 0.5404 - accuracy: 0.7943 - val_loss: 0.5204 - val_accuracy: 0.8219\n",
      "Epoch 27/50\n",
      "57/57 [==============================] - 29s 513ms/step - loss: 0.5164 - accuracy: 0.8097 - val_loss: 0.5371 - val_accuracy: 0.8167\n",
      "Epoch 28/50\n",
      "57/57 [==============================] - 28s 494ms/step - loss: 0.5115 - accuracy: 0.8177 - val_loss: 0.8114 - val_accuracy: 0.7434\n",
      "Epoch 29/50\n",
      "57/57 [==============================] - 29s 498ms/step - loss: 0.4932 - accuracy: 0.8208 - val_loss: 0.7825 - val_accuracy: 0.7621\n",
      "Epoch 30/50\n",
      "57/57 [==============================] - 28s 494ms/step - loss: 0.5129 - accuracy: 0.8158 - val_loss: 0.6041 - val_accuracy: 0.7814\n",
      "Epoch 31/50\n",
      "57/57 [==============================] - 28s 494ms/step - loss: 0.4799 - accuracy: 0.8265 - val_loss: 0.5437 - val_accuracy: 0.8199\n",
      "Epoch 32/50\n",
      "57/57 [==============================] - 28s 483ms/step - loss: 0.4885 - accuracy: 0.8271 - val_loss: 0.5823 - val_accuracy: 0.8193\n",
      "Epoch 33/50\n",
      "57/57 [==============================] - 29s 498ms/step - loss: 0.4634 - accuracy: 0.8331 - val_loss: 0.6767 - val_accuracy: 0.7826\n",
      "Epoch 34/50\n",
      "57/57 [==============================] - 28s 493ms/step - loss: 0.4271 - accuracy: 0.8387 - val_loss: 0.5768 - val_accuracy: 0.8193\n",
      "Epoch 35/50\n",
      "57/57 [==============================] - 28s 493ms/step - loss: 0.4461 - accuracy: 0.8420 - val_loss: 0.4961 - val_accuracy: 0.8289\n",
      "Epoch 36/50\n",
      "57/57 [==============================] - 29s 514ms/step - loss: 0.4465 - accuracy: 0.8398 - val_loss: 0.6216 - val_accuracy: 0.8051\n",
      "Epoch 37/50\n",
      "57/57 [==============================] - 28s 497ms/step - loss: 0.4509 - accuracy: 0.8376 - val_loss: 0.5189 - val_accuracy: 0.8302\n",
      "Epoch 38/50\n",
      "57/57 [==============================] - 28s 496ms/step - loss: 0.4129 - accuracy: 0.8461 - val_loss: 0.6405 - val_accuracy: 0.7910\n",
      "Epoch 39/50\n",
      "57/57 [==============================] - 28s 483ms/step - loss: 0.4198 - accuracy: 0.8566 - val_loss: 0.6007 - val_accuracy: 0.8270\n",
      "Epoch 40/50\n",
      "57/57 [==============================] - 29s 499ms/step - loss: 0.4246 - accuracy: 0.8461 - val_loss: 0.5157 - val_accuracy: 0.8431\n",
      "Epoch 41/50\n",
      "57/57 [==============================] - 29s 500ms/step - loss: 0.4234 - accuracy: 0.8455 - val_loss: 0.5251 - val_accuracy: 0.8270\n",
      "Epoch 42/50\n",
      "57/57 [==============================] - 29s 503ms/step - loss: 0.3997 - accuracy: 0.8516 - val_loss: 0.6874 - val_accuracy: 0.8051\n",
      "Epoch 43/50\n",
      "57/57 [==============================] - 28s 496ms/step - loss: 0.3842 - accuracy: 0.8574 - val_loss: 0.9996 - val_accuracy: 0.7723\n",
      "Epoch 44/50\n",
      "57/57 [==============================] - 28s 497ms/step - loss: 0.3864 - accuracy: 0.8607 - val_loss: 0.5713 - val_accuracy: 0.8322\n",
      "Epoch 45/50\n",
      "57/57 [==============================] - 28s 494ms/step - loss: 0.3700 - accuracy: 0.8588 - val_loss: 0.5773 - val_accuracy: 0.8386\n",
      "Epoch 46/50\n",
      "57/57 [==============================] - 28s 480ms/step - loss: 0.3777 - accuracy: 0.8610 - val_loss: 0.5154 - val_accuracy: 0.8367\n",
      "Epoch 47/50\n",
      "57/57 [==============================] - 28s 498ms/step - loss: 0.3854 - accuracy: 0.8632 - val_loss: 0.5953 - val_accuracy: 0.8270\n",
      "Epoch 48/50\n",
      "57/57 [==============================] - 29s 501ms/step - loss: 0.3474 - accuracy: 0.8684 - val_loss: 0.7196 - val_accuracy: 0.7987\n",
      "Epoch 49/50\n",
      "57/57 [==============================] - 29s 502ms/step - loss: 0.3706 - accuracy: 0.8662 - val_loss: 0.6974 - val_accuracy: 0.8109\n",
      "Epoch 50/50\n",
      "57/57 [==============================] - 28s 491ms/step - loss: 0.3572 - accuracy: 0.8722 - val_loss: 0.6137 - val_accuracy: 0.8219\n"
     ]
    }
   ],
   "source": [
    "history_augmented = model_augmented.fit(\n",
    "    train_dataset,\n",
    "    epochs=50,\n",
    "    validation_data=validation_dataset,\n",
    "    callbacks=callbacks)"
   ]
  },
  {
   "cell_type": "markdown",
   "metadata": {
    "tags": []
   },
   "source": [
    "### Analyzing the fitting performance over epochs"
   ]
  },
  {
   "cell_type": "markdown",
   "metadata": {},
   "source": [
    "Show the training accuracy along with the epochs"
   ]
  },
  {
   "cell_type": "code",
   "execution_count": 106,
   "metadata": {},
   "outputs": [
    {
     "data": {
      "image/png": "[encoded data removed]",
      "text/plain": [
       "<Figure size 432x288 with 1 Axes>"
      ]
     },
     "metadata": {
      "needs_background": "light"
     },
     "output_type": "display_data"
    },
    {
     "data": {
      "image/png": "[encoded data removed]",
      "text/plain": [
       "<Figure size 432x288 with 1 Axes>"
      ]
     },
     "metadata": {
      "needs_background": "light"
     },
     "output_type": "display_data"
    }
   ],
   "source": [
    "accuracy = history_augmented.history[\"accuracy\"]\n",
    "val_accuracy = history_augmented.history[\"val_accuracy\"]\n",
    "loss = history_augmented.history[\"loss\"]\n",
    "val_loss = history_augmented.history[\"val_loss\"]\n",
    "epochs = range(1, len(loss) + 1)\n",
    "plt.plot(epochs, accuracy, \"bo\", label=\"Training accuracy\")\n",
    "plt.plot(epochs, val_accuracy, \"b\", label=\"Validation accuracy\")\n",
    "plt.title(\"Training and validation accuracy\")\n",
    "plt.legend()\n",
    "plt.figure()\n",
    "plt.plot(epochs, loss, \"bo\", label=\"Training loss\")\n",
    "plt.plot(epochs, val_loss, \"b\", label=\"Validation loss\")\n",
    "plt.title(\"Training and validation loss\")\n",
    "plt.legend()\n",
    "plt.show()"
   ]
  },
  {
   "cell_type": "markdown",
   "metadata": {},
   "source": [
    "### Predicting the test set"
   ]
  },
  {
   "cell_type": "markdown",
   "metadata": {},
   "source": [
    "Load your best model"
   ]
  },
  {
   "cell_type": "code",
   "execution_count": 107,
   "metadata": {},
   "outputs": [],
   "source": [
    "test_model = keras.models.load_model(\"lab5-augmented.keras\")"
   ]
  },
  {
   "cell_type": "markdown",
   "metadata": {},
   "source": [
    "Finally, run a model evaluation and store the loss and accuracy in the `test_loss_2` and `test_acc_2` variables."
   ]
  },
  {
   "cell_type": "code",
   "execution_count": 108,
   "metadata": {},
   "outputs": [
    {
     "name": "stdout",
     "output_type": "stream",
     "text": [
      "25/25 [==============================] - 3s 117ms/step - loss: 0.4422 - accuracy: 0.8567\n",
      "Test accuracy: 0.857\n"
     ]
    }
   ],
   "source": [
    "test_loss_2, test_acc_2 = test_model.evaluate(test_dataset)\n",
    "print(f\"Test accuracy: {test_acc_2:.3f}\")"
   ]
  },
  {
   "cell_type": "code",
   "execution_count": 109,
   "metadata": {},
   "outputs": [
    {
     "data": {
      "text/plain": [
       "(0.44217947125434875, 0.8566858768463135)"
      ]
     },
     "execution_count": 109,
     "metadata": {},
     "output_type": "execute_result"
    }
   ],
   "source": [
    "test_loss_2, test_acc_2"
   ]
  },
  {
   "cell_type": "code",
   "execution_count": 110,
   "metadata": {},
   "outputs": [
    {
     "data": {
      "text/plain": [
       "array([[252,  30,  14,   4,  16],\n",
       "       [ 14, 331,   6,  10,  13],\n",
       "       [  8,  12, 235,   3,  24],\n",
       "       [  7,   9,   5, 227,   2],\n",
       "       [  4,  12,  30,   1, 294]], dtype=int64)"
      ]
     },
     "execution_count": 110,
     "metadata": {},
     "output_type": "execute_result"
    }
   ],
   "source": [
    "Y_pred = test_model.predict(test_dataset)\n",
    "y_pred = [np.argmax(probability) for probability in Y_pred]\n",
    "y_true = np.concatenate([y for x, y in test_dataset], axis=0)\n",
    "\n",
    "metrics.confusion_matrix(y_true, y_pred)"
   ]
  },
  {
   "cell_type": "code",
   "execution_count": 111,
   "metadata": {},
   "outputs": [
    {
     "name": "stdout",
     "output_type": "stream",
     "text": [
      "              precision    recall  f1-score   support\n",
      "\n",
      "           0       0.88      0.80      0.84       316\n",
      "           1       0.84      0.89      0.86       374\n",
      "           2       0.81      0.83      0.82       282\n",
      "           3       0.93      0.91      0.92       250\n",
      "           4       0.84      0.86      0.85       341\n",
      "\n",
      "    accuracy                           0.86      1563\n",
      "   macro avg       0.86      0.86      0.86      1563\n",
      "weighted avg       0.86      0.86      0.86      1563\n",
      "\n"
     ]
    }
   ],
   "source": [
    "print(metrics.classification_report(y_true, y_pred))"
   ]
  },
  {
   "cell_type": "markdown",
   "metadata": {
    "tags": []
   },
   "source": [
    "## Using a Pretrained Convolutional Base"
   ]
  },
  {
   "cell_type": "markdown",
   "metadata": {},
   "source": [
    "### Architecture"
   ]
  },
  {
   "cell_type": "markdown",
   "metadata": {},
   "source": [
    "Some research teams have trained convolutional neural networks on much larger datasets. We have seen during the lecture that the networks can model conceptual patterns as they go through the layers. This was identified by Le Cun in his first experiments [http://yann.lecun.com/exdb/lenet/](http://yann.lecun.com/exdb/lenet/). In this last part, you will train classifiers on top of a pretrained convolutional base.\n",
    "1. Train your network and report the training and validation losses and accuracies.\n",
    "2. Apply your network to the test set and report the accuracy as well as the confusion matrix you obtained."
   ]
  },
  {
   "cell_type": "code",
   "execution_count": 69,
   "metadata": {},
   "outputs": [],
   "source": [
    "from tensorflow.keras.applications.vgg16 import VGG16\n",
    "from tensorflow.keras.applications.inception_v3 import InceptionV3"
   ]
  },
  {
   "cell_type": "code",
   "execution_count": 70,
   "metadata": {},
   "outputs": [
    {
     "name": "stdout",
     "output_type": "stream",
     "text": [
      "Model: \"inception_v3\"\n",
      "__________________________________________________________________________________________________\n",
      "Layer (type)                    Output Shape         Param #     Connected to                     \n",
      "==================================================================================================\n",
      "input_7 (InputLayer)            [(None, 180, 180, 3) 0                                            \n",
      "__________________________________________________________________________________________________\n",
      "conv2d_197 (Conv2D)             (None, 89, 89, 32)   864         input_7[0][0]                    \n",
      "__________________________________________________________________________________________________\n",
      "batch_normalization_188 (BatchN (None, 89, 89, 32)   96          conv2d_197[0][0]                 \n",
      "__________________________________________________________________________________________________\n",
      "activation_188 (Activation)     (None, 89, 89, 32)   0           batch_normalization_188[0][0]    \n",
      "__________________________________________________________________________________________________\n",
      "conv2d_198 (Conv2D)             (None, 87, 87, 32)   9216        activation_188[0][0]             \n",
      "__________________________________________________________________________________________________\n",
      "batch_normalization_189 (BatchN (None, 87, 87, 32)   96          conv2d_198[0][0]                 \n",
      "__________________________________________________________________________________________________\n",
      "activation_189 (Activation)     (None, 87, 87, 32)   0           batch_normalization_189[0][0]    \n",
      "__________________________________________________________________________________________________\n",
      "conv2d_199 (Conv2D)             (None, 87, 87, 64)   18432       activation_189[0][0]             \n",
      "__________________________________________________________________________________________________\n",
      "batch_normalization_190 (BatchN (None, 87, 87, 64)   192         conv2d_199[0][0]                 \n",
      "__________________________________________________________________________________________________\n",
      "activation_190 (Activation)     (None, 87, 87, 64)   0           batch_normalization_190[0][0]    \n",
      "__________________________________________________________________________________________________\n",
      "max_pooling2d_14 (MaxPooling2D) (None, 43, 43, 64)   0           activation_190[0][0]             \n",
      "__________________________________________________________________________________________________\n",
      "conv2d_200 (Conv2D)             (None, 43, 43, 80)   5120        max_pooling2d_14[0][0]           \n",
      "__________________________________________________________________________________________________\n",
      "batch_normalization_191 (BatchN (None, 43, 43, 80)   240         conv2d_200[0][0]                 \n",
      "__________________________________________________________________________________________________\n",
      "activation_191 (Activation)     (None, 43, 43, 80)   0           batch_normalization_191[0][0]    \n",
      "__________________________________________________________________________________________________\n",
      "conv2d_201 (Conv2D)             (None, 41, 41, 192)  138240      activation_191[0][0]             \n",
      "__________________________________________________________________________________________________\n",
      "batch_normalization_192 (BatchN (None, 41, 41, 192)  576         conv2d_201[0][0]                 \n",
      "__________________________________________________________________________________________________\n",
      "activation_192 (Activation)     (None, 41, 41, 192)  0           batch_normalization_192[0][0]    \n",
      "__________________________________________________________________________________________________\n",
      "max_pooling2d_15 (MaxPooling2D) (None, 20, 20, 192)  0           activation_192[0][0]             \n",
      "__________________________________________________________________________________________________\n",
      "conv2d_205 (Conv2D)             (None, 20, 20, 64)   12288       max_pooling2d_15[0][0]           \n",
      "__________________________________________________________________________________________________\n",
      "batch_normalization_196 (BatchN (None, 20, 20, 64)   192         conv2d_205[0][0]                 \n",
      "__________________________________________________________________________________________________\n",
      "activation_196 (Activation)     (None, 20, 20, 64)   0           batch_normalization_196[0][0]    \n",
      "__________________________________________________________________________________________________\n",
      "conv2d_203 (Conv2D)             (None, 20, 20, 48)   9216        max_pooling2d_15[0][0]           \n",
      "__________________________________________________________________________________________________\n",
      "conv2d_206 (Conv2D)             (None, 20, 20, 96)   55296       activation_196[0][0]             \n",
      "__________________________________________________________________________________________________\n",
      "batch_normalization_194 (BatchN (None, 20, 20, 48)   144         conv2d_203[0][0]                 \n",
      "__________________________________________________________________________________________________\n",
      "batch_normalization_197 (BatchN (None, 20, 20, 96)   288         conv2d_206[0][0]                 \n",
      "__________________________________________________________________________________________________\n",
      "activation_194 (Activation)     (None, 20, 20, 48)   0           batch_normalization_194[0][0]    \n",
      "__________________________________________________________________________________________________\n",
      "activation_197 (Activation)     (None, 20, 20, 96)   0           batch_normalization_197[0][0]    \n",
      "__________________________________________________________________________________________________\n",
      "average_pooling2d_18 (AveragePo (None, 20, 20, 192)  0           max_pooling2d_15[0][0]           \n",
      "__________________________________________________________________________________________________\n",
      "conv2d_202 (Conv2D)             (None, 20, 20, 64)   12288       max_pooling2d_15[0][0]           \n",
      "__________________________________________________________________________________________________\n",
      "conv2d_204 (Conv2D)             (None, 20, 20, 64)   76800       activation_194[0][0]             \n",
      "__________________________________________________________________________________________________\n",
      "conv2d_207 (Conv2D)             (None, 20, 20, 96)   82944       activation_197[0][0]             \n",
      "__________________________________________________________________________________________________\n",
      "conv2d_208 (Conv2D)             (None, 20, 20, 32)   6144        average_pooling2d_18[0][0]       \n",
      "__________________________________________________________________________________________________\n",
      "batch_normalization_193 (BatchN (None, 20, 20, 64)   192         conv2d_202[0][0]                 \n",
      "__________________________________________________________________________________________________\n",
      "batch_normalization_195 (BatchN (None, 20, 20, 64)   192         conv2d_204[0][0]                 \n",
      "__________________________________________________________________________________________________\n",
      "batch_normalization_198 (BatchN (None, 20, 20, 96)   288         conv2d_207[0][0]                 \n",
      "__________________________________________________________________________________________________\n",
      "batch_normalization_199 (BatchN (None, 20, 20, 32)   96          conv2d_208[0][0]                 \n",
      "__________________________________________________________________________________________________\n",
      "activation_193 (Activation)     (None, 20, 20, 64)   0           batch_normalization_193[0][0]    \n",
      "__________________________________________________________________________________________________\n",
      "activation_195 (Activation)     (None, 20, 20, 64)   0           batch_normalization_195[0][0]    \n",
      "__________________________________________________________________________________________________\n",
      "activation_198 (Activation)     (None, 20, 20, 96)   0           batch_normalization_198[0][0]    \n",
      "__________________________________________________________________________________________________\n",
      "activation_199 (Activation)     (None, 20, 20, 32)   0           batch_normalization_199[0][0]    \n",
      "__________________________________________________________________________________________________\n",
      "mixed0 (Concatenate)            (None, 20, 20, 256)  0           activation_193[0][0]             \n",
      "                                                                 activation_195[0][0]             \n",
      "                                                                 activation_198[0][0]             \n",
      "                                                                 activation_199[0][0]             \n",
      "__________________________________________________________________________________________________\n",
      "conv2d_212 (Conv2D)             (None, 20, 20, 64)   16384       mixed0[0][0]                     \n",
      "__________________________________________________________________________________________________\n",
      "batch_normalization_203 (BatchN (None, 20, 20, 64)   192         conv2d_212[0][0]                 \n",
      "__________________________________________________________________________________________________\n",
      "activation_203 (Activation)     (None, 20, 20, 64)   0           batch_normalization_203[0][0]    \n",
      "__________________________________________________________________________________________________\n",
      "conv2d_210 (Conv2D)             (None, 20, 20, 48)   12288       mixed0[0][0]                     \n",
      "__________________________________________________________________________________________________\n",
      "conv2d_213 (Conv2D)             (None, 20, 20, 96)   55296       activation_203[0][0]             \n",
      "__________________________________________________________________________________________________\n",
      "batch_normalization_201 (BatchN (None, 20, 20, 48)   144         conv2d_210[0][0]                 \n",
      "__________________________________________________________________________________________________\n",
      "batch_normalization_204 (BatchN (None, 20, 20, 96)   288         conv2d_213[0][0]                 \n",
      "__________________________________________________________________________________________________\n",
      "activation_201 (Activation)     (None, 20, 20, 48)   0           batch_normalization_201[0][0]    \n",
      "__________________________________________________________________________________________________\n",
      "activation_204 (Activation)     (None, 20, 20, 96)   0           batch_normalization_204[0][0]    \n",
      "__________________________________________________________________________________________________\n",
      "average_pooling2d_19 (AveragePo (None, 20, 20, 256)  0           mixed0[0][0]                     \n",
      "__________________________________________________________________________________________________\n",
      "conv2d_209 (Conv2D)             (None, 20, 20, 64)   16384       mixed0[0][0]                     \n",
      "__________________________________________________________________________________________________\n",
      "conv2d_211 (Conv2D)             (None, 20, 20, 64)   76800       activation_201[0][0]             \n",
      "__________________________________________________________________________________________________\n",
      "conv2d_214 (Conv2D)             (None, 20, 20, 96)   82944       activation_204[0][0]             \n",
      "__________________________________________________________________________________________________\n",
      "conv2d_215 (Conv2D)             (None, 20, 20, 64)   16384       average_pooling2d_19[0][0]       \n",
      "__________________________________________________________________________________________________\n",
      "batch_normalization_200 (BatchN (None, 20, 20, 64)   192         conv2d_209[0][0]                 \n",
      "__________________________________________________________________________________________________\n",
      "batch_normalization_202 (BatchN (None, 20, 20, 64)   192         conv2d_211[0][0]                 \n",
      "__________________________________________________________________________________________________\n",
      "batch_normalization_205 (BatchN (None, 20, 20, 96)   288         conv2d_214[0][0]                 \n",
      "__________________________________________________________________________________________________\n",
      "batch_normalization_206 (BatchN (None, 20, 20, 64)   192         conv2d_215[0][0]                 \n",
      "__________________________________________________________________________________________________\n",
      "activation_200 (Activation)     (None, 20, 20, 64)   0           batch_normalization_200[0][0]    \n",
      "__________________________________________________________________________________________________\n",
      "activation_202 (Activation)     (None, 20, 20, 64)   0           batch_normalization_202[0][0]    \n",
      "__________________________________________________________________________________________________\n",
      "activation_205 (Activation)     (None, 20, 20, 96)   0           batch_normalization_205[0][0]    \n",
      "__________________________________________________________________________________________________\n",
      "activation_206 (Activation)     (None, 20, 20, 64)   0           batch_normalization_206[0][0]    \n",
      "__________________________________________________________________________________________________\n",
      "mixed1 (Concatenate)            (None, 20, 20, 288)  0           activation_200[0][0]             \n",
      "                                                                 activation_202[0][0]             \n",
      "                                                                 activation_205[0][0]             \n",
      "                                                                 activation_206[0][0]             \n",
      "__________________________________________________________________________________________________\n",
      "conv2d_219 (Conv2D)             (None, 20, 20, 64)   18432       mixed1[0][0]                     \n",
      "__________________________________________________________________________________________________\n",
      "batch_normalization_210 (BatchN (None, 20, 20, 64)   192         conv2d_219[0][0]                 \n",
      "__________________________________________________________________________________________________\n",
      "activation_210 (Activation)     (None, 20, 20, 64)   0           batch_normalization_210[0][0]    \n",
      "__________________________________________________________________________________________________\n",
      "conv2d_217 (Conv2D)             (None, 20, 20, 48)   13824       mixed1[0][0]                     \n",
      "__________________________________________________________________________________________________\n",
      "conv2d_220 (Conv2D)             (None, 20, 20, 96)   55296       activation_210[0][0]             \n",
      "__________________________________________________________________________________________________\n",
      "batch_normalization_208 (BatchN (None, 20, 20, 48)   144         conv2d_217[0][0]                 \n",
      "__________________________________________________________________________________________________\n",
      "batch_normalization_211 (BatchN (None, 20, 20, 96)   288         conv2d_220[0][0]                 \n",
      "__________________________________________________________________________________________________\n",
      "activation_208 (Activation)     (None, 20, 20, 48)   0           batch_normalization_208[0][0]    \n",
      "__________________________________________________________________________________________________\n",
      "activation_211 (Activation)     (None, 20, 20, 96)   0           batch_normalization_211[0][0]    \n",
      "__________________________________________________________________________________________________\n",
      "average_pooling2d_20 (AveragePo (None, 20, 20, 288)  0           mixed1[0][0]                     \n",
      "__________________________________________________________________________________________________\n",
      "conv2d_216 (Conv2D)             (None, 20, 20, 64)   18432       mixed1[0][0]                     \n",
      "__________________________________________________________________________________________________\n",
      "conv2d_218 (Conv2D)             (None, 20, 20, 64)   76800       activation_208[0][0]             \n",
      "__________________________________________________________________________________________________\n",
      "conv2d_221 (Conv2D)             (None, 20, 20, 96)   82944       activation_211[0][0]             \n",
      "__________________________________________________________________________________________________\n",
      "conv2d_222 (Conv2D)             (None, 20, 20, 64)   18432       average_pooling2d_20[0][0]       \n",
      "__________________________________________________________________________________________________\n",
      "batch_normalization_207 (BatchN (None, 20, 20, 64)   192         conv2d_216[0][0]                 \n",
      "__________________________________________________________________________________________________\n",
      "batch_normalization_209 (BatchN (None, 20, 20, 64)   192         conv2d_218[0][0]                 \n",
      "__________________________________________________________________________________________________\n",
      "batch_normalization_212 (BatchN (None, 20, 20, 96)   288         conv2d_221[0][0]                 \n",
      "__________________________________________________________________________________________________\n",
      "batch_normalization_213 (BatchN (None, 20, 20, 64)   192         conv2d_222[0][0]                 \n",
      "__________________________________________________________________________________________________\n",
      "activation_207 (Activation)     (None, 20, 20, 64)   0           batch_normalization_207[0][0]    \n",
      "__________________________________________________________________________________________________\n",
      "activation_209 (Activation)     (None, 20, 20, 64)   0           batch_normalization_209[0][0]    \n",
      "__________________________________________________________________________________________________\n",
      "activation_212 (Activation)     (None, 20, 20, 96)   0           batch_normalization_212[0][0]    \n",
      "__________________________________________________________________________________________________\n",
      "activation_213 (Activation)     (None, 20, 20, 64)   0           batch_normalization_213[0][0]    \n",
      "__________________________________________________________________________________________________\n",
      "mixed2 (Concatenate)            (None, 20, 20, 288)  0           activation_207[0][0]             \n",
      "                                                                 activation_209[0][0]             \n",
      "                                                                 activation_212[0][0]             \n",
      "                                                                 activation_213[0][0]             \n",
      "__________________________________________________________________________________________________\n",
      "conv2d_224 (Conv2D)             (None, 20, 20, 64)   18432       mixed2[0][0]                     \n",
      "__________________________________________________________________________________________________\n",
      "batch_normalization_215 (BatchN (None, 20, 20, 64)   192         conv2d_224[0][0]                 \n",
      "__________________________________________________________________________________________________\n",
      "activation_215 (Activation)     (None, 20, 20, 64)   0           batch_normalization_215[0][0]    \n",
      "__________________________________________________________________________________________________\n",
      "conv2d_225 (Conv2D)             (None, 20, 20, 96)   55296       activation_215[0][0]             \n",
      "__________________________________________________________________________________________________\n",
      "batch_normalization_216 (BatchN (None, 20, 20, 96)   288         conv2d_225[0][0]                 \n",
      "__________________________________________________________________________________________________\n",
      "activation_216 (Activation)     (None, 20, 20, 96)   0           batch_normalization_216[0][0]    \n",
      "__________________________________________________________________________________________________\n",
      "conv2d_223 (Conv2D)             (None, 9, 9, 384)    995328      mixed2[0][0]                     \n",
      "__________________________________________________________________________________________________\n",
      "conv2d_226 (Conv2D)             (None, 9, 9, 96)     82944       activation_216[0][0]             \n",
      "__________________________________________________________________________________________________\n",
      "batch_normalization_214 (BatchN (None, 9, 9, 384)    1152        conv2d_223[0][0]                 \n",
      "__________________________________________________________________________________________________\n",
      "batch_normalization_217 (BatchN (None, 9, 9, 96)     288         conv2d_226[0][0]                 \n",
      "__________________________________________________________________________________________________\n",
      "activation_214 (Activation)     (None, 9, 9, 384)    0           batch_normalization_214[0][0]    \n",
      "__________________________________________________________________________________________________\n",
      "activation_217 (Activation)     (None, 9, 9, 96)     0           batch_normalization_217[0][0]    \n",
      "__________________________________________________________________________________________________\n",
      "max_pooling2d_16 (MaxPooling2D) (None, 9, 9, 288)    0           mixed2[0][0]                     \n",
      "__________________________________________________________________________________________________\n",
      "mixed3 (Concatenate)            (None, 9, 9, 768)    0           activation_214[0][0]             \n",
      "                                                                 activation_217[0][0]             \n",
      "                                                                 max_pooling2d_16[0][0]           \n",
      "__________________________________________________________________________________________________\n",
      "conv2d_231 (Conv2D)             (None, 9, 9, 128)    98304       mixed3[0][0]                     \n",
      "__________________________________________________________________________________________________\n",
      "batch_normalization_222 (BatchN (None, 9, 9, 128)    384         conv2d_231[0][0]                 \n",
      "__________________________________________________________________________________________________\n",
      "activation_222 (Activation)     (None, 9, 9, 128)    0           batch_normalization_222[0][0]    \n",
      "__________________________________________________________________________________________________\n",
      "conv2d_232 (Conv2D)             (None, 9, 9, 128)    114688      activation_222[0][0]             \n",
      "__________________________________________________________________________________________________\n",
      "batch_normalization_223 (BatchN (None, 9, 9, 128)    384         conv2d_232[0][0]                 \n",
      "__________________________________________________________________________________________________\n",
      "activation_223 (Activation)     (None, 9, 9, 128)    0           batch_normalization_223[0][0]    \n",
      "__________________________________________________________________________________________________\n",
      "conv2d_228 (Conv2D)             (None, 9, 9, 128)    98304       mixed3[0][0]                     \n",
      "__________________________________________________________________________________________________\n",
      "conv2d_233 (Conv2D)             (None, 9, 9, 128)    114688      activation_223[0][0]             \n",
      "__________________________________________________________________________________________________\n",
      "batch_normalization_219 (BatchN (None, 9, 9, 128)    384         conv2d_228[0][0]                 \n",
      "__________________________________________________________________________________________________\n",
      "batch_normalization_224 (BatchN (None, 9, 9, 128)    384         conv2d_233[0][0]                 \n",
      "__________________________________________________________________________________________________\n",
      "activation_219 (Activation)     (None, 9, 9, 128)    0           batch_normalization_219[0][0]    \n",
      "__________________________________________________________________________________________________\n",
      "activation_224 (Activation)     (None, 9, 9, 128)    0           batch_normalization_224[0][0]    \n",
      "__________________________________________________________________________________________________\n",
      "conv2d_229 (Conv2D)             (None, 9, 9, 128)    114688      activation_219[0][0]             \n",
      "__________________________________________________________________________________________________\n",
      "conv2d_234 (Conv2D)             (None, 9, 9, 128)    114688      activation_224[0][0]             \n",
      "__________________________________________________________________________________________________\n",
      "batch_normalization_220 (BatchN (None, 9, 9, 128)    384         conv2d_229[0][0]                 \n",
      "__________________________________________________________________________________________________\n",
      "batch_normalization_225 (BatchN (None, 9, 9, 128)    384         conv2d_234[0][0]                 \n",
      "__________________________________________________________________________________________________\n",
      "activation_220 (Activation)     (None, 9, 9, 128)    0           batch_normalization_220[0][0]    \n",
      "__________________________________________________________________________________________________\n",
      "activation_225 (Activation)     (None, 9, 9, 128)    0           batch_normalization_225[0][0]    \n",
      "__________________________________________________________________________________________________\n",
      "average_pooling2d_21 (AveragePo (None, 9, 9, 768)    0           mixed3[0][0]                     \n",
      "__________________________________________________________________________________________________\n",
      "conv2d_227 (Conv2D)             (None, 9, 9, 192)    147456      mixed3[0][0]                     \n",
      "__________________________________________________________________________________________________\n",
      "conv2d_230 (Conv2D)             (None, 9, 9, 192)    172032      activation_220[0][0]             \n",
      "__________________________________________________________________________________________________\n",
      "conv2d_235 (Conv2D)             (None, 9, 9, 192)    172032      activation_225[0][0]             \n",
      "__________________________________________________________________________________________________\n",
      "conv2d_236 (Conv2D)             (None, 9, 9, 192)    147456      average_pooling2d_21[0][0]       \n",
      "__________________________________________________________________________________________________\n",
      "batch_normalization_218 (BatchN (None, 9, 9, 192)    576         conv2d_227[0][0]                 \n",
      "__________________________________________________________________________________________________\n",
      "batch_normalization_221 (BatchN (None, 9, 9, 192)    576         conv2d_230[0][0]                 \n",
      "__________________________________________________________________________________________________\n",
      "batch_normalization_226 (BatchN (None, 9, 9, 192)    576         conv2d_235[0][0]                 \n",
      "__________________________________________________________________________________________________\n",
      "batch_normalization_227 (BatchN (None, 9, 9, 192)    576         conv2d_236[0][0]                 \n",
      "__________________________________________________________________________________________________\n",
      "activation_218 (Activation)     (None, 9, 9, 192)    0           batch_normalization_218[0][0]    \n",
      "__________________________________________________________________________________________________\n",
      "activation_221 (Activation)     (None, 9, 9, 192)    0           batch_normalization_221[0][0]    \n",
      "__________________________________________________________________________________________________\n",
      "activation_226 (Activation)     (None, 9, 9, 192)    0           batch_normalization_226[0][0]    \n",
      "__________________________________________________________________________________________________\n",
      "activation_227 (Activation)     (None, 9, 9, 192)    0           batch_normalization_227[0][0]    \n",
      "__________________________________________________________________________________________________\n",
      "mixed4 (Concatenate)            (None, 9, 9, 768)    0           activation_218[0][0]             \n",
      "                                                                 activation_221[0][0]             \n",
      "                                                                 activation_226[0][0]             \n",
      "                                                                 activation_227[0][0]             \n",
      "__________________________________________________________________________________________________\n",
      "conv2d_241 (Conv2D)             (None, 9, 9, 160)    122880      mixed4[0][0]                     \n",
      "__________________________________________________________________________________________________\n",
      "batch_normalization_232 (BatchN (None, 9, 9, 160)    480         conv2d_241[0][0]                 \n",
      "__________________________________________________________________________________________________\n",
      "activation_232 (Activation)     (None, 9, 9, 160)    0           batch_normalization_232[0][0]    \n",
      "__________________________________________________________________________________________________\n",
      "conv2d_242 (Conv2D)             (None, 9, 9, 160)    179200      activation_232[0][0]             \n",
      "__________________________________________________________________________________________________\n",
      "batch_normalization_233 (BatchN (None, 9, 9, 160)    480         conv2d_242[0][0]                 \n",
      "__________________________________________________________________________________________________\n",
      "activation_233 (Activation)     (None, 9, 9, 160)    0           batch_normalization_233[0][0]    \n",
      "__________________________________________________________________________________________________\n",
      "conv2d_238 (Conv2D)             (None, 9, 9, 160)    122880      mixed4[0][0]                     \n",
      "__________________________________________________________________________________________________\n",
      "conv2d_243 (Conv2D)             (None, 9, 9, 160)    179200      activation_233[0][0]             \n",
      "__________________________________________________________________________________________________\n",
      "batch_normalization_229 (BatchN (None, 9, 9, 160)    480         conv2d_238[0][0]                 \n",
      "__________________________________________________________________________________________________\n",
      "batch_normalization_234 (BatchN (None, 9, 9, 160)    480         conv2d_243[0][0]                 \n",
      "__________________________________________________________________________________________________\n",
      "activation_229 (Activation)     (None, 9, 9, 160)    0           batch_normalization_229[0][0]    \n",
      "__________________________________________________________________________________________________\n",
      "activation_234 (Activation)     (None, 9, 9, 160)    0           batch_normalization_234[0][0]    \n",
      "__________________________________________________________________________________________________\n",
      "conv2d_239 (Conv2D)             (None, 9, 9, 160)    179200      activation_229[0][0]             \n",
      "__________________________________________________________________________________________________\n",
      "conv2d_244 (Conv2D)             (None, 9, 9, 160)    179200      activation_234[0][0]             \n",
      "__________________________________________________________________________________________________\n",
      "batch_normalization_230 (BatchN (None, 9, 9, 160)    480         conv2d_239[0][0]                 \n",
      "__________________________________________________________________________________________________\n",
      "batch_normalization_235 (BatchN (None, 9, 9, 160)    480         conv2d_244[0][0]                 \n",
      "__________________________________________________________________________________________________\n",
      "activation_230 (Activation)     (None, 9, 9, 160)    0           batch_normalization_230[0][0]    \n",
      "__________________________________________________________________________________________________\n",
      "activation_235 (Activation)     (None, 9, 9, 160)    0           batch_normalization_235[0][0]    \n",
      "__________________________________________________________________________________________________\n",
      "average_pooling2d_22 (AveragePo (None, 9, 9, 768)    0           mixed4[0][0]                     \n",
      "__________________________________________________________________________________________________\n",
      "conv2d_237 (Conv2D)             (None, 9, 9, 192)    147456      mixed4[0][0]                     \n",
      "__________________________________________________________________________________________________\n",
      "conv2d_240 (Conv2D)             (None, 9, 9, 192)    215040      activation_230[0][0]             \n",
      "__________________________________________________________________________________________________\n",
      "conv2d_245 (Conv2D)             (None, 9, 9, 192)    215040      activation_235[0][0]             \n",
      "__________________________________________________________________________________________________\n",
      "conv2d_246 (Conv2D)             (None, 9, 9, 192)    147456      average_pooling2d_22[0][0]       \n",
      "__________________________________________________________________________________________________\n",
      "batch_normalization_228 (BatchN (None, 9, 9, 192)    576         conv2d_237[0][0]                 \n",
      "__________________________________________________________________________________________________\n",
      "batch_normalization_231 (BatchN (None, 9, 9, 192)    576         conv2d_240[0][0]                 \n",
      "__________________________________________________________________________________________________\n",
      "batch_normalization_236 (BatchN (None, 9, 9, 192)    576         conv2d_245[0][0]                 \n",
      "__________________________________________________________________________________________________\n",
      "batch_normalization_237 (BatchN (None, 9, 9, 192)    576         conv2d_246[0][0]                 \n",
      "__________________________________________________________________________________________________\n",
      "activation_228 (Activation)     (None, 9, 9, 192)    0           batch_normalization_228[0][0]    \n",
      "__________________________________________________________________________________________________\n",
      "activation_231 (Activation)     (None, 9, 9, 192)    0           batch_normalization_231[0][0]    \n",
      "__________________________________________________________________________________________________\n",
      "activation_236 (Activation)     (None, 9, 9, 192)    0           batch_normalization_236[0][0]    \n",
      "__________________________________________________________________________________________________\n",
      "activation_237 (Activation)     (None, 9, 9, 192)    0           batch_normalization_237[0][0]    \n",
      "__________________________________________________________________________________________________\n",
      "mixed5 (Concatenate)            (None, 9, 9, 768)    0           activation_228[0][0]             \n",
      "                                                                 activation_231[0][0]             \n",
      "                                                                 activation_236[0][0]             \n",
      "                                                                 activation_237[0][0]             \n",
      "__________________________________________________________________________________________________\n",
      "conv2d_251 (Conv2D)             (None, 9, 9, 160)    122880      mixed5[0][0]                     \n",
      "__________________________________________________________________________________________________\n",
      "batch_normalization_242 (BatchN (None, 9, 9, 160)    480         conv2d_251[0][0]                 \n",
      "__________________________________________________________________________________________________\n",
      "activation_242 (Activation)     (None, 9, 9, 160)    0           batch_normalization_242[0][0]    \n",
      "__________________________________________________________________________________________________\n",
      "conv2d_252 (Conv2D)             (None, 9, 9, 160)    179200      activation_242[0][0]             \n",
      "__________________________________________________________________________________________________\n",
      "batch_normalization_243 (BatchN (None, 9, 9, 160)    480         conv2d_252[0][0]                 \n",
      "__________________________________________________________________________________________________\n",
      "activation_243 (Activation)     (None, 9, 9, 160)    0           batch_normalization_243[0][0]    \n",
      "__________________________________________________________________________________________________\n",
      "conv2d_248 (Conv2D)             (None, 9, 9, 160)    122880      mixed5[0][0]                     \n",
      "__________________________________________________________________________________________________\n",
      "conv2d_253 (Conv2D)             (None, 9, 9, 160)    179200      activation_243[0][0]             \n",
      "__________________________________________________________________________________________________\n",
      "batch_normalization_239 (BatchN (None, 9, 9, 160)    480         conv2d_248[0][0]                 \n",
      "__________________________________________________________________________________________________\n",
      "batch_normalization_244 (BatchN (None, 9, 9, 160)    480         conv2d_253[0][0]                 \n",
      "__________________________________________________________________________________________________\n",
      "activation_239 (Activation)     (None, 9, 9, 160)    0           batch_normalization_239[0][0]    \n",
      "__________________________________________________________________________________________________\n",
      "activation_244 (Activation)     (None, 9, 9, 160)    0           batch_normalization_244[0][0]    \n",
      "__________________________________________________________________________________________________\n",
      "conv2d_249 (Conv2D)             (None, 9, 9, 160)    179200      activation_239[0][0]             \n",
      "__________________________________________________________________________________________________\n",
      "conv2d_254 (Conv2D)             (None, 9, 9, 160)    179200      activation_244[0][0]             \n",
      "__________________________________________________________________________________________________\n",
      "batch_normalization_240 (BatchN (None, 9, 9, 160)    480         conv2d_249[0][0]                 \n",
      "__________________________________________________________________________________________________\n",
      "batch_normalization_245 (BatchN (None, 9, 9, 160)    480         conv2d_254[0][0]                 \n",
      "__________________________________________________________________________________________________\n",
      "activation_240 (Activation)     (None, 9, 9, 160)    0           batch_normalization_240[0][0]    \n",
      "__________________________________________________________________________________________________\n",
      "activation_245 (Activation)     (None, 9, 9, 160)    0           batch_normalization_245[0][0]    \n",
      "__________________________________________________________________________________________________\n",
      "average_pooling2d_23 (AveragePo (None, 9, 9, 768)    0           mixed5[0][0]                     \n",
      "__________________________________________________________________________________________________\n",
      "conv2d_247 (Conv2D)             (None, 9, 9, 192)    147456      mixed5[0][0]                     \n",
      "__________________________________________________________________________________________________\n",
      "conv2d_250 (Conv2D)             (None, 9, 9, 192)    215040      activation_240[0][0]             \n",
      "__________________________________________________________________________________________________\n",
      "conv2d_255 (Conv2D)             (None, 9, 9, 192)    215040      activation_245[0][0]             \n",
      "__________________________________________________________________________________________________\n",
      "conv2d_256 (Conv2D)             (None, 9, 9, 192)    147456      average_pooling2d_23[0][0]       \n",
      "__________________________________________________________________________________________________\n",
      "batch_normalization_238 (BatchN (None, 9, 9, 192)    576         conv2d_247[0][0]                 \n",
      "__________________________________________________________________________________________________\n",
      "batch_normalization_241 (BatchN (None, 9, 9, 192)    576         conv2d_250[0][0]                 \n",
      "__________________________________________________________________________________________________\n",
      "batch_normalization_246 (BatchN (None, 9, 9, 192)    576         conv2d_255[0][0]                 \n",
      "__________________________________________________________________________________________________\n",
      "batch_normalization_247 (BatchN (None, 9, 9, 192)    576         conv2d_256[0][0]                 \n",
      "__________________________________________________________________________________________________\n",
      "activation_238 (Activation)     (None, 9, 9, 192)    0           batch_normalization_238[0][0]    \n",
      "__________________________________________________________________________________________________\n",
      "activation_241 (Activation)     (None, 9, 9, 192)    0           batch_normalization_241[0][0]    \n",
      "__________________________________________________________________________________________________\n",
      "activation_246 (Activation)     (None, 9, 9, 192)    0           batch_normalization_246[0][0]    \n",
      "__________________________________________________________________________________________________\n",
      "activation_247 (Activation)     (None, 9, 9, 192)    0           batch_normalization_247[0][0]    \n",
      "__________________________________________________________________________________________________\n",
      "mixed6 (Concatenate)            (None, 9, 9, 768)    0           activation_238[0][0]             \n",
      "                                                                 activation_241[0][0]             \n",
      "                                                                 activation_246[0][0]             \n",
      "                                                                 activation_247[0][0]             \n",
      "__________________________________________________________________________________________________\n",
      "conv2d_261 (Conv2D)             (None, 9, 9, 192)    147456      mixed6[0][0]                     \n",
      "__________________________________________________________________________________________________\n",
      "batch_normalization_252 (BatchN (None, 9, 9, 192)    576         conv2d_261[0][0]                 \n",
      "__________________________________________________________________________________________________\n",
      "activation_252 (Activation)     (None, 9, 9, 192)    0           batch_normalization_252[0][0]    \n",
      "__________________________________________________________________________________________________\n",
      "conv2d_262 (Conv2D)             (None, 9, 9, 192)    258048      activation_252[0][0]             \n",
      "__________________________________________________________________________________________________\n",
      "batch_normalization_253 (BatchN (None, 9, 9, 192)    576         conv2d_262[0][0]                 \n",
      "__________________________________________________________________________________________________\n",
      "activation_253 (Activation)     (None, 9, 9, 192)    0           batch_normalization_253[0][0]    \n",
      "__________________________________________________________________________________________________\n",
      "conv2d_258 (Conv2D)             (None, 9, 9, 192)    147456      mixed6[0][0]                     \n",
      "__________________________________________________________________________________________________\n",
      "conv2d_263 (Conv2D)             (None, 9, 9, 192)    258048      activation_253[0][0]             \n",
      "__________________________________________________________________________________________________\n",
      "batch_normalization_249 (BatchN (None, 9, 9, 192)    576         conv2d_258[0][0]                 \n",
      "__________________________________________________________________________________________________\n",
      "batch_normalization_254 (BatchN (None, 9, 9, 192)    576         conv2d_263[0][0]                 \n",
      "__________________________________________________________________________________________________\n",
      "activation_249 (Activation)     (None, 9, 9, 192)    0           batch_normalization_249[0][0]    \n",
      "__________________________________________________________________________________________________\n",
      "activation_254 (Activation)     (None, 9, 9, 192)    0           batch_normalization_254[0][0]    \n",
      "__________________________________________________________________________________________________\n",
      "conv2d_259 (Conv2D)             (None, 9, 9, 192)    258048      activation_249[0][0]             \n",
      "__________________________________________________________________________________________________\n",
      "conv2d_264 (Conv2D)             (None, 9, 9, 192)    258048      activation_254[0][0]             \n",
      "__________________________________________________________________________________________________\n",
      "batch_normalization_250 (BatchN (None, 9, 9, 192)    576         conv2d_259[0][0]                 \n",
      "__________________________________________________________________________________________________\n",
      "batch_normalization_255 (BatchN (None, 9, 9, 192)    576         conv2d_264[0][0]                 \n",
      "__________________________________________________________________________________________________\n",
      "activation_250 (Activation)     (None, 9, 9, 192)    0           batch_normalization_250[0][0]    \n",
      "__________________________________________________________________________________________________\n",
      "activation_255 (Activation)     (None, 9, 9, 192)    0           batch_normalization_255[0][0]    \n",
      "__________________________________________________________________________________________________\n",
      "average_pooling2d_24 (AveragePo (None, 9, 9, 768)    0           mixed6[0][0]                     \n",
      "__________________________________________________________________________________________________\n",
      "conv2d_257 (Conv2D)             (None, 9, 9, 192)    147456      mixed6[0][0]                     \n",
      "__________________________________________________________________________________________________\n",
      "conv2d_260 (Conv2D)             (None, 9, 9, 192)    258048      activation_250[0][0]             \n",
      "__________________________________________________________________________________________________\n",
      "conv2d_265 (Conv2D)             (None, 9, 9, 192)    258048      activation_255[0][0]             \n",
      "__________________________________________________________________________________________________\n",
      "conv2d_266 (Conv2D)             (None, 9, 9, 192)    147456      average_pooling2d_24[0][0]       \n",
      "__________________________________________________________________________________________________\n",
      "batch_normalization_248 (BatchN (None, 9, 9, 192)    576         conv2d_257[0][0]                 \n",
      "__________________________________________________________________________________________________\n",
      "batch_normalization_251 (BatchN (None, 9, 9, 192)    576         conv2d_260[0][0]                 \n",
      "__________________________________________________________________________________________________\n",
      "batch_normalization_256 (BatchN (None, 9, 9, 192)    576         conv2d_265[0][0]                 \n",
      "__________________________________________________________________________________________________\n",
      "batch_normalization_257 (BatchN (None, 9, 9, 192)    576         conv2d_266[0][0]                 \n",
      "__________________________________________________________________________________________________\n",
      "activation_248 (Activation)     (None, 9, 9, 192)    0           batch_normalization_248[0][0]    \n",
      "__________________________________________________________________________________________________\n",
      "activation_251 (Activation)     (None, 9, 9, 192)    0           batch_normalization_251[0][0]    \n",
      "__________________________________________________________________________________________________\n",
      "activation_256 (Activation)     (None, 9, 9, 192)    0           batch_normalization_256[0][0]    \n",
      "__________________________________________________________________________________________________\n",
      "activation_257 (Activation)     (None, 9, 9, 192)    0           batch_normalization_257[0][0]    \n",
      "__________________________________________________________________________________________________\n",
      "mixed7 (Concatenate)            (None, 9, 9, 768)    0           activation_248[0][0]             \n",
      "                                                                 activation_251[0][0]             \n",
      "                                                                 activation_256[0][0]             \n",
      "                                                                 activation_257[0][0]             \n",
      "__________________________________________________________________________________________________\n",
      "conv2d_269 (Conv2D)             (None, 9, 9, 192)    147456      mixed7[0][0]                     \n",
      "__________________________________________________________________________________________________\n",
      "batch_normalization_260 (BatchN (None, 9, 9, 192)    576         conv2d_269[0][0]                 \n",
      "__________________________________________________________________________________________________\n",
      "activation_260 (Activation)     (None, 9, 9, 192)    0           batch_normalization_260[0][0]    \n",
      "__________________________________________________________________________________________________\n",
      "conv2d_270 (Conv2D)             (None, 9, 9, 192)    258048      activation_260[0][0]             \n",
      "__________________________________________________________________________________________________\n",
      "batch_normalization_261 (BatchN (None, 9, 9, 192)    576         conv2d_270[0][0]                 \n",
      "__________________________________________________________________________________________________\n",
      "activation_261 (Activation)     (None, 9, 9, 192)    0           batch_normalization_261[0][0]    \n",
      "__________________________________________________________________________________________________\n",
      "conv2d_267 (Conv2D)             (None, 9, 9, 192)    147456      mixed7[0][0]                     \n",
      "__________________________________________________________________________________________________\n",
      "conv2d_271 (Conv2D)             (None, 9, 9, 192)    258048      activation_261[0][0]             \n",
      "__________________________________________________________________________________________________\n",
      "batch_normalization_258 (BatchN (None, 9, 9, 192)    576         conv2d_267[0][0]                 \n",
      "__________________________________________________________________________________________________\n",
      "batch_normalization_262 (BatchN (None, 9, 9, 192)    576         conv2d_271[0][0]                 \n",
      "__________________________________________________________________________________________________\n",
      "activation_258 (Activation)     (None, 9, 9, 192)    0           batch_normalization_258[0][0]    \n",
      "__________________________________________________________________________________________________\n",
      "activation_262 (Activation)     (None, 9, 9, 192)    0           batch_normalization_262[0][0]    \n",
      "__________________________________________________________________________________________________\n",
      "conv2d_268 (Conv2D)             (None, 4, 4, 320)    552960      activation_258[0][0]             \n",
      "__________________________________________________________________________________________________\n",
      "conv2d_272 (Conv2D)             (None, 4, 4, 192)    331776      activation_262[0][0]             \n",
      "__________________________________________________________________________________________________\n",
      "batch_normalization_259 (BatchN (None, 4, 4, 320)    960         conv2d_268[0][0]                 \n",
      "__________________________________________________________________________________________________\n",
      "batch_normalization_263 (BatchN (None, 4, 4, 192)    576         conv2d_272[0][0]                 \n",
      "__________________________________________________________________________________________________\n",
      "activation_259 (Activation)     (None, 4, 4, 320)    0           batch_normalization_259[0][0]    \n",
      "__________________________________________________________________________________________________\n",
      "activation_263 (Activation)     (None, 4, 4, 192)    0           batch_normalization_263[0][0]    \n",
      "__________________________________________________________________________________________________\n",
      "max_pooling2d_17 (MaxPooling2D) (None, 4, 4, 768)    0           mixed7[0][0]                     \n",
      "__________________________________________________________________________________________________\n",
      "mixed8 (Concatenate)            (None, 4, 4, 1280)   0           activation_259[0][0]             \n",
      "                                                                 activation_263[0][0]             \n",
      "                                                                 max_pooling2d_17[0][0]           \n",
      "__________________________________________________________________________________________________\n",
      "conv2d_277 (Conv2D)             (None, 4, 4, 448)    573440      mixed8[0][0]                     \n",
      "__________________________________________________________________________________________________\n",
      "batch_normalization_268 (BatchN (None, 4, 4, 448)    1344        conv2d_277[0][0]                 \n",
      "__________________________________________________________________________________________________\n",
      "activation_268 (Activation)     (None, 4, 4, 448)    0           batch_normalization_268[0][0]    \n",
      "__________________________________________________________________________________________________\n",
      "conv2d_274 (Conv2D)             (None, 4, 4, 384)    491520      mixed8[0][0]                     \n",
      "__________________________________________________________________________________________________\n",
      "conv2d_278 (Conv2D)             (None, 4, 4, 384)    1548288     activation_268[0][0]             \n",
      "__________________________________________________________________________________________________\n",
      "batch_normalization_265 (BatchN (None, 4, 4, 384)    1152        conv2d_274[0][0]                 \n",
      "__________________________________________________________________________________________________\n",
      "batch_normalization_269 (BatchN (None, 4, 4, 384)    1152        conv2d_278[0][0]                 \n",
      "__________________________________________________________________________________________________\n",
      "activation_265 (Activation)     (None, 4, 4, 384)    0           batch_normalization_265[0][0]    \n",
      "__________________________________________________________________________________________________\n",
      "activation_269 (Activation)     (None, 4, 4, 384)    0           batch_normalization_269[0][0]    \n",
      "__________________________________________________________________________________________________\n",
      "conv2d_275 (Conv2D)             (None, 4, 4, 384)    442368      activation_265[0][0]             \n",
      "__________________________________________________________________________________________________\n",
      "conv2d_276 (Conv2D)             (None, 4, 4, 384)    442368      activation_265[0][0]             \n",
      "__________________________________________________________________________________________________\n",
      "conv2d_279 (Conv2D)             (None, 4, 4, 384)    442368      activation_269[0][0]             \n",
      "__________________________________________________________________________________________________\n",
      "conv2d_280 (Conv2D)             (None, 4, 4, 384)    442368      activation_269[0][0]             \n",
      "__________________________________________________________________________________________________\n",
      "average_pooling2d_25 (AveragePo (None, 4, 4, 1280)   0           mixed8[0][0]                     \n",
      "__________________________________________________________________________________________________\n",
      "conv2d_273 (Conv2D)             (None, 4, 4, 320)    409600      mixed8[0][0]                     \n",
      "__________________________________________________________________________________________________\n",
      "batch_normalization_266 (BatchN (None, 4, 4, 384)    1152        conv2d_275[0][0]                 \n",
      "__________________________________________________________________________________________________\n",
      "batch_normalization_267 (BatchN (None, 4, 4, 384)    1152        conv2d_276[0][0]                 \n",
      "__________________________________________________________________________________________________\n",
      "batch_normalization_270 (BatchN (None, 4, 4, 384)    1152        conv2d_279[0][0]                 \n",
      "__________________________________________________________________________________________________\n",
      "batch_normalization_271 (BatchN (None, 4, 4, 384)    1152        conv2d_280[0][0]                 \n",
      "__________________________________________________________________________________________________\n",
      "conv2d_281 (Conv2D)             (None, 4, 4, 192)    245760      average_pooling2d_25[0][0]       \n",
      "__________________________________________________________________________________________________\n",
      "batch_normalization_264 (BatchN (None, 4, 4, 320)    960         conv2d_273[0][0]                 \n",
      "__________________________________________________________________________________________________\n",
      "activation_266 (Activation)     (None, 4, 4, 384)    0           batch_normalization_266[0][0]    \n",
      "__________________________________________________________________________________________________\n",
      "activation_267 (Activation)     (None, 4, 4, 384)    0           batch_normalization_267[0][0]    \n",
      "__________________________________________________________________________________________________\n",
      "activation_270 (Activation)     (None, 4, 4, 384)    0           batch_normalization_270[0][0]    \n",
      "__________________________________________________________________________________________________\n",
      "activation_271 (Activation)     (None, 4, 4, 384)    0           batch_normalization_271[0][0]    \n",
      "__________________________________________________________________________________________________\n",
      "batch_normalization_272 (BatchN (None, 4, 4, 192)    576         conv2d_281[0][0]                 \n",
      "__________________________________________________________________________________________________\n",
      "activation_264 (Activation)     (None, 4, 4, 320)    0           batch_normalization_264[0][0]    \n",
      "__________________________________________________________________________________________________\n",
      "mixed9_0 (Concatenate)          (None, 4, 4, 768)    0           activation_266[0][0]             \n",
      "                                                                 activation_267[0][0]             \n",
      "__________________________________________________________________________________________________\n",
      "concatenate_4 (Concatenate)     (None, 4, 4, 768)    0           activation_270[0][0]             \n",
      "                                                                 activation_271[0][0]             \n",
      "__________________________________________________________________________________________________\n",
      "activation_272 (Activation)     (None, 4, 4, 192)    0           batch_normalization_272[0][0]    \n",
      "__________________________________________________________________________________________________\n",
      "mixed9 (Concatenate)            (None, 4, 4, 2048)   0           activation_264[0][0]             \n",
      "                                                                 mixed9_0[0][0]                   \n",
      "                                                                 concatenate_4[0][0]              \n",
      "                                                                 activation_272[0][0]             \n",
      "__________________________________________________________________________________________________\n",
      "conv2d_286 (Conv2D)             (None, 4, 4, 448)    917504      mixed9[0][0]                     \n",
      "__________________________________________________________________________________________________\n",
      "batch_normalization_277 (BatchN (None, 4, 4, 448)    1344        conv2d_286[0][0]                 \n",
      "__________________________________________________________________________________________________\n",
      "activation_277 (Activation)     (None, 4, 4, 448)    0           batch_normalization_277[0][0]    \n",
      "__________________________________________________________________________________________________\n",
      "conv2d_283 (Conv2D)             (None, 4, 4, 384)    786432      mixed9[0][0]                     \n",
      "__________________________________________________________________________________________________\n",
      "conv2d_287 (Conv2D)             (None, 4, 4, 384)    1548288     activation_277[0][0]             \n",
      "__________________________________________________________________________________________________\n",
      "batch_normalization_274 (BatchN (None, 4, 4, 384)    1152        conv2d_283[0][0]                 \n",
      "__________________________________________________________________________________________________\n",
      "batch_normalization_278 (BatchN (None, 4, 4, 384)    1152        conv2d_287[0][0]                 \n",
      "__________________________________________________________________________________________________\n",
      "activation_274 (Activation)     (None, 4, 4, 384)    0           batch_normalization_274[0][0]    \n",
      "__________________________________________________________________________________________________\n",
      "activation_278 (Activation)     (None, 4, 4, 384)    0           batch_normalization_278[0][0]    \n",
      "__________________________________________________________________________________________________\n",
      "conv2d_284 (Conv2D)             (None, 4, 4, 384)    442368      activation_274[0][0]             \n",
      "__________________________________________________________________________________________________\n",
      "conv2d_285 (Conv2D)             (None, 4, 4, 384)    442368      activation_274[0][0]             \n",
      "__________________________________________________________________________________________________\n",
      "conv2d_288 (Conv2D)             (None, 4, 4, 384)    442368      activation_278[0][0]             \n",
      "__________________________________________________________________________________________________\n",
      "conv2d_289 (Conv2D)             (None, 4, 4, 384)    442368      activation_278[0][0]             \n",
      "__________________________________________________________________________________________________\n",
      "average_pooling2d_26 (AveragePo (None, 4, 4, 2048)   0           mixed9[0][0]                     \n",
      "__________________________________________________________________________________________________\n",
      "conv2d_282 (Conv2D)             (None, 4, 4, 320)    655360      mixed9[0][0]                     \n",
      "__________________________________________________________________________________________________\n",
      "batch_normalization_275 (BatchN (None, 4, 4, 384)    1152        conv2d_284[0][0]                 \n",
      "__________________________________________________________________________________________________\n",
      "batch_normalization_276 (BatchN (None, 4, 4, 384)    1152        conv2d_285[0][0]                 \n",
      "__________________________________________________________________________________________________\n",
      "batch_normalization_279 (BatchN (None, 4, 4, 384)    1152        conv2d_288[0][0]                 \n",
      "__________________________________________________________________________________________________\n",
      "batch_normalization_280 (BatchN (None, 4, 4, 384)    1152        conv2d_289[0][0]                 \n",
      "__________________________________________________________________________________________________\n",
      "conv2d_290 (Conv2D)             (None, 4, 4, 192)    393216      average_pooling2d_26[0][0]       \n",
      "__________________________________________________________________________________________________\n",
      "batch_normalization_273 (BatchN (None, 4, 4, 320)    960         conv2d_282[0][0]                 \n",
      "__________________________________________________________________________________________________\n",
      "activation_275 (Activation)     (None, 4, 4, 384)    0           batch_normalization_275[0][0]    \n",
      "__________________________________________________________________________________________________\n",
      "activation_276 (Activation)     (None, 4, 4, 384)    0           batch_normalization_276[0][0]    \n",
      "__________________________________________________________________________________________________\n",
      "activation_279 (Activation)     (None, 4, 4, 384)    0           batch_normalization_279[0][0]    \n",
      "__________________________________________________________________________________________________\n",
      "activation_280 (Activation)     (None, 4, 4, 384)    0           batch_normalization_280[0][0]    \n",
      "__________________________________________________________________________________________________\n",
      "batch_normalization_281 (BatchN (None, 4, 4, 192)    576         conv2d_290[0][0]                 \n",
      "__________________________________________________________________________________________________\n",
      "activation_273 (Activation)     (None, 4, 4, 320)    0           batch_normalization_273[0][0]    \n",
      "__________________________________________________________________________________________________\n",
      "mixed9_1 (Concatenate)          (None, 4, 4, 768)    0           activation_275[0][0]             \n",
      "                                                                 activation_276[0][0]             \n",
      "__________________________________________________________________________________________________\n",
      "concatenate_5 (Concatenate)     (None, 4, 4, 768)    0           activation_279[0][0]             \n",
      "                                                                 activation_280[0][0]             \n",
      "__________________________________________________________________________________________________\n",
      "activation_281 (Activation)     (None, 4, 4, 192)    0           batch_normalization_281[0][0]    \n",
      "__________________________________________________________________________________________________\n",
      "mixed10 (Concatenate)           (None, 4, 4, 2048)   0           activation_273[0][0]             \n",
      "                                                                 mixed9_1[0][0]                   \n",
      "                                                                 concatenate_5[0][0]              \n",
      "                                                                 activation_281[0][0]             \n",
      "==================================================================================================\n",
      "Total params: 21,802,784\n",
      "Trainable params: 21,768,352\n",
      "Non-trainable params: 34,432\n",
      "__________________________________________________________________________________________________\n"
     ]
    }
   ],
   "source": [
    "if PRETRAINED == 'VGG':\n",
    "    conv_base = VGG16(weights='imagenet',\n",
    "                  include_top=False,\n",
    "                  input_shape=(180, 180, 3))\n",
    "else:\n",
    "    conv_base = InceptionV3(weights='imagenet',\n",
    "                        include_top=False,\n",
    "                        input_shape=(180, 180, 3))\n",
    "conv_base.summary()"
   ]
  },
  {
   "cell_type": "markdown",
   "metadata": {},
   "source": [
    "As in Chollet, Listing 8.20 (in Chollet's notebook 08), you will program a `get_features_and_labels()` function."
   ]
  },
  {
   "cell_type": "code",
   "execution_count": 71,
   "metadata": {},
   "outputs": [],
   "source": [
    "def get_features_and_labels(dataset):\n",
    "    all_features = []\n",
    "    all_labels = []\n",
    "    for images, labels in dataset:\n",
    "        preprocessed_images = tf.keras.applications.inception_v3.preprocess_input(images)\n",
    "        features = conv_base.predict(preprocessed_images)\n",
    "        all_features.append(features)\n",
    "        all_labels.append(labels)\n",
    "    return np.concatenate(all_features), np.concatenate(all_labels)"
   ]
  },
  {
   "cell_type": "markdown",
   "metadata": {},
   "source": [
    "The features and labels"
   ]
  },
  {
   "cell_type": "code",
   "execution_count": 72,
   "metadata": {},
   "outputs": [],
   "source": [
    "train_features, train_labels =  get_features_and_labels(train_dataset)\n",
    "val_features, val_labels =  get_features_and_labels(validation_dataset)\n",
    "test_features, test_labels =  get_features_and_labels(test_dataset)"
   ]
  },
  {
   "cell_type": "code",
   "execution_count": 73,
   "metadata": {},
   "outputs": [
    {
     "name": "stdout",
     "output_type": "stream",
     "text": [
      "<BatchDataset shapes: ((None, 180, 180, 3), (None,)), types: (tf.float32, tf.int32)>\n"
     ]
    }
   ],
   "source": [
    "train_features.shape\n",
    "print(train_dataset)"
   ]
  },
  {
   "cell_type": "markdown",
   "metadata": {},
   "source": [
    "Build a network that consists of the Inception V3 convolutional base and two dense layers."
   ]
  },
  {
   "cell_type": "code",
   "execution_count": 74,
   "metadata": {},
   "outputs": [],
   "source": [
    "inputs = keras.Input(shape=(4, 4, 2048))\n",
    "x = layers.Flatten()(inputs)\n",
    "x = layers.Dense(256)(x)\n",
    "x = layers.Dropout(0.5)(x)\n",
    "outputs = layers.Dense(5, activation=\"softmax\")(x)\n",
    "model = keras.Model(inputs, outputs)\n"
   ]
  },
  {
   "cell_type": "code",
   "execution_count": 75,
   "metadata": {},
   "outputs": [
    {
     "name": "stdout",
     "output_type": "stream",
     "text": [
      "Model: \"model_4\"\n",
      "_________________________________________________________________\n",
      "Layer (type)                 Output Shape              Param #   \n",
      "=================================================================\n",
      "input_8 (InputLayer)         [(None, 4, 4, 2048)]      0         \n",
      "_________________________________________________________________\n",
      "flatten_4 (Flatten)          (None, 32768)             0         \n",
      "_________________________________________________________________\n",
      "dense_5 (Dense)              (None, 256)               8388864   \n",
      "_________________________________________________________________\n",
      "dropout_1 (Dropout)          (None, 256)               0         \n",
      "_________________________________________________________________\n",
      "dense_6 (Dense)              (None, 5)                 1285      \n",
      "=================================================================\n",
      "Total params: 8,390,149\n",
      "Trainable params: 8,390,149\n",
      "Non-trainable params: 0\n",
      "_________________________________________________________________\n"
     ]
    }
   ],
   "source": [
    "model.summary()"
   ]
  },
  {
   "cell_type": "markdown",
   "metadata": {},
   "source": [
    "Compile your model"
   ]
  },
  {
   "cell_type": "code",
   "execution_count": 76,
   "metadata": {},
   "outputs": [],
   "source": [
    "model.compile(optimizer=\"rmsprop\", loss=\"sparse_categorical_crossentropy\", metrics=[\"accuracy\"])"
   ]
  },
  {
   "cell_type": "markdown",
   "metadata": {},
   "source": [
    "Define a callback to save your best model"
   ]
  },
  {
   "cell_type": "code",
   "execution_count": 77,
   "metadata": {},
   "outputs": [],
   "source": [
    "callbacks = [\n",
    "    keras.callbacks.ModelCheckpoint(\n",
    "      filepath=\"inception-v3-tip.keras\",\n",
    "      save_best_only=True,\n",
    "      monitor=\"val_loss\")\n",
    "]"
   ]
  },
  {
   "cell_type": "markdown",
   "metadata": {},
   "source": [
    "Fit your network"
   ]
  },
  {
   "cell_type": "code",
   "execution_count": 78,
   "metadata": {},
   "outputs": [
    {
     "name": "stdout",
     "output_type": "stream",
     "text": [
      "Epoch 1/30\n",
      "114/114 [==============================] - 5s 43ms/step - loss: 46.0618 - accuracy: 0.6644 - val_loss: 13.5090 - val_accuracy: 0.8141\n",
      "Epoch 2/30\n",
      "114/114 [==============================] - 5s 43ms/step - loss: 20.7374 - accuracy: 0.7919 - val_loss: 19.7496 - val_accuracy: 0.7723\n",
      "Epoch 3/30\n",
      "114/114 [==============================] - 5s 42ms/step - loss: 13.8754 - accuracy: 0.8331 - val_loss: 16.0267 - val_accuracy: 0.8206\n",
      "Epoch 4/30\n",
      "114/114 [==============================] - 5s 41ms/step - loss: 9.2587 - accuracy: 0.8651 - val_loss: 18.9961 - val_accuracy: 0.7826\n",
      "Epoch 5/30\n",
      "114/114 [==============================] - 5s 40ms/step - loss: 7.2335 - accuracy: 0.8805 - val_loss: 5.7834 - val_accuracy: 0.9170\n",
      "Epoch 6/30\n",
      "114/114 [==============================] - 5s 41ms/step - loss: 5.5323 - accuracy: 0.8954 - val_loss: 7.2160 - val_accuracy: 0.8958\n",
      "Epoch 7/30\n",
      "114/114 [==============================] - 4s 39ms/step - loss: 4.3267 - accuracy: 0.9185 - val_loss: 5.6151 - val_accuracy: 0.9203\n",
      "Epoch 8/30\n",
      "114/114 [==============================] - 5s 42ms/step - loss: 4.6199 - accuracy: 0.9144 - val_loss: 9.6309 - val_accuracy: 0.8733\n",
      "Epoch 9/30\n",
      "114/114 [==============================] - 5s 40ms/step - loss: 3.5678 - accuracy: 0.9276 - val_loss: 5.3579 - val_accuracy: 0.9254\n",
      "Epoch 10/30\n",
      "114/114 [==============================] - 5s 43ms/step - loss: 3.0150 - accuracy: 0.9295 - val_loss: 9.7740 - val_accuracy: 0.8778\n",
      "Epoch 11/30\n",
      "114/114 [==============================] - 4s 34ms/step - loss: 2.2675 - accuracy: 0.9455 - val_loss: 10.6560 - val_accuracy: 0.8701\n",
      "Epoch 12/30\n",
      "114/114 [==============================] - 4s 34ms/step - loss: 2.6754 - accuracy: 0.9436 - val_loss: 6.6635 - val_accuracy: 0.9215\n",
      "Epoch 13/30\n",
      "114/114 [==============================] - 4s 34ms/step - loss: 2.2884 - accuracy: 0.9499 - val_loss: 5.3118 - val_accuracy: 0.9453\n",
      "Epoch 14/30\n",
      "114/114 [==============================] - 4s 35ms/step - loss: 1.9944 - accuracy: 0.9579 - val_loss: 13.6754 - val_accuracy: 0.8463\n",
      "Epoch 15/30\n",
      "114/114 [==============================] - 4s 36ms/step - loss: 1.6797 - accuracy: 0.9604 - val_loss: 6.4606 - val_accuracy: 0.9331\n",
      "Epoch 16/30\n",
      "114/114 [==============================] - 4s 34ms/step - loss: 1.6400 - accuracy: 0.9650 - val_loss: 11.9533 - val_accuracy: 0.8720\n",
      "Epoch 17/30\n",
      "114/114 [==============================] - 4s 35ms/step - loss: 1.9385 - accuracy: 0.9593 - val_loss: 6.3542 - val_accuracy: 0.9318\n",
      "Epoch 18/30\n",
      "114/114 [==============================] - 4s 34ms/step - loss: 1.9986 - accuracy: 0.9604 - val_loss: 6.4518 - val_accuracy: 0.9344\n",
      "Epoch 19/30\n",
      "114/114 [==============================] - 4s 39ms/step - loss: 1.5824 - accuracy: 0.9637 - val_loss: 5.3907 - val_accuracy: 0.9479\n",
      "Epoch 20/30\n",
      "114/114 [==============================] - 5s 42ms/step - loss: 1.1810 - accuracy: 0.9683 - val_loss: 6.3627 - val_accuracy: 0.9460\n",
      "Epoch 21/30\n",
      "114/114 [==============================] - 4s 39ms/step - loss: 1.5656 - accuracy: 0.9648 - val_loss: 7.4448 - val_accuracy: 0.9357\n",
      "Epoch 22/30\n",
      "114/114 [==============================] - 5s 42ms/step - loss: 1.0830 - accuracy: 0.9733 - val_loss: 6.6258 - val_accuracy: 0.9447\n",
      "Epoch 23/30\n",
      "114/114 [==============================] - 5s 40ms/step - loss: 1.2127 - accuracy: 0.9708 - val_loss: 6.4977 - val_accuracy: 0.9415\n",
      "Epoch 24/30\n",
      "114/114 [==============================] - 4s 39ms/step - loss: 1.2450 - accuracy: 0.9705 - val_loss: 6.4268 - val_accuracy: 0.9473\n",
      "Epoch 25/30\n",
      "114/114 [==============================] - 4s 39ms/step - loss: 1.1573 - accuracy: 0.9714 - val_loss: 7.3150 - val_accuracy: 0.9428\n",
      "Epoch 26/30\n",
      "114/114 [==============================] - 5s 40ms/step - loss: 1.1695 - accuracy: 0.9755 - val_loss: 7.1652 - val_accuracy: 0.9402\n",
      "Epoch 27/30\n",
      "114/114 [==============================] - 5s 42ms/step - loss: 1.0774 - accuracy: 0.9785 - val_loss: 11.0409 - val_accuracy: 0.9203\n",
      "Epoch 28/30\n",
      "114/114 [==============================] - 5s 40ms/step - loss: 1.3931 - accuracy: 0.9763 - val_loss: 7.3245 - val_accuracy: 0.9447\n",
      "Epoch 29/30\n",
      "114/114 [==============================] - 4s 39ms/step - loss: 0.9404 - accuracy: 0.9788 - val_loss: 10.1566 - val_accuracy: 0.9331\n",
      "Epoch 30/30\n",
      "114/114 [==============================] - 4s 38ms/step - loss: 0.9428 - accuracy: 0.9794 - val_loss: 7.9462 - val_accuracy: 0.9428\n"
     ]
    }
   ],
   "source": [
    "history = model.fit(\n",
    "    train_features, train_labels,\n",
    "    epochs=30,\n",
    "    validation_data=(val_features, val_labels),\n",
    "    callbacks=callbacks)\n"
   ]
  },
  {
   "cell_type": "markdown",
   "metadata": {},
   "source": [
    "### Analyzing the fitting performance over epochs"
   ]
  },
  {
   "cell_type": "markdown",
   "metadata": {},
   "source": [
    "Show the training accuracy along with the epochs"
   ]
  },
  {
   "cell_type": "code",
   "execution_count": 79,
   "metadata": {},
   "outputs": [
    {
     "data": {
      "image/png": "[encoded data removed]",
      "text/plain": [
       "<Figure size 432x288 with 1 Axes>"
      ]
     },
     "metadata": {
      "needs_background": "light"
     },
     "output_type": "display_data"
    },
    {
     "data": {
      "image/png": "[encoded data removed]",
      "text/plain": [
       "<Figure size 432x288 with 1 Axes>"
      ]
     },
     "metadata": {
      "needs_background": "light"
     },
     "output_type": "display_data"
    }
   ],
   "source": [
    "accuracy = history.history[\"accuracy\"]\n",
    "val_accuracy = history.history[\"val_accuracy\"]\n",
    "loss = history.history[\"loss\"]\n",
    "val_loss = history.history[\"val_loss\"]\n",
    "epochs = range(1, len(loss) + 1)\n",
    "plt.plot(epochs, accuracy, \"bo\", label=\"Training accuracy\")\n",
    "plt.plot(epochs, val_accuracy, \"b\", label=\"Validation accuracy\")\n",
    "plt.title(\"Training and validation accuracy\")\n",
    "plt.legend()\n",
    "plt.figure()\n",
    "plt.plot(epochs, loss, \"bo\", label=\"Training loss\")\n",
    "plt.plot(epochs, val_loss, \"b\", label=\"Validation loss\")\n",
    "plt.title(\"Training and validation loss\")\n",
    "plt.legend()\n",
    "plt.show()"
   ]
  },
  {
   "cell_type": "markdown",
   "metadata": {},
   "source": [
    "Load your best model from the file"
   ]
  },
  {
   "cell_type": "code",
   "execution_count": 80,
   "metadata": {},
   "outputs": [],
   "source": [
    "test_model = keras.models.load_model('inception-v3-tip.keras')"
   ]
  },
  {
   "cell_type": "markdown",
   "metadata": {},
   "source": [
    "Evaluate your model and store the loss and accuracy in `test_loss_3`, `test_acc_3`"
   ]
  },
  {
   "cell_type": "code",
   "execution_count": 81,
   "metadata": {},
   "outputs": [
    {
     "name": "stdout",
     "output_type": "stream",
     "text": [
      "25/25 [==============================] - 0s 8ms/step - loss: 4.3354 - accuracy: 0.9501\n",
      "Test accuracy: 0.950\n"
     ]
    }
   ],
   "source": [
    "test_loss_3, test_acc_3 = test_model.evaluate(test_features, test_labels, 64)\n",
    "print(f\"Test accuracy: {test_acc_3:.3f}\")\n"
   ]
  },
  {
   "cell_type": "code",
   "execution_count": 82,
   "metadata": {},
   "outputs": [
    {
     "data": {
      "text/plain": [
       "(4.3354411125183105, 0.9500959515571594)"
      ]
     },
     "execution_count": 82,
     "metadata": {},
     "output_type": "execute_result"
    }
   ],
   "source": [
    "test_loss_3, test_acc_3"
   ]
  },
  {
   "cell_type": "markdown",
   "metadata": {},
   "source": [
    "## Using a Pretrained Convolutional Base with Image Augmentation"
   ]
  },
  {
   "cell_type": "markdown",
   "metadata": {},
   "source": [
    "### Architecture"
   ]
  },
  {
   "cell_type": "markdown",
   "metadata": {},
   "source": [
    "1. Modify your program to include an image transformer. Train a new model. As a hint, use nadam or rmsprop as optimizer. Rescaling seems to lower the accuracy. Do not use it in your first attempts.\n",
    "2. Apply your network to the test set and report the accuracy as well as the confusion matrix you obtained."
   ]
  },
  {
   "cell_type": "code",
   "execution_count": 83,
   "metadata": {},
   "outputs": [],
   "source": [
    "if PRETRAINED == 'VGG':\n",
    "    conv_base = VGG16(weights='imagenet',\n",
    "                  include_top=False,\n",
    "                  input_shape=(180, 180, 3))\n",
    "else:\n",
    "    conv_base = InceptionV3(weights='imagenet',\n",
    "                        include_top=False,\n",
    "                        input_shape=(180, 180, 3))"
   ]
  },
  {
   "cell_type": "markdown",
   "metadata": {},
   "source": [
    "You may want to try this first, and possibly modify it to improve the scores"
   ]
  },
  {
   "cell_type": "code",
   "execution_count": 84,
   "metadata": {},
   "outputs": [],
   "source": [
    "conv_base.trainable = False"
   ]
  },
  {
   "cell_type": "markdown",
   "metadata": {},
   "source": [
    "Create an image augmentation"
   ]
  },
  {
   "cell_type": "code",
   "execution_count": 85,
   "metadata": {},
   "outputs": [],
   "source": [
    "data_augmentation = keras.Sequential(\n",
    "    [\n",
    "        layers.experimental.preprocessing.RandomFlip(\"horizontal\"),\n",
    "        layers.experimental.preprocessing.RandomRotation(0.1),\n",
    "        layers.experimental.preprocessing.RandomZoom(0.2),\n",
    "    ]\n",
    ")\n"
   ]
  },
  {
   "cell_type": "markdown",
   "metadata": {},
   "source": [
    "Create your model"
   ]
  },
  {
   "cell_type": "code",
   "execution_count": 86,
   "metadata": {},
   "outputs": [],
   "source": [
    "\n",
    "inputs = keras.Input(shape=(180, 180, 3))\n",
    "x = data_augmentation(inputs)\n",
    "x = tf.keras.applications.inception_v3.preprocess_input(x)\n",
    "x = conv_base(x)\n",
    "x = layers.Flatten()(x)\n",
    "x = layers.Dense(256)(x)\n",
    "x = layers.Dropout(0.5)(x)\n",
    "outputs = layers.Dense(5, activation=\"softmax\")(x)\n",
    "model = keras.Model(inputs, outputs)\n"
   ]
  },
  {
   "cell_type": "markdown",
   "metadata": {},
   "source": [
    "Compile it"
   ]
  },
  {
   "cell_type": "code",
   "execution_count": 87,
   "metadata": {},
   "outputs": [],
   "source": [
    "model.compile(loss=\"sparse_categorical_crossentropy\",\n",
    "              optimizer=\"rmsprop\",\n",
    "              metrics=[\"accuracy\"])"
   ]
  },
  {
   "cell_type": "code",
   "execution_count": 88,
   "metadata": {},
   "outputs": [
    {
     "name": "stdout",
     "output_type": "stream",
     "text": [
      "Model: \"model_5\"\n",
      "_________________________________________________________________\n",
      "Layer (type)                 Output Shape              Param #   \n",
      "=================================================================\n",
      "input_10 (InputLayer)        [(None, 180, 180, 3)]     0         \n",
      "_________________________________________________________________\n",
      "sequential_2 (Sequential)    (None, 180, 180, 3)       0         \n",
      "_________________________________________________________________\n",
      "tf.math.truediv_1 (TFOpLambd (None, 180, 180, 3)       0         \n",
      "_________________________________________________________________\n",
      "tf.math.subtract_1 (TFOpLamb (None, 180, 180, 3)       0         \n",
      "_________________________________________________________________\n",
      "inception_v3 (Functional)    (None, 4, 4, 2048)        21802784  \n",
      "_________________________________________________________________\n",
      "flatten_5 (Flatten)          (None, 32768)             0         \n",
      "_________________________________________________________________\n",
      "dense_7 (Dense)              (None, 256)               8388864   \n",
      "_________________________________________________________________\n",
      "dropout_2 (Dropout)          (None, 256)               0         \n",
      "_________________________________________________________________\n",
      "dense_8 (Dense)              (None, 5)                 1285      \n",
      "=================================================================\n",
      "Total params: 30,192,933\n",
      "Trainable params: 8,390,149\n",
      "Non-trainable params: 21,802,784\n",
      "_________________________________________________________________\n"
     ]
    }
   ],
   "source": [
    "model.summary()"
   ]
  },
  {
   "cell_type": "markdown",
   "metadata": {},
   "source": [
    "Write a callback to save your best model"
   ]
  },
  {
   "cell_type": "code",
   "execution_count": 89,
   "metadata": {},
   "outputs": [],
   "source": [
    "callbacks = [\n",
    "    keras.callbacks.ModelCheckpoint(\n",
    "        filepath=\"lab5-pretrained-augmented-2.keras\",\n",
    "        save_best_only=True,\n",
    "        monitor=\"val_loss\")\n",
    "]"
   ]
  },
  {
   "cell_type": "markdown",
   "metadata": {},
   "source": [
    "Fit the model"
   ]
  },
  {
   "cell_type": "code",
   "execution_count": 90,
   "metadata": {},
   "outputs": [
    {
     "name": "stdout",
     "output_type": "stream",
     "text": [
      "Epoch 1/30\n",
      "57/57 [==============================] - 45s 717ms/step - loss: 62.9240 - accuracy: 0.5867 - val_loss: 12.9416 - val_accuracy: 0.7942\n",
      "Epoch 2/30\n",
      "57/57 [==============================] - 40s 707ms/step - loss: 26.5214 - accuracy: 0.7227 - val_loss: 12.6076 - val_accuracy: 0.8039\n",
      "Epoch 3/30\n",
      "57/57 [==============================] - 41s 714ms/step - loss: 21.0980 - accuracy: 0.7539 - val_loss: 11.2248 - val_accuracy: 0.8289\n",
      "Epoch 4/30\n",
      "57/57 [==============================] - 41s 723ms/step - loss: 15.9143 - accuracy: 0.7874 - val_loss: 23.5785 - val_accuracy: 0.7518\n",
      "Epoch 5/30\n",
      "57/57 [==============================] - 40s 708ms/step - loss: 14.7035 - accuracy: 0.7822 - val_loss: 30.6500 - val_accuracy: 0.7125\n",
      "Epoch 6/30\n",
      "57/57 [==============================] - 40s 701ms/step - loss: 13.4716 - accuracy: 0.7979 - val_loss: 10.1009 - val_accuracy: 0.8238\n",
      "Epoch 7/30\n",
      "57/57 [==============================] - 40s 709ms/step - loss: 9.2539 - accuracy: 0.8188 - val_loss: 5.8506 - val_accuracy: 0.8637\n",
      "Epoch 8/30\n",
      "57/57 [==============================] - 40s 704ms/step - loss: 7.6780 - accuracy: 0.8271 - val_loss: 7.4723 - val_accuracy: 0.8379\n",
      "Epoch 9/30\n",
      "57/57 [==============================] - 41s 711ms/step - loss: 7.5561 - accuracy: 0.8194 - val_loss: 4.3945 - val_accuracy: 0.8714\n",
      "Epoch 10/30\n",
      "57/57 [==============================] - 40s 710ms/step - loss: 6.3797 - accuracy: 0.8175 - val_loss: 9.5975 - val_accuracy: 0.8019\n",
      "Epoch 11/30\n",
      "57/57 [==============================] - 40s 709ms/step - loss: 5.1668 - accuracy: 0.8290 - val_loss: 13.9828 - val_accuracy: 0.7338\n",
      "Epoch 12/30\n",
      "57/57 [==============================] - 40s 701ms/step - loss: 4.8910 - accuracy: 0.8359 - val_loss: 4.5361 - val_accuracy: 0.8238\n",
      "Epoch 13/30\n",
      "57/57 [==============================] - 41s 713ms/step - loss: 3.5995 - accuracy: 0.8403 - val_loss: 4.8329 - val_accuracy: 0.8283\n",
      "Epoch 14/30\n",
      "57/57 [==============================] - 40s 710ms/step - loss: 3.0579 - accuracy: 0.8400 - val_loss: 3.8903 - val_accuracy: 0.8553\n",
      "Epoch 15/30\n",
      "57/57 [==============================] - 41s 720ms/step - loss: 2.7464 - accuracy: 0.8320 - val_loss: 2.8659 - val_accuracy: 0.8598\n",
      "Epoch 16/30\n",
      "57/57 [==============================] - 40s 707ms/step - loss: 2.2663 - accuracy: 0.8464 - val_loss: 2.2436 - val_accuracy: 0.8418\n",
      "Epoch 17/30\n",
      "57/57 [==============================] - 41s 714ms/step - loss: 2.0822 - accuracy: 0.8392 - val_loss: 3.9370 - val_accuracy: 0.7878\n",
      "Epoch 18/30\n",
      "57/57 [==============================] - 41s 715ms/step - loss: 1.8527 - accuracy: 0.8387 - val_loss: 2.7798 - val_accuracy: 0.8122\n",
      "Epoch 19/30\n",
      "57/57 [==============================] - 41s 716ms/step - loss: 1.7659 - accuracy: 0.8365 - val_loss: 1.8315 - val_accuracy: 0.8547\n",
      "Epoch 20/30\n",
      "57/57 [==============================] - 40s 713ms/step - loss: 1.3899 - accuracy: 0.8403 - val_loss: 1.4978 - val_accuracy: 0.8508\n",
      "Epoch 21/30\n",
      "57/57 [==============================] - 41s 715ms/step - loss: 1.2895 - accuracy: 0.8486 - val_loss: 2.0025 - val_accuracy: 0.8148\n",
      "Epoch 22/30\n",
      "57/57 [==============================] - 40s 711ms/step - loss: 1.3527 - accuracy: 0.8409 - val_loss: 0.9406 - val_accuracy: 0.8842\n",
      "Epoch 23/30\n",
      "57/57 [==============================] - 40s 709ms/step - loss: 1.1602 - accuracy: 0.8455 - val_loss: 1.0048 - val_accuracy: 0.8752\n",
      "Epoch 24/30\n",
      "57/57 [==============================] - 41s 715ms/step - loss: 1.2160 - accuracy: 0.8395 - val_loss: 1.7198 - val_accuracy: 0.8186\n",
      "Epoch 25/30\n",
      "57/57 [==============================] - 41s 713ms/step - loss: 1.1956 - accuracy: 0.8411 - val_loss: 1.5300 - val_accuracy: 0.8566\n",
      "Epoch 26/30\n",
      "57/57 [==============================] - 41s 711ms/step - loss: 1.0716 - accuracy: 0.8516 - val_loss: 0.9116 - val_accuracy: 0.8842\n",
      "Epoch 27/30\n",
      "57/57 [==============================] - 41s 713ms/step - loss: 1.1533 - accuracy: 0.8458 - val_loss: 0.9449 - val_accuracy: 0.8823\n",
      "Epoch 28/30\n",
      "57/57 [==============================] - 41s 721ms/step - loss: 1.0809 - accuracy: 0.8483 - val_loss: 1.7656 - val_accuracy: 0.8437\n",
      "Epoch 29/30\n",
      "57/57 [==============================] - 41s 719ms/step - loss: 1.1154 - accuracy: 0.8568 - val_loss: 1.9227 - val_accuracy: 0.8090\n",
      "Epoch 30/30\n",
      "57/57 [==============================] - 41s 715ms/step - loss: 1.1812 - accuracy: 0.8450 - val_loss: 1.7417 - val_accuracy: 0.8129\n"
     ]
    }
   ],
   "source": [
    "history_augmented_2 = model.fit(\n",
    "    train_dataset,\n",
    "    epochs=30,\n",
    "    validation_data=validation_dataset,\n",
    "    callbacks=callbacks)"
   ]
  },
  {
   "cell_type": "markdown",
   "metadata": {},
   "source": [
    "### Analyzing the fitting performance over epochs"
   ]
  },
  {
   "cell_type": "markdown",
   "metadata": {},
   "source": [
    "Show the training accuracy along with the epochs"
   ]
  },
  {
   "cell_type": "code",
   "execution_count": 91,
   "metadata": {},
   "outputs": [
    {
     "data": {
      "image/png": "[encoded data removed]",
      "text/plain": [
       "<Figure size 432x288 with 1 Axes>"
      ]
     },
     "metadata": {
      "needs_background": "light"
     },
     "output_type": "display_data"
    },
    {
     "data": {
      "image/png": "[encoded data removed]",
      "text/plain": [
       "<Figure size 432x288 with 1 Axes>"
      ]
     },
     "metadata": {
      "needs_background": "light"
     },
     "output_type": "display_data"
    }
   ],
   "source": [
    "accuracy = history_augmented_2.history[\"accuracy\"]\n",
    "val_accuracy = history_augmented_2.history[\"val_accuracy\"]\n",
    "loss = history_augmented_2.history[\"loss\"]\n",
    "val_loss = history_augmented_2.history[\"val_loss\"]\n",
    "epochs = range(1, len(loss) + 1)\n",
    "plt.plot(epochs, accuracy, \"bo\", label=\"Training accuracy\")\n",
    "plt.plot(epochs, val_accuracy, \"b\", label=\"Validation accuracy\")\n",
    "plt.title(\"Training and validation accuracy\")\n",
    "plt.legend()\n",
    "plt.figure()\n",
    "plt.plot(epochs, loss, \"bo\", label=\"Training loss\")\n",
    "plt.plot(epochs, val_loss, \"b\", label=\"Validation loss\")\n",
    "plt.title(\"Training and validation loss\")\n",
    "plt.legend()\n",
    "plt.show()"
   ]
  },
  {
   "cell_type": "markdown",
   "metadata": {},
   "source": [
    "Load your best model"
   ]
  },
  {
   "cell_type": "code",
   "execution_count": 92,
   "metadata": {},
   "outputs": [],
   "source": [
    "test_model = keras.models.load_model(\"lab5-pretrained-augmented-2.keras\")"
   ]
  },
  {
   "cell_type": "markdown",
   "metadata": {},
   "source": [
    "Evaluate it and store the loss and accuracy in `test_loss_4` and `test_acc_4`"
   ]
  },
  {
   "cell_type": "code",
   "execution_count": 93,
   "metadata": {},
   "outputs": [
    {
     "name": "stdout",
     "output_type": "stream",
     "text": [
      "25/25 [==============================] - 12s 407ms/step - loss: 0.7706 - accuracy: 0.8970\n",
      "Test accuracy: 0.897\n"
     ]
    }
   ],
   "source": [
    "test_loss_4, test_acc_4 = test_model.evaluate(test_dataset)\n",
    "print(f\"Test accuracy: {test_acc_4:.3f}\")"
   ]
  },
  {
   "cell_type": "code",
   "execution_count": 94,
   "metadata": {},
   "outputs": [
    {
     "data": {
      "text/plain": [
       "(0.7706391215324402, 0.8969929814338684)"
      ]
     },
     "execution_count": 94,
     "metadata": {},
     "output_type": "execute_result"
    }
   ],
   "source": [
    "test_loss_4, test_acc_4"
   ]
  },
  {
   "cell_type": "markdown",
   "metadata": {
    "tags": []
   },
   "source": [
    "### Predicting the test set"
   ]
  },
  {
   "cell_type": "markdown",
   "metadata": {},
   "source": [
    "Apply now your network to the test set. You will collect `y_true` and `y_pred`"
   ]
  },
  {
   "cell_type": "code",
   "execution_count": 95,
   "metadata": {},
   "outputs": [],
   "source": [
    "Y_pred = test_model.predict(test_dataset)\n",
    "y_pred = [np.argmax(probability) for probability in Y_pred]\n",
    "y_true = np.concatenate([y for x, y in test_dataset], axis=0)"
   ]
  },
  {
   "cell_type": "markdown",
   "metadata": {},
   "source": [
    "Report the accuracy as well as the classification report. Use sklearn functions"
   ]
  },
  {
   "cell_type": "code",
   "execution_count": 96,
   "metadata": {},
   "outputs": [
    {
     "name": "stdout",
     "output_type": "stream",
     "text": [
      "              precision    recall  f1-score   support\n",
      "\n",
      "           0       0.85      0.96      0.90       316\n",
      "           1       1.00      0.85      0.92       374\n",
      "           2       0.86      0.92      0.89       282\n",
      "           3       0.88      0.86      0.87       250\n",
      "           4       0.90      0.90      0.90       341\n",
      "\n",
      "    accuracy                           0.90      1563\n",
      "   macro avg       0.90      0.90      0.90      1563\n",
      "weighted avg       0.90      0.90      0.90      1563\n",
      "\n"
     ]
    }
   ],
   "source": [
    "from sklearn import metrics\n",
    "print(metrics.classification_report(y_true, y_pred))"
   ]
  },
  {
   "cell_type": "markdown",
   "metadata": {},
   "source": [
    "Print the confusion matrix"
   ]
  },
  {
   "cell_type": "code",
   "execution_count": 97,
   "metadata": {},
   "outputs": [
    {
     "data": {
      "text/plain": [
       "array([[303,   0,   4,   4,   5],\n",
       "       [ 23, 318,   7,  17,   9],\n",
       "       [  3,   0, 259,   5,  15],\n",
       "       [ 23,   1,   4, 216,   6],\n",
       "       [  5,   0,  27,   3, 306]], dtype=int64)"
      ]
     },
     "execution_count": 97,
     "metadata": {},
     "output_type": "execute_result"
    }
   ],
   "source": [
    "metrics.confusion_matrix(y_true, y_pred)"
   ]
  },
  {
   "cell_type": "markdown",
   "metadata": {},
   "source": [
    "## Passing the Assignment"
   ]
  },
  {
   "cell_type": "code",
   "execution_count": null,
   "metadata": {},
   "outputs": [],
   "source": []
  },
  {
   "cell_type": "markdown",
   "metadata": {},
   "source": [
    "To pass the assignment, you need to reach an accuracy of 75 (even 80 ideally) with your best network."
   ]
  },
  {
   "cell_type": "code",
   "execution_count": 99,
   "metadata": {},
   "outputs": [
    {
     "data": {
      "text/plain": [
       "((0.6194152235984802, 0.8006430864334106),\n",
       " (0.6198227405548096, 0.7779910564422607),\n",
       " (4.3354411125183105, 0.9500959515571594),\n",
       " (0.7706391215324402, 0.8969929814338684))"
      ]
     },
     "execution_count": 99,
     "metadata": {},
     "output_type": "execute_result"
    }
   ],
   "source": [
    "(test_loss_1, test_acc_1), (test_loss_2, test_acc_2), (test_loss_3, test_acc_3), (test_loss_4, test_acc_4)"
   ]
  },
  {
   "cell_type": "markdown",
   "metadata": {},
   "source": [
    "## Report"
   ]
  },
  {
   "cell_type": "markdown",
   "metadata": {},
   "source": [
    "You will write a short report of about two pages on your experiments:\n",
    "1. You will describe all the architectures you designed and the results you obtained. You will summarize the results in a table. Your description should be one-page long;\n",
    "2. You will run Chollet's notebook chapter09_part3 and read the article _Grad-CAM: Visual Explanations from Deep Networks via Gradient-based Localization_ by Selvaraju et al. From this, you will reformulate and comment the paragraph on _Visualizing heatmaps of class activation_ in the notebook. Your analysis should be about one-page long.\n",
    "3. You will run it on one of your flower images.\n",
    "\n",
    "You will submit your report as well as your notebook through Canvas."
   ]
  },
  {
   "cell_type": "code",
   "execution_count": null,
   "metadata": {},
   "outputs": [],
   "source": []
  }
 ],
 "metadata": {
  "kernelspec": {
   "display_name": "Python 3 (ipykernel)",
   "language": "python",
   "name": "python3"
  },
  "language_info": {
   "codemirror_mode": {
    "name": "ipython",
    "version": 3
   },
   "file_extension": ".py",
   "mimetype": "text/x-python",
   "name": "python",
   "nbconvert_exporter": "python",
   "pygments_lexer": "ipython3",
   "version": "3.7.12"
  }
 },
 "nbformat": 4,
 "nbformat_minor": 4
}
