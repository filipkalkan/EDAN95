{
 "cells": [
  {
   "cell_type": "code",
   "execution_count": 1,
   "metadata": {},
   "outputs": [],
   "source": [
    "import math\n",
    "\n",
    "from typing import List, Optional, Union, Tuple # Python >= 3.5\n",
    "from collections import Counter # Python >= 3.1\n",
    "\n",
    "from matplotlib import pyplot as plt # please make sure you have matplotlib installed (pip install matplotlib)\n",
    "import numpy as np # please make sure you have numpy installed (pip install numpy)\n",
    "import pandas as pd # please make sure you have pandas installed (pip install pandas)"
   ]
  },
  {
   "cell_type": "markdown",
   "metadata": {},
   "source": [
    "# Exercise 1\n",
    "\n",
    "---\n",
    "\n",
    "#### **Exercise 1.1**\n",
    "\n",
    "In this exercise we are going to work with characters in an alphabet.\n",
    "Assume, you have a string `cdd`, then the empirical probability $p(`c`)=\\frac{1}{3}$ and $p(`d`)=\\frac{2}{3}$.\n",
    "Hence, $p$ is a probability distribution over an alphabet.\n",
    "\n",
    "Assume you only have two characters in an alphabet, 'a' and 'b'. \n",
    "\n",
    "\n",
    "* **What does the probability of 'a' and 'b' have to be in order for the entropy to be maximal?** \\\n",
    "It has to be shifted. Example a=0.1, b=0.9 \n",
    "---\n",
    "* **What is the maximum value of the entropy in this case?** \\\n",
    "1 if we have a=1,b=0\n",
    "---\n",
    "* **Intuitively, why is the entropy maximum for the value you found?** (You can calculate it on paper or write it in Python, you will need it later anyway) \\\n",
    "Se below\n"
   ]
  },
  {
   "cell_type": "code",
   "execution_count": 2,
   "metadata": {},
   "outputs": [
    {
     "name": "stdout",
     "output_type": "stream",
     "text": [
      "0.011407757737461138\n"
     ]
    }
   ],
   "source": [
    "import math\n",
    "\n",
    "def entropy(array):\n",
    "    totentropy = 0\n",
    "    \n",
    "    for i in array:\n",
    "        totentropy += -i * math.log2(i)\n",
    "        \n",
    "    return totentropy\n",
    "\n",
    "print(entropy([0.001, 0.999]))"
   ]
  },
  {
   "cell_type": "markdown",
   "metadata": {},
   "source": [
    "#### **Exercise 1.2**\n",
    "\n",
    "Still assume that your alphabet consists of only two characters, 'a' and 'b'.\n",
    "For values $p(`a`) = 0.01, 0.02, \\ldots, 0.99$, plot the entropy of your alphabet ($x$-axis: $p(`a`)$, $y$-axis: Entropy in bits).\n",
    "Your plot should contain only one line.\n",
    "\n",
    "If you don't know how to plot with Matplotlib, there is a really short crash course in the next cell."
   ]
  },
  {
   "cell_type": "code",
   "execution_count": 4,
   "metadata": {},
   "outputs": [
    {
     "data": {
      "text/plain": [
       "<matplotlib.legend.Legend at 0x7fd0f68dea00>"
      ]
     },
     "execution_count": 4,
     "metadata": {},
     "output_type": "execute_result"
    },
    {
     "data": {
      "image/png": "[encoded data removed]",
      "text/plain": [
       "<Figure size 432x288 with 1 Axes>"
      ]
     },
     "metadata": {
      "needs_background": "light"
     },
     "output_type": "display_data"
    }
   ],
   "source": [
    "x = np.linspace(0, 2*math.pi, 1000) # generate 1000 x-values between 0 (inclusive) and 2 pi (inclusive)\n",
    "y1 = np.sin(x) # compute sine of x elementwise\n",
    "y2 = np.cos(x) # compute sine of x elementwise\n",
    "plt.plot(x,y1,label=r\"$sin(x)$\") # plot values with label\n",
    "plt.plot(x,y2,label=r\"$cos(x)$\") # plot values with label\n",
    "plt.legend() # show legend\n",
    "# you might need to run plt.show() if nothing shows up"
   ]
  },
  {
   "cell_type": "code",
   "execution_count": 5,
   "metadata": {},
   "outputs": [
    {
     "name": "stdout",
     "output_type": "stream",
     "text": [
      "(0.01, 0.01)\n",
      "(0.02, 0.02)\n",
      "(0.03, 0.03)\n",
      "(0.04, 0.04)\n",
      "(0.05, 0.05)\n",
      "(0.060000000000000005, 0.060000000000000005)\n",
      "(0.06999999999999999, 0.06999999999999999)\n",
      "(0.08, 0.08)\n",
      "(0.09, 0.09)\n",
      "(0.09999999999999999, 0.09999999999999999)\n",
      "(0.11, 0.11)\n",
      "(0.12, 0.12)\n",
      "(0.13, 0.13)\n",
      "(0.14, 0.14)\n",
      "(0.15000000000000002, 0.15000000000000002)\n",
      "(0.16, 0.16)\n",
      "(0.17, 0.17)\n",
      "(0.18000000000000002, 0.18000000000000002)\n",
      "(0.19, 0.19)\n",
      "(0.2, 0.2)\n",
      "(0.21000000000000002, 0.21000000000000002)\n",
      "(0.22, 0.22)\n",
      "(0.23, 0.23)\n",
      "(0.24000000000000002, 0.24000000000000002)\n",
      "(0.25, 0.25)\n",
      "(0.26, 0.26)\n",
      "(0.27, 0.27)\n",
      "(0.28, 0.28)\n",
      "(0.29000000000000004, 0.29000000000000004)\n",
      "(0.3, 0.3)\n",
      "(0.31, 0.31)\n",
      "(0.32, 0.32)\n",
      "(0.33, 0.33)\n",
      "(0.34, 0.34)\n",
      "(0.35000000000000003, 0.35000000000000003)\n",
      "(0.36000000000000004, 0.36000000000000004)\n",
      "(0.37, 0.37)\n",
      "(0.38, 0.38)\n",
      "(0.39, 0.39)\n",
      "(0.4, 0.4)\n",
      "(0.41000000000000003, 0.41000000000000003)\n",
      "(0.42000000000000004, 0.42000000000000004)\n",
      "(0.43, 0.43)\n",
      "(0.44, 0.44)\n",
      "(0.45, 0.45)\n",
      "(0.46, 0.46)\n",
      "(0.47000000000000003, 0.47000000000000003)\n",
      "(0.48000000000000004, 0.48000000000000004)\n",
      "(0.49, 0.49)\n",
      "(0.5, 0.5)\n",
      "(0.51, 0.51)\n",
      "(0.52, 0.52)\n",
      "(0.53, 0.53)\n",
      "(0.54, 0.54)\n",
      "(0.55, 0.55)\n",
      "(0.56, 0.56)\n",
      "(0.5700000000000001, 0.5700000000000001)\n",
      "(0.5800000000000001, 0.5800000000000001)\n",
      "(0.59, 0.59)\n",
      "(0.6, 0.6)\n",
      "(0.61, 0.61)\n",
      "(0.62, 0.62)\n",
      "(0.63, 0.63)\n",
      "(0.64, 0.64)\n",
      "(0.65, 0.65)\n",
      "(0.66, 0.66)\n",
      "(0.67, 0.67)\n",
      "(0.68, 0.68)\n",
      "(0.6900000000000001, 0.6900000000000001)\n",
      "(0.7000000000000001, 0.7000000000000001)\n",
      "(0.7100000000000001, 0.7100000000000001)\n",
      "(0.72, 0.72)\n",
      "(0.73, 0.73)\n",
      "(0.74, 0.74)\n",
      "(0.75, 0.75)\n",
      "(0.76, 0.76)\n",
      "(0.77, 0.77)\n",
      "(0.78, 0.78)\n",
      "(0.79, 0.79)\n",
      "(0.8, 0.8)\n",
      "(0.81, 0.81)\n",
      "(0.8200000000000001, 0.8200000000000001)\n",
      "(0.8300000000000001, 0.8300000000000001)\n",
      "(0.8400000000000001, 0.8400000000000001)\n",
      "(0.85, 0.85)\n",
      "(0.86, 0.86)\n",
      "(0.87, 0.87)\n",
      "(0.88, 0.88)\n",
      "(0.89, 0.89)\n",
      "(0.9, 0.9)\n",
      "(0.91, 0.91)\n",
      "(0.92, 0.92)\n",
      "(0.93, 0.93)\n",
      "(0.9400000000000001, 0.9400000000000001)\n",
      "(0.9500000000000001, 0.9500000000000001)\n",
      "(0.9600000000000001, 0.9600000000000001)\n",
      "(0.97, 0.97)\n",
      "(0.98, 0.98)\n",
      "(0.99, 0.99)\n"
     ]
    },
    {
     "data": {
      "text/plain": [
       "<matplotlib.legend.Legend at 0x167bc25e0>"
      ]
     },
     "execution_count": 5,
     "metadata": {},
     "output_type": "execute_result"
    },
    {
     "data": {
      "image/png": "[encoded data removed]",
      "text/plain": [
       "<Figure size 432x288 with 1 Axes>"
      ]
     },
     "metadata": {
      "needs_background": "light"
     },
     "output_type": "display_data"
    }
   ],
   "source": [
    "a = np.arange(0.01,1,0.01)\n",
    "b = np.arange(0.01,1,0.01)\n",
    "\n",
    "ab = zip(a,b)\n",
    "entrop = []\n",
    "\n",
    "for i in ab:\n",
    "    entrop.append(entropy([i[0], i[1]]))\n",
    "\n",
    "\n",
    "plt.plot(a,entrop,label=r\"$entropy(x)$\") # plot values with label\n",
    "plt.legend()\n",
    " "
   ]
  },
  {
   "cell_type": "markdown",
   "metadata": {},
   "source": [
    "#### **Exercise 1.3**\n",
    "\n",
    "A measure that is related to Entropy is the *Gini Impurity* which is defined by\n",
    "$$\n",
    "    G(p) = 1-\\sum_{x\\in\\mathcal{X}}p(x)^2\n",
    "$$\n",
    "\n",
    "Extend the plot from Exercise 1.2, such that you also plot the Gini Impurity for the different values of $p(`a`)$. What do you notice?"
   ]
  },
  {
   "cell_type": "code",
   "execution_count": 6,
   "metadata": {},
   "outputs": [
    {
     "data": {
      "text/plain": [
       "<matplotlib.legend.Legend at 0x7fd0f47ed550>"
      ]
     },
     "execution_count": 6,
     "metadata": {},
     "output_type": "execute_result"
    },
    {
     "data": {
      "image/png": "[encoded data removed]",
      "text/plain": [
       "<Figure size 432x288 with 1 Axes>"
      ]
     },
     "metadata": {
      "needs_background": "light"
     },
     "output_type": "display_data"
    }
   ],
   "source": [
    "def gini(array):\n",
    "    totgini = 0\n",
    "    \n",
    "    for i in array:\n",
    "        totgini += i ** 2\n",
    "        \n",
    "    return 1 - totgini\n",
    "\n",
    "ab = zip(a,b)\n",
    "\n",
    "ginis =[]\n",
    "for i in ab:\n",
    "    ginis.append(gini([i[0], i[1]]))\n",
    "    \n",
    "plt.plot(a,ginis,label=r\"$gini(x)$\") # plot values with label\n",
    "plt.legend()"
   ]
  },
  {
   "cell_type": "markdown",
   "metadata": {},
   "source": [
    "# Exercise 2\n",
    "\n",
    "---\n",
    "\n",
    "In the lecture, we talked about a coding scheme with certain information-theoretic properties (Huffman coding). Below you find an implementation of Huffman coding using two classes, `CharacterTree` and `HuffmanCode`. The implementation of `HuffmanCode` might be interesting for you if you need to code a tree-structure in a later assignment. The code for `CharacterTree` is in the file `charactertree.py`.\n",
    "\n",
    "In this exercise, we will work with the Huffman code. Below is a list of methods of this class.\n",
    "\n",
    "* `Huffman(text)`: builds a code tree based on some string `text`.\n",
    "* `unique_characters() -> List[str]`: returns a list of unique characters in the text\n",
    "* `character_code(character: str) -> str`: returns the binary code (as a string) for a character in the code tree. If the character was not in the `text` the tree was built on, an `AttributeError` will be thrown.\n",
    "* `character_probability(character: str) -> float`: returns the probability for a character in the code tree. If the character was not in the `text` the tree was built on, an `AttributeError` will be thrown.\n",
    "* `string_code(string: str) -> str`: calls `character_code` for each character in the code and concatenates the codes to give an enconding of an entire string.\n",
    "* `decode(code: str) -> str`: Decodes an encoded string. The code can be the code for one character or for an entire string.\n",
    "* `entropy() -> float`: Returns the entropy of the code (***not yet implemented***)"
   ]
  },
  {
   "cell_type": "code",
   "execution_count": 7,
   "metadata": {},
   "outputs": [],
   "source": [
    "from charactertree import CharacterTree\n",
    "\n",
    "class HuffmanCode:\n",
    "    def __init__(self, text: str):\n",
    "        \"\"\"\n",
    "        :param text: the text should be a string\n",
    "        \"\"\"\n",
    "        self.text = text\n",
    "        self._compute_code_tree()\n",
    "\n",
    "    def unique_characters(self) -> List[str]:\n",
    "        \"\"\"\n",
    "        :return: a list of unique characters in the text\n",
    "        \"\"\"\n",
    "        return list(set(self.text))\n",
    "\n",
    "    def _compute_code_tree(self):\n",
    "        \"\"\"\n",
    "        Compute the code tree for the given text\n",
    "        \n",
    "        :return: nothing but set attribute below\n",
    "        \"\"\"\n",
    "        # use a Counter dictionary for convenience (https://docs.python.org/3/library/collections.html#collections.Counter)\n",
    "        counter = Counter(self.text)\n",
    "        # count of all characters (len(self.text) would give the same)\n",
    "        total_character_count = sum(list(counter.values()))\n",
    "        # make list of tuples of format (character, count)\n",
    "        sorted_counter_item_list = list(counter.items())\n",
    "        # build one-element tree for each of the unique words, initialized with their probability (character_count i[1] / total_count)\n",
    "        priority_queue = [CharacterTree(probability=i[1] / total_character_count, character=i[0]) for i in\n",
    "                          sorted_counter_item_list]\n",
    "        # while our tree is not fully there yet (more than one element in the \"queue\")\n",
    "        while len(priority_queue) > 1:\n",
    "            # re-order priority queue according to new probabilities, lowest probability first\n",
    "            priority_queue = sorted(priority_queue, key=lambda e: e.probability)\n",
    "            # take first two elements from the \"queue\"\n",
    "            first, second = priority_queue[:2]\n",
    "            # build new tree with first element as left child and second element as right child\n",
    "            subtree = CharacterTree(probability=first.probability + second.probability, left_child=first,\n",
    "                                    right_child=second)\n",
    "            # add new subtree to priority_queue (without the first two elements that are already in subtree)\n",
    "            priority_queue = [subtree] + priority_queue[2:]\n",
    "        # code tree is the first element once there is only one element left in the queue\n",
    "        self.code_tree = priority_queue[0]\n",
    "\n",
    "    @staticmethod\n",
    "    def _character_code(tree: CharacterTree, character: str, current_code: str, return_probability=False) -> Optional[\n",
    "        Union[str, Tuple[str, float]]]:\n",
    "        \"\"\"\n",
    "        Find the code for a word in the tree.\n",
    "\n",
    "        :param tree: the tree to search in\n",
    "        :param character: the character for which the code should be returned\n",
    "        :param current_code: the current code we already have (because this uses recursion)\n",
    "        :param return_probability: whether we should also return the probability\n",
    "        :return: either None if the character was not found, the code, or the code and the probability if return_probability is set to True\n",
    "        \"\"\"\n",
    "        # go deeper if we are not in a leaf\n",
    "        if tree.character is None:\n",
    "            # recursively check the left subtree\n",
    "            code = HuffmanCode._character_code(tree.left_child, character, current_code + \"0\",\n",
    "                                               return_probability=return_probability)\n",
    "            if code is None:\n",
    "                # recursively check the right subtree if nothing found in the left subtree\n",
    "                code = HuffmanCode._character_code(tree.right_child, character, current_code + \"1\",\n",
    "                                                   return_probability=return_probability)\n",
    "            return code\n",
    "        # else return the code now, exit condition\n",
    "        else:\n",
    "            if tree.character == character:\n",
    "                return current_code if not return_probability else (current_code, tree.probability)\n",
    "            return None\n",
    "\n",
    "    def character_code(self, character: str) -> str:\n",
    "        \"\"\"\n",
    "        Find the code for a character in the tree. Throws an exception if the character is not in the tree.\n",
    "\n",
    "        :param character: the character to find the code for\n",
    "        :return: the code for the character\n",
    "        \"\"\"\n",
    "        code = HuffmanCode._character_code(self.code_tree, character, \"\")\n",
    "        if code is None:\n",
    "            raise AttributeError(f\"Character '{character}' is not part of the code tree.\")\n",
    "        return code\n",
    "\n",
    "    def character_probability(self, character: str) -> float:\n",
    "        \"\"\"\n",
    "        Find the probability of a character in the tree\n",
    "\n",
    "        :param character: the character to find the probability for\n",
    "        :return: the probability of the character\n",
    "        \"\"\"\n",
    "        code_proba = HuffmanCode._character_code(self.code_tree, character, \"\", return_probability=True)\n",
    "        if code_proba is None:\n",
    "            raise AttributeError(\"Character is not part of the code tree\")\n",
    "        return code_proba[1]\n",
    "\n",
    "    def string_code(self, string: str) -> str:\n",
    "        \"\"\"\n",
    "        Find the code for a string in the tree.\n",
    "\n",
    "        :param string: string as a list of\n",
    "        :return: the code for the sentence\n",
    "        \"\"\"\n",
    "        return \"\".join([self.character_code(w) for w in string])\n",
    "\n",
    "    def decode(self, code: str) -> str:\n",
    "        \"\"\"\n",
    "        Decode a coded character or string.\n",
    "\n",
    "        :param code: the code to decode\n",
    "        :return: the decoded string\n",
    "        \"\"\"\n",
    "        # a function for the recursion\n",
    "        def _decode(remaining_code: str, tree: CharacterTree):\n",
    "            if tree.is_leaf():\n",
    "                return remaining_code, tree.character\n",
    "            else:\n",
    "                next_char_zero = remaining_code[0] == \"0\"\n",
    "                return _decode(remaining_code[1:],\n",
    "                               tree.left_child if next_char_zero else tree.right_child)\n",
    "\n",
    "        # start with the whole code\n",
    "        remaining_code = code\n",
    "        # store a list of already decoded words\n",
    "        decode = []\n",
    "        # while there is code left\n",
    "        while len(remaining_code) > 0:\n",
    "            # get the remaining code and the code for the current word\n",
    "            rem_code, word_decode = _decode(remaining_code, self.code_tree)\n",
    "            decode.append(word_decode)\n",
    "            remaining_code = rem_code\n",
    "        return \"\".join(decode)\n",
    "\n",
    "    def entropy(self) -> float:\n",
    "        \"\"\"\n",
    "        The entropy of the alphabet.\n",
    "\n",
    "        :return: the entropy of the alphabet.\n",
    "        \"\"\"\n",
    "        prob = [self.character_probability(cha) for cha in self.unique_characters()] \n",
    "        return sum([-p * math.log2(p) for p in prob])\n",
    "    \n",
    "    def __str__(self):\n",
    "        return self.code_tree.__str__()\n",
    "    "
   ]
  },
  {
   "cell_type": "markdown",
   "metadata": {},
   "source": [
    "#### Exercise 2.1\n",
    "\n",
    "In the class `HuffmanCode`, there is a method `entropy` that returns the entropy of the encoded alphabet **in bits**.\n",
    "\n",
    "Implement this method and compute the entropy of the following three strings using `HuffmanCode(string1).entropy()`, etc. Note that in this exercise we work with characters not with words as in the lecture."
   ]
  },
  {
   "cell_type": "code",
   "execution_count": 8,
   "metadata": {},
   "outputs": [],
   "source": [
    "string1 = \"Lorem ipsum dolor sit amet, consectetur adipiscing elit, sed do eiusmod tempor incididunt ut labore et dolore magna aliqua.\" # Expected entropy: ~4.027\n",
    "string2 = \"Ut enim ad minim veniam, quis nostrud exercitation ullamco laboris nisi ut aliquip ex ea commodo consequat.\" # Expected entropy: ~4.042\n",
    "string3 = \"Duis aute irure dolor in reprehenderit in voluptate velit esse cillum dolore eu fugiat nulla pariatur.\" # Expected entropy: ~3.905"
   ]
  },
  {
   "cell_type": "code",
   "execution_count": 9,
   "metadata": {},
   "outputs": [
    {
     "name": "stdout",
     "output_type": "stream",
     "text": [
      "string1: 4.027 (expected: 4.027)\n",
      "string2: 4.042 (expected: 4.042)\n",
      "string3: 3.905 (expected: 3.905)\n"
     ]
    }
   ],
   "source": [
    "print(f\"string1: {HuffmanCode(string1).entropy():.3f} (expected: 4.027)\")\n",
    "print(f\"string2: {HuffmanCode(string2).entropy():.3f} (expected: 4.042)\")\n",
    "print(f\"string3: {HuffmanCode(string3).entropy():.3f} (expected: 3.905)\")"
   ]
  },
  {
   "cell_type": "markdown",
   "metadata": {},
   "source": [
    "#### Exercise 2.2\n",
    "\n",
    "Considering the alphabet of `string1`, what would be the maximum entropy a text with this alphabet could achieve? Why is this value larger than in Exercise 1? Feel free to find the answer by Python code.\n",
    "\n",
    "*** Your answer *** \\\n",
    "The number is larger because the tree has more levels. This is so the frequently used letters should have a short encodigng and the not so common a long encoding.  \n"
   ]
  },
  {
   "cell_type": "code",
   "execution_count": 10,
   "metadata": {},
   "outputs": [
    {
     "name": "stdout",
     "output_type": "stream",
     "text": [
      "string1 unique char: ['L', 'r', 't', 'p', 'u', ',', 'l', 's', 'i', 'b', 'c', 'o', 'g', 'a', '.', 'd', 'q', 'e', 'n', ' ', 'm'] \n",
      "char probability: [0.008130081300813009, 0.04878048780487805, 0.07317073170731707, 0.024390243902439025, 0.04878048780487805, 0.016260162601626018, 0.04065040650406504, 0.04878048780487805, 0.08943089430894309, 0.008130081300813009, 0.032520325203252036, 0.08130081300813008, 0.016260162601626018, 0.056910569105691054, 0.008130081300813009, 0.06504065040650407, 0.008130081300813009, 0.08943089430894309, 0.04065040650406504, 0.14634146341463414, 0.04878048780487805] \n",
      "Number of chars: 21\n"
     ]
    }
   ],
   "source": [
    "print(f\"string1 unique char: {HuffmanCode(string1).unique_characters()} \")\n",
    "print(f\"char probability: {[HuffmanCode(string1).character_probability(cha) for cha in HuffmanCode(string1).unique_characters()]} \")\n",
    "print(f'Number of chars: {len(HuffmanCode(string1).unique_characters())}')\n"
   ]
  },
  {
   "cell_type": "markdown",
   "metadata": {},
   "source": [
    "#### Exercise 2.3\n",
    "\n",
    "Solve exercise 1.1 by encoding a string consisting of the characters 'a' and 'b' such that the entropy is maximum.\n",
    "\n",
    "* **How many such strings exist and what properties do they have?** \\\n",
    "Infinetly many but whith the condidition of equal amounts 'a' and 'b'\n",
    "---\n",
    "* **How would a string $s$ look like such that the entropy of $s$ goes to zero?** \\\n",
    "\"aaaaaaaaaaaaaaaaaaaaaaaaaaaaaaaaaaaaaaaaaaaaaaaaaaaaaaaab\" this string results in p('b')~0 p('a')~1\n",
    "---\n",
    "* **In the lectures we talked about the entropy of a probability distribution whereas now we talk about strings. How are these things related?** \\\n",
    "NOt sure"
   ]
  },
  {
   "cell_type": "markdown",
   "metadata": {},
   "source": [
    "#### Exercise 2.4\n",
    "\n",
    "We provide two text files, `lotr_en.txt` and `lotr_de.txt`, that contain text of 'Lord of the Rings (The Fellowship of the Ring)' in English and German respectively. You can create the `HuffmanCode` for both of them as follows: "
   ]
  },
  {
   "cell_type": "code",
   "execution_count": 11,
   "metadata": {},
   "outputs": [],
   "source": [
    "code_lotr_en = HuffmanCode(open(\"lotr_en.txt\", encoding=\"utf-8\").read())\n",
    "code_lotr_de = HuffmanCode(open(\"lotr_de.txt\", encoding=\"utf-8\").read())"
   ]
  },
  {
   "cell_type": "markdown",
   "metadata": {},
   "source": [
    "There is one other text file, `test.txt` that contains some other text. Assume we had to encode the text in `test.txt` with the code `code_lotr_en` or `code_lotr_de`. Please make sure to open the file using the UTF-8 encoding `open('test.txt', encoding='utf-8')` as otherwise you can get different values depending on your system's default encoding.\n",
    "\n",
    "* **Without considering `test.txt` for the moment, which language seems to have the lower entropy?**\\\n",
    "EN seems to be lower.\n",
    "---\n",
    "* **Measure the cross-entropy to answer the question whether it is more efficient to encode `test.txt` with the English or the German code.**\\\n",
    "The English version has worse cross entropy aka larger fault\n",
    "---\n",
    "* **Why do you think the code you found in the answer to the previous question is better to use?**\\\n",
    "Not sure\n",
    "---\n",
    "* **What would be the best way to encode the text in `test.txt`? Intuitively, why can't the cross-entropy be negative?**\\\n",
    "Because it describes the error. Error can be zero or positive.\n",
    "---\n",
    "* **How could you easily compute the Kullback-Leibler divergence based on what you already did now?**\\\n",
    "not sure\n",
    "---"
   ]
  },
  {
   "cell_type": "code",
   "execution_count": 20,
   "metadata": {},
   "outputs": [
    {
     "name": "stdout",
     "output_type": "stream",
     "text": [
      "Entropy lotr_en: 4.325265087324359\n",
      "Entropy lotr_de: 4.579456199002536\n",
      "Cross entropy DE: 1107.3622264170865 \n",
      "Cross entropy EN: 1186.1958231171632 \n"
     ]
    }
   ],
   "source": [
    "print(f'Entropy lotr_en: {code_lotr_en.entropy()}')\n",
    "print(f'Entropy lotr_de: {code_lotr_de.entropy()}')\n",
    "\n",
    "print(f\"Cross entropy DE: {sum([ -math.log2(i) for i in [code_lotr_de.character_probability(cha) for cha in code_lotr_de.unique_characters()]])} \")\n",
    "print(f\"Cross entropy EN: {sum([ -math.log2(i) for i in [code_lotr_en.character_probability(cha) for cha in code_lotr_en.unique_characters()]])} \")\n",
    "\n",
    "\n"
   ]
  },
  {
   "cell_type": "markdown",
   "metadata": {},
   "source": [
    "# Exercise 3\n",
    "\n",
    "---\n",
    "\n",
    "In the next exercise, we will work with joint probability distributions. For this purpose, we use the Kaggle Titanic dataset which consists of records of survivors and non-survivors of the Titanic disaster. For this exercise, we will be only interested in some of the attributes, `Survived` and `Sex`."
   ]
  },
  {
   "cell_type": "code",
   "execution_count": 14,
   "metadata": {},
   "outputs": [
    {
     "data": {
      "text/html": [
       "<div>\n",
       "<style scoped>\n",
       "    .dataframe tbody tr th:only-of-type {\n",
       "        vertical-align: middle;\n",
       "    }\n",
       "\n",
       "    .dataframe tbody tr th {\n",
       "        vertical-align: top;\n",
       "    }\n",
       "\n",
       "    .dataframe thead th {\n",
       "        text-align: right;\n",
       "    }\n",
       "</style>\n",
       "<table border=\"1\" class=\"dataframe\">\n",
       "  <thead>\n",
       "    <tr style=\"text-align: right;\">\n",
       "      <th></th>\n",
       "      <th>Survived</th>\n",
       "      <th>Pclass</th>\n",
       "      <th>Name</th>\n",
       "      <th>Sex</th>\n",
       "      <th>Age</th>\n",
       "      <th>Siblings/Spouses Aboard</th>\n",
       "      <th>Parents/Children Aboard</th>\n",
       "      <th>Fare</th>\n",
       "    </tr>\n",
       "  </thead>\n",
       "  <tbody>\n",
       "    <tr>\n",
       "      <th>0</th>\n",
       "      <td>0</td>\n",
       "      <td>3</td>\n",
       "      <td>Mr. Owen Harris Braund</td>\n",
       "      <td>male</td>\n",
       "      <td>22.0</td>\n",
       "      <td>1</td>\n",
       "      <td>0</td>\n",
       "      <td>7.2500</td>\n",
       "    </tr>\n",
       "    <tr>\n",
       "      <th>1</th>\n",
       "      <td>1</td>\n",
       "      <td>1</td>\n",
       "      <td>Mrs. John Bradley (Florence Briggs Thayer) Cum...</td>\n",
       "      <td>female</td>\n",
       "      <td>38.0</td>\n",
       "      <td>1</td>\n",
       "      <td>0</td>\n",
       "      <td>71.2833</td>\n",
       "    </tr>\n",
       "    <tr>\n",
       "      <th>2</th>\n",
       "      <td>1</td>\n",
       "      <td>3</td>\n",
       "      <td>Miss. Laina Heikkinen</td>\n",
       "      <td>female</td>\n",
       "      <td>26.0</td>\n",
       "      <td>0</td>\n",
       "      <td>0</td>\n",
       "      <td>7.9250</td>\n",
       "    </tr>\n",
       "    <tr>\n",
       "      <th>3</th>\n",
       "      <td>1</td>\n",
       "      <td>1</td>\n",
       "      <td>Mrs. Jacques Heath (Lily May Peel) Futrelle</td>\n",
       "      <td>female</td>\n",
       "      <td>35.0</td>\n",
       "      <td>1</td>\n",
       "      <td>0</td>\n",
       "      <td>53.1000</td>\n",
       "    </tr>\n",
       "    <tr>\n",
       "      <th>4</th>\n",
       "      <td>0</td>\n",
       "      <td>3</td>\n",
       "      <td>Mr. William Henry Allen</td>\n",
       "      <td>male</td>\n",
       "      <td>35.0</td>\n",
       "      <td>0</td>\n",
       "      <td>0</td>\n",
       "      <td>8.0500</td>\n",
       "    </tr>\n",
       "    <tr>\n",
       "      <th>...</th>\n",
       "      <td>...</td>\n",
       "      <td>...</td>\n",
       "      <td>...</td>\n",
       "      <td>...</td>\n",
       "      <td>...</td>\n",
       "      <td>...</td>\n",
       "      <td>...</td>\n",
       "      <td>...</td>\n",
       "    </tr>\n",
       "    <tr>\n",
       "      <th>882</th>\n",
       "      <td>0</td>\n",
       "      <td>2</td>\n",
       "      <td>Rev. Juozas Montvila</td>\n",
       "      <td>male</td>\n",
       "      <td>27.0</td>\n",
       "      <td>0</td>\n",
       "      <td>0</td>\n",
       "      <td>13.0000</td>\n",
       "    </tr>\n",
       "    <tr>\n",
       "      <th>883</th>\n",
       "      <td>1</td>\n",
       "      <td>1</td>\n",
       "      <td>Miss. Margaret Edith Graham</td>\n",
       "      <td>female</td>\n",
       "      <td>19.0</td>\n",
       "      <td>0</td>\n",
       "      <td>0</td>\n",
       "      <td>30.0000</td>\n",
       "    </tr>\n",
       "    <tr>\n",
       "      <th>884</th>\n",
       "      <td>0</td>\n",
       "      <td>3</td>\n",
       "      <td>Miss. Catherine Helen Johnston</td>\n",
       "      <td>female</td>\n",
       "      <td>7.0</td>\n",
       "      <td>1</td>\n",
       "      <td>2</td>\n",
       "      <td>23.4500</td>\n",
       "    </tr>\n",
       "    <tr>\n",
       "      <th>885</th>\n",
       "      <td>1</td>\n",
       "      <td>1</td>\n",
       "      <td>Mr. Karl Howell Behr</td>\n",
       "      <td>male</td>\n",
       "      <td>26.0</td>\n",
       "      <td>0</td>\n",
       "      <td>0</td>\n",
       "      <td>30.0000</td>\n",
       "    </tr>\n",
       "    <tr>\n",
       "      <th>886</th>\n",
       "      <td>0</td>\n",
       "      <td>3</td>\n",
       "      <td>Mr. Patrick Dooley</td>\n",
       "      <td>male</td>\n",
       "      <td>32.0</td>\n",
       "      <td>0</td>\n",
       "      <td>0</td>\n",
       "      <td>7.7500</td>\n",
       "    </tr>\n",
       "  </tbody>\n",
       "</table>\n",
       "<p>887 rows × 8 columns</p>\n",
       "</div>"
      ],
      "text/plain": [
       "     Survived  Pclass                                               Name  \\\n",
       "0           0       3                             Mr. Owen Harris Braund   \n",
       "1           1       1  Mrs. John Bradley (Florence Briggs Thayer) Cum...   \n",
       "2           1       3                              Miss. Laina Heikkinen   \n",
       "3           1       1        Mrs. Jacques Heath (Lily May Peel) Futrelle   \n",
       "4           0       3                            Mr. William Henry Allen   \n",
       "..        ...     ...                                                ...   \n",
       "882         0       2                               Rev. Juozas Montvila   \n",
       "883         1       1                        Miss. Margaret Edith Graham   \n",
       "884         0       3                     Miss. Catherine Helen Johnston   \n",
       "885         1       1                               Mr. Karl Howell Behr   \n",
       "886         0       3                                 Mr. Patrick Dooley   \n",
       "\n",
       "        Sex   Age  Siblings/Spouses Aboard  Parents/Children Aboard     Fare  \n",
       "0      male  22.0                        1                        0   7.2500  \n",
       "1    female  38.0                        1                        0  71.2833  \n",
       "2    female  26.0                        0                        0   7.9250  \n",
       "3    female  35.0                        1                        0  53.1000  \n",
       "4      male  35.0                        0                        0   8.0500  \n",
       "..      ...   ...                      ...                      ...      ...  \n",
       "882    male  27.0                        0                        0  13.0000  \n",
       "883  female  19.0                        0                        0  30.0000  \n",
       "884  female   7.0                        1                        2  23.4500  \n",
       "885    male  26.0                        0                        0  30.0000  \n",
       "886    male  32.0                        0                        0   7.7500  \n",
       "\n",
       "[887 rows x 8 columns]"
      ]
     },
     "execution_count": 14,
     "metadata": {},
     "output_type": "execute_result"
    }
   ],
   "source": [
    "titanic = pd.read_csv(\"titanic.csv\")\n",
    "titanic"
   ]
  },
  {
   "cell_type": "markdown",
   "metadata": {},
   "source": [
    "As an example, we can compute the probability of a passenger being female or being female and in the third class as follows"
   ]
  },
  {
   "cell_type": "code",
   "execution_count": 15,
   "metadata": {},
   "outputs": [
    {
     "name": "stdout",
     "output_type": "stream",
     "text": [
      "Probability of a female passenger: 0.354\n",
      "Probability of a female passenger and in third class: 0.162\n"
     ]
    }
   ],
   "source": [
    "p_female =  len(titanic.loc[(titanic['Sex'] == \"female\")]) / len(titanic)\n",
    "\n",
    "p_female_and_third_class = len(titanic.loc[(titanic['Sex'] == \"female\") & (titanic['Pclass'] == 3)]) / len(titanic)\n",
    "print(f\"Probability of a female passenger: {p_female:.3f}\")\n",
    "print(f\"Probability of a female passenger and in third class: {p_female_and_third_class:.3f}\")"
   ]
  },
  {
   "cell_type": "markdown",
   "metadata": {},
   "source": [
    "The following table gives you the joint a marginal probabilities for the random variables we consider.\n",
    "\n",
    "| $S$ / $V$ | dead | alive | P($S$) |\n",
    "| --------- | ---- | ----- | ------ |\n",
    "| **female** | 0.091 | 0.262 | 0.354 |\n",
    "| **male** | 0.523 | 0.122 | 0.646 |\n",
    "| **P($V$)** | 0.6144 | 0.385 | 1 |"
   ]
  },
  {
   "cell_type": "markdown",
   "metadata": {},
   "source": [
    "#### Exercise 3.1\n",
    "\n",
    "* **Below, the value $H(S)$ is given. Is this a high or a low entropy? For what distribution would the uncertainty be maximal/minimal (with which value)?**\\\n",
    "It is high\n",
    "---\n",
    "\n"
   ]
  },
  {
   "cell_type": "code",
   "execution_count": 25,
   "metadata": {},
   "outputs": [
    {
     "name": "stdout",
     "output_type": "stream",
     "text": [
      "H(S)=0.938\n"
     ]
    }
   ],
   "source": [
    "p_female =  len(titanic.loc[(titanic['Sex'] == \"female\")]) / len(titanic)\n",
    "p_male =  len(titanic.loc[(titanic['Sex'] == \"male\")]) / len(titanic)\n",
    "p_dead = len(titanic.loc[(titanic['Survived'] == 0)]) / len(titanic)\n",
    "p_alive = len(titanic.loc[(titanic['Survived'] == 1)]) / len(titanic)\n",
    "\n",
    "p_female_and_dead = len(titanic.loc[(titanic['Sex'] == \"female\") & (titanic['Survived'] == 0)]) / len(titanic)\n",
    "p_female_and_alive = len(titanic.loc[(titanic['Sex'] == \"female\") & (titanic['Survived'] == 1)]) / len(titanic)\n",
    "p_male_and_dead = len(titanic.loc[(titanic['Sex'] == \"male\") & (titanic['Survived'] == 0)]) / len(titanic) \n",
    "p_male_and_alive = len(titanic.loc[(titanic['Sex'] == \"male\") & (titanic['Survived'] == 1)]) / len(titanic)\n",
    "\n",
    "entropy_sex = - p_female * np.log2(p_female) - p_male * np.log2(p_male)\n",
    "entropy_alive = -p_dead * np.log2(p_dead) - p_alive * np.log2(p_alive)\n",
    "print(f\"H(S)={entropy_sex:.3f}\")"
   ]
  },
  {
   "cell_type": "markdown",
   "metadata": {},
   "source": [
    "#### Exercise 3.2\n",
    "\n",
    "Now, let further $V$ the random variable for a passenger's vitality, distributed according to the empirical distribution in our dataset. You can solve this exercise by coding (using the variables defined above) or with a calculator.\n",
    "\n",
    "* **What is $H(V)$?**\n",
    "* **What is $H(S|V)$?**\n",
    "* **What is the mutual information $I(S; V)$?**\n",
    "* **Does knowing $S$ reduce the uncertainty about $V$?**\n"
   ]
  },
  {
   "cell_type": "code",
   "execution_count": 26,
   "metadata": {},
   "outputs": [
    {
     "name": "stdout",
     "output_type": "stream",
     "text": [
      "Alive H(V): 0.9618806789594467\n"
     ]
    }
   ],
   "source": [
    "print(f'Alive H(V): {entropy_alive}')\n"
   ]
  },
  {
   "cell_type": "markdown",
   "metadata": {},
   "source": [
    "#### Exercise 3.2 (Optional)\n",
    "\n",
    "* **Assume $S$ and $V$ are marginally still distributed according to the empirical distribution in our dataset, i.e., the bottom row and the right column in the table above stay as they are. How must the joint probabilities look for $I(S; V)$ to be maximal? What would be the maximum value of $I(S; V)$? What would the joint entropy be in that case?**"
   ]
  },
  {
   "cell_type": "code",
   "execution_count": null,
   "metadata": {},
   "outputs": [],
   "source": []
  }
 ],
 "metadata": {
  "kernelspec": {
   "display_name": "Python 3 (ipykernel)",
   "language": "python",
   "name": "python3"
  },
  "language_info": {
   "codemirror_mode": {
    "name": "ipython",
    "version": 3
   },
   "file_extension": ".py",
   "mimetype": "text/x-python",
   "name": "python",
   "nbconvert_exporter": "python",
   "pygments_lexer": "ipython3",
   "version": "3.9.7"
  }
 },
 "nbformat": 4,
 "nbformat_minor": 4
}
