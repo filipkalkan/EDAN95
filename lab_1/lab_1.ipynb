{
 "cells": [
  {
   "cell_type": "markdown",
   "metadata": {},
   "source": [
    "# Machine learning example\n",
    "\n",
    "We will try to predict scanned, low resolution, images of handwritten numbers, to their corresponding number."
   ]
  },
  {
   "cell_type": "code",
   "execution_count": 2,
   "metadata": {},
   "outputs": [],
   "source": [
    "from sklearn import datasets, svm, metrics\n",
    "from sklearn.neighbors import KNeighborsClassifier\n",
    "import matplotlib.pyplot as plt\n",
    "import random"
   ]
  },
  {
   "cell_type": "markdown",
   "metadata": {},
   "source": [
    "Loads a dataset with about **1800**, **8x8 pixel** image of **handwritten numbers**."
   ]
  },
  {
   "cell_type": "code",
   "execution_count": 3,
   "metadata": {},
   "outputs": [],
   "source": [
    "digits = datasets.load_digits()"
   ]
  },
  {
   "cell_type": "markdown",
   "metadata": {},
   "source": [
    "**Inspecting** the data."
   ]
  },
  {
   "cell_type": "code",
   "execution_count": 4,
   "metadata": {},
   "outputs": [
    {
     "data": {
      "text/plain": [
       "array([[ 0.,  0.,  5., ...,  0.,  0.,  0.],\n",
       "       [ 0.,  0.,  0., ..., 10.,  0.,  0.],\n",
       "       [ 0.,  0.,  0., ..., 16.,  9.,  0.],\n",
       "       ...,\n",
       "       [ 0.,  0.,  1., ...,  6.,  0.,  0.],\n",
       "       [ 0.,  0.,  2., ..., 12.,  0.,  0.],\n",
       "       [ 0.,  0., 10., ..., 12.,  1.,  0.]])"
      ]
     },
     "execution_count": 4,
     "metadata": {},
     "output_type": "execute_result"
    }
   ],
   "source": [
    "digits.data"
   ]
  },
  {
   "cell_type": "code",
   "execution_count": 5,
   "metadata": {},
   "outputs": [
    {
     "data": {
      "text/plain": [
       "array([ 0.,  0.,  5., 13.,  9.,  1.,  0.,  0.,  0.,  0., 13., 15., 10.,\n",
       "       15.,  5.,  0.,  0.,  3., 15.,  2.,  0., 11.,  8.,  0.,  0.,  4.,\n",
       "       12.,  0.,  0.,  8.,  8.,  0.,  0.,  5.,  8.,  0.,  0.,  9.,  8.,\n",
       "        0.,  0.,  4., 11.,  0.,  1., 12.,  7.,  0.,  0.,  2., 14.,  5.,\n",
       "       10., 12.,  0.,  0.,  0.,  0.,  6., 13., 10.,  0.,  0.,  0.])"
      ]
     },
     "execution_count": 5,
     "metadata": {},
     "output_type": "execute_result"
    }
   ],
   "source": [
    "digits.data[0]"
   ]
  },
  {
   "cell_type": "code",
   "execution_count": 6,
   "metadata": {},
   "outputs": [
    {
     "name": "stdout",
     "output_type": "stream",
     "text": [
      "(1797, 64)\n"
     ]
    }
   ],
   "source": [
    "print(digits.data.shape)"
   ]
  },
  {
   "cell_type": "markdown",
   "metadata": {},
   "source": [
    "Using **Matplotlib** to **visualize** some training examples."
   ]
  },
  {
   "cell_type": "code",
   "execution_count": 7,
   "metadata": {
    "scrolled": true
   },
   "outputs": [
    {
     "data": {
      "image/png": "[encoded data removed]",
      "text/plain": [
       "<Figure size 432x288 with 10 Axes>"
      ]
     },
     "metadata": {
      "needs_background": "light"
     },
     "output_type": "display_data"
    }
   ],
   "source": [
    "images_and_labels = list(zip(digits.images, digits.target))\n",
    "for index, (image, label) in enumerate(images_and_labels[:10]):\n",
    "    plt.subplot(2, 5, index + 1)\n",
    "    plt.axis('off')\n",
    "    plt.imshow(image, cmap=plt.cm.gray_r, interpolation='nearest')\n",
    "    plt.title('Training: %i' % label)"
   ]
  },
  {
   "cell_type": "markdown",
   "metadata": {},
   "source": [
    "Dividing the examples in the data set into a **training** and **test set**. Using a **70/30%** split."
   ]
  },
  {
   "cell_type": "code",
   "execution_count": 8,
   "metadata": {
    "scrolled": false
   },
   "outputs": [
    {
     "data": {
      "text/plain": [
       "1797"
      ]
     },
     "execution_count": 8,
     "metadata": {},
     "output_type": "execute_result"
    }
   ],
   "source": [
    "num_examples = len(digits.data)\n",
    "num_examples"
   ]
  },
  {
   "cell_type": "code",
   "execution_count": 9,
   "metadata": {
    "scrolled": false
   },
   "outputs": [
    {
     "data": {
      "text/plain": [
       "1797"
      ]
     },
     "execution_count": 9,
     "metadata": {},
     "output_type": "execute_result"
    }
   ],
   "source": [
    "num_examples = len(digits.data)\n",
    "num_examples"
   ]
  },
  {
   "cell_type": "code",
   "execution_count": 10,
   "metadata": {},
   "outputs": [
    {
     "data": {
      "text/plain": [
       "1257"
      ]
     },
     "execution_count": 10,
     "metadata": {},
     "output_type": "execute_result"
    }
   ],
   "source": [
    "num_split = int(0.7*num_examples)\n",
    "num_split"
   ]
  },
  {
   "cell_type": "code",
   "execution_count": 11,
   "metadata": {},
   "outputs": [],
   "source": [
    "train_features = digits.data[:num_split]\n",
    "train_labels =  digits.target[:num_split]\n",
    "train_images = digits.images[:num_split]\n",
    "test_features = digits.data[num_split:]\n",
    "test_labels = digits.target[num_split:]\n",
    "test_images = digits.images[num_split:]"
   ]
  },
  {
   "cell_type": "code",
   "execution_count": 12,
   "metadata": {
    "scrolled": false
   },
   "outputs": [
    {
     "name": "stdout",
     "output_type": "stream",
     "text": [
      "Number of training examples:  1257\n",
      "Number of test examples:  540\n",
      "Number of total examples: 1797\n"
     ]
    }
   ],
   "source": [
    "print(\"Number of training examples: \",len(train_features))\n",
    "print(\"Number of test examples: \",len(test_features))\n",
    "print(\"Number of total examples:\", len(train_features)+len(test_features))"
   ]
  },
  {
   "cell_type": "markdown",
   "metadata": {},
   "source": [
    "# Part 4"
   ]
  },
  {
   "cell_type": "markdown",
   "metadata": {},
   "source": [
    "Creating a **model** to be used as a **classifier**, in this case a **k-NN classifier**."
   ]
  },
  {
   "cell_type": "code",
   "execution_count": 13,
   "metadata": {},
   "outputs": [
    {
     "data": {
      "text/plain": [
       "KNeighborsClassifier(algorithm='brute')"
      ]
     },
     "execution_count": 13,
     "metadata": {},
     "output_type": "execute_result"
    }
   ],
   "source": [
    "classifier = KNeighborsClassifier(n_neighbors = 5, algorithm = 'brute')\n",
    "classifier.fit(train_features, train_labels)"
   ]
  },
  {
   "cell_type": "markdown",
   "metadata": {},
   "source": [
    "Print the predictions"
   ]
  },
  {
   "cell_type": "code",
   "execution_count": 14,
   "metadata": {},
   "outputs": [
    {
     "name": "stdout",
     "output_type": "stream",
     "text": [
      "Prediction: [4 0 5 3 6 9 6 1 7 5 4 4 7 2 8 2 2 5 7 9 5 4 8 8 4 9 0 8 9 8 0 1 2 3 4 5 6\n",
      " 7 8 9 0 1 2 3 4 5 6 7 8 9 0 1 2 3 4 5 6 7 8 9 0 9 5 5 6 5 0 9 8 9 8 4 1 7\n",
      " 7 3 5 1 0 0 2 2 7 8 2 0 1 2 6 3 3 7 3 3 4 6 6 6 4 9 1 5 0 9 6 2 8 3 0 0 1\n",
      " 7 6 3 2 1 7 4 6 3 1 3 9 1 7 6 8 4 3 1 4 0 5 3 6 9 6 1 7 5 4 4 7 2 8 2 2 5\n",
      " 7 9 5 4 1 8 4 9 0 8 0 1 2 3 4 5 6 7 8 9 0 1 2 3 4 5 6 7 8 9 0 1 2 3 4 5 6\n",
      " 7 8 9 0 9 5 5 6 5 0 9 8 9 8 4 1 7 7 3 5 1 0 0 2 2 7 9 2 0 1 2 6 3 3 7 3 3\n",
      " 4 6 6 6 4 9 1 5 0 9 5 2 8 2 0 0 9 7 6 3 2 1 7 4 6 3 1 3 9 1 7 6 8 4 3 1 4\n",
      " 0 5 3 6 9 6 1 7 5 4 4 7 2 8 2 2 5 7 9 5 4 8 8 4 9 0 8 9 8 0 1 2 3 4 5 6 7\n",
      " 1 9 0 1 2 3 4 5 6 9 0 1 2 3 4 5 6 7 8 9 4 9 5 5 6 5 0 9 8 5 8 4 1 7 7 3 5\n",
      " 1 0 0 0 2 7 8 2 0 1 2 6 3 3 7 7 8 4 6 6 6 7 9 1 5 0 9 5 2 8 0 1 7 6 3 2 1\n",
      " 7 4 6 3 1 3 9 1 7 6 8 4 3 1 4 0 5 3 6 9 6 1 7 5 4 4 7 2 2 5 7 3 5 8 4 5 0\n",
      " 8 9 7 0 1 2 3 4 5 6 7 8 9 0 1 2 3 4 5 6 7 8 9 0 1 2 3 4 5 6 7 8 9 0 9 5 5\n",
      " 6 5 0 9 8 9 8 4 1 7 7 3 5 1 0 0 2 2 7 8 2 0 1 2 6 3 2 7 3 3 4 6 6 6 4 9 1\n",
      " 5 0 9 5 2 8 2 0 0 1 7 6 3 2 1 7 4 6 3 1 3 9 1 7 6 8 4 5 1 4 0 5 3 6 9 6 1\n",
      " 7 5 4 4 7 2 8 2 2 5 7 9 5 4 8 1 4 9 0 8 9 8]\n"
     ]
    }
   ],
   "source": [
    "predicted_labels = classifier.predict(test_features)\n",
    "print(\"Prediction:\", predicted_labels)"
   ]
  },
  {
   "cell_type": "markdown",
   "metadata": {},
   "source": [
    "## Visualizing neighbors"
   ]
  },
  {
   "cell_type": "code",
   "execution_count": 24,
   "metadata": {},
   "outputs": [
    {
     "name": "stdout",
     "output_type": "stream",
     "text": [
      "distances\n",
      " [[11.66190379 16.94107435 18.16590212 19.31320792 20.19900988]\n",
      " [21.09502311 21.47091055 21.61018278 21.74856317 21.81742423]\n",
      " [18.02775638 18.1934054  19.62141687 21.16601049 21.9317122 ]\n",
      " ...\n",
      " [20.83266666 21.70253441 22.93468988 24.0208243  25.63201124]\n",
      " [19.5192213  21.09502311 23.87467277 24.69817807 24.8394847 ]\n",
      " [26.73948391 27.62245463 27.73084925 27.80287755 27.92848009]] \n",
      "neighbors\n",
      " [[ 353  817  297  366 1254]\n",
      " [1177  588  725  824  328]\n",
      " [ 376  791  801  165  896]\n",
      " ...\n",
      " [ 148  248  242 1069  255]\n",
      " [ 254  251  849  417  199]\n",
      " [ 183  248 1015  513  224]]\n"
     ]
    }
   ],
   "source": [
    "(distances, neighbors) = classifier.kneighbors( test_features ) \n",
    "print('distances\\n', distances, '\\nneighbors\\n', neighbors)"
   ]
  },
  {
   "cell_type": "code",
   "execution_count": 16,
   "metadata": {},
   "outputs": [
    {
     "data": {
      "image/png": "[encoded data removed]",
      "text/plain": [
       "<Figure size 432x288 with 6 Axes>"
      ]
     },
     "metadata": {
      "needs_background": "light"
     },
     "output_type": "display_data"
    },
    {
     "data": {
      "image/png": "[encoded data removed]",
      "text/plain": [
       "<Figure size 432x288 with 6 Axes>"
      ]
     },
     "metadata": {
      "needs_background": "light"
     },
     "output_type": "display_data"
    },
    {
     "data": {
      "image/png": "[encoded data removed]",
      "text/plain": [
       "<Figure size 432x288 with 6 Axes>"
      ]
     },
     "metadata": {
      "needs_background": "light"
     },
     "output_type": "display_data"
    },
    {
     "data": {
      "image/png": "[encoded data removed]",
      "text/plain": [
       "<Figure size 432x288 with 6 Axes>"
      ]
     },
     "metadata": {
      "needs_background": "light"
     },
     "output_type": "display_data"
    },
    {
     "data": {
      "image/png": "[encoded data removed]",
      "text/plain": [
       "<Figure size 432x288 with 6 Axes>"
      ]
     },
     "metadata": {
      "needs_background": "light"
     },
     "output_type": "display_data"
    }
   ],
   "source": [
    "for n_ref in range(5):\n",
    "    plt.subplots(2)\n",
    "\n",
    "    plt.axis('off')\n",
    "    plt.imshow(test_images[n_ref], cmap=plt.cm.gray_r, interpolation='nearest')\n",
    "    plt.title('Reference: %i' % test_labels[n_ref])\n",
    "    # print(neighbors[n_ref])\n",
    "\n",
    "    for i in range(5):\n",
    "        index = neighbors[n_ref][int(i)]\n",
    "        # print(\"i\", int(i), \"index\", index)\n",
    "        image = train_images[index]\n",
    "        label = train_labels[index]\n",
    "        plt.subplot(2, 5, i+1)\n",
    "        plt.axis('off')\n",
    "        plt.imshow(image, cmap=plt.cm.gray_r, interpolation='nearest')\n",
    "        plt.title('label: %i' % label)\n",
    "    "
   ]
  },
  {
   "cell_type": "code",
   "execution_count": 17,
   "metadata": {},
   "outputs": [
    {
     "name": "stdout",
     "output_type": "stream",
     "text": [
      "Classification matrix\n",
      "               precision    recall  f1-score   support\n",
      "\n",
      "           0       0.98      0.98      0.98        53\n",
      "           1       0.95      0.98      0.96        53\n",
      "           2       0.98      0.96      0.97        53\n",
      "           3       0.96      0.92      0.94        53\n",
      "           4       0.98      0.96      0.97        57\n",
      "           5       0.95      0.98      0.96        56\n",
      "           6       0.98      1.00      0.99        54\n",
      "           7       0.95      1.00      0.97        54\n",
      "           8       0.96      0.90      0.93        52\n",
      "           9       0.96      0.95      0.95        55\n",
      "\n",
      "    accuracy                           0.96       540\n",
      "   macro avg       0.96      0.96      0.96       540\n",
      "weighted avg       0.97      0.96      0.96       540\n",
      "\n",
      "Confusion matrix\n",
      " [[52  0  0  0  1  0  0  0  0  0]\n",
      " [ 0 52  0  0  0  0  0  0  0  1]\n",
      " [ 1  0 51  1  0  0  0  0  0  0]\n",
      " [ 0  0  1 49  0  1  0  1  1  0]\n",
      " [ 0  0  0  0 55  0  0  1  1  0]\n",
      " [ 0  0  0  0  0 55  1  0  0  0]\n",
      " [ 0  0  0  0  0  0 54  0  0  0]\n",
      " [ 0  0  0  0  0  0  0 54  0  0]\n",
      " [ 0  3  0  0  0  0  0  1 47  1]\n",
      " [ 0  0  0  1  0  2  0  0  0 52]]\n"
     ]
    }
   ],
   "source": [
    "print(\"Classification matrix\\n\", metrics.classification_report( test_labels, predicted_labels) )\n",
    "print(\"Confusion matrix\\n\", metrics.confusion_matrix( test_labels, predicted_labels))\n"
   ]
  },
  {
   "cell_type": "markdown",
   "metadata": {},
   "source": [
    "# Part 5"
   ]
  },
  {
   "cell_type": "code",
   "execution_count": 18,
   "metadata": {},
   "outputs": [],
   "source": [
    "from sklearn.cluster import KMeans \n",
    "clustering = KMeans(n_clusters = 10)\n",
    "clusters = clustering.fit(train_features)"
   ]
  },
  {
   "cell_type": "code",
   "execution_count": 19,
   "metadata": {},
   "outputs": [],
   "source": [
    "predicted = clustering.predict(test_features)"
   ]
  },
  {
   "cell_type": "code",
   "execution_count": 20,
   "metadata": {},
   "outputs": [
    {
     "name": "stdout",
     "output_type": "stream",
     "text": [
      "Classification matrix\n",
      "               precision    recall  f1-score   support\n",
      "\n",
      "           0       0.00      0.00      0.00        53\n",
      "           1       0.47      0.66      0.55        53\n",
      "           2       0.00      0.00      0.00        53\n",
      "           3       0.80      0.77      0.79        53\n",
      "           4       0.96      0.91      0.94        57\n",
      "           5       0.00      0.00      0.00        56\n",
      "           6       0.98      0.96      0.97        54\n",
      "           7       0.00      0.00      0.00        54\n",
      "           8       0.16      0.23      0.19        52\n",
      "           9       0.00      0.00      0.00        55\n",
      "\n",
      "    accuracy                           0.36       540\n",
      "   macro avg       0.34      0.35      0.34       540\n",
      "weighted avg       0.34      0.36      0.35       540\n",
      "\n",
      "Confusion matrix\n",
      " [[ 0  0  0  0  1  0  0 52  0  0]\n",
      " [17 35  1  0  0  0  0  0  0  0]\n",
      " [ 0  0  0  6  0  0  0  1  3 43]\n",
      " [ 0  5  3 41  0  3  0  0  1  0]\n",
      " [ 1  0  1  0 52  2  0  1  0  0]\n",
      " [ 0  0 36  0  1  0  1  0 18  0]\n",
      " [ 1  1  0  0  0  0 52  0  0  0]\n",
      " [ 0  2  0  0  0 52  0  0  0  0]\n",
      " [ 1 32  3  1  0  2  0  0 12  1]\n",
      " [ 5  0  4  3  0  1  0  0 42  0]]\n"
     ]
    }
   ],
   "source": [
    "print(\"Classification matrix\\n\", metrics.classification_report( test_labels, predicted) )\n",
    "print(\"Confusion matrix\\n\", metrics.confusion_matrix( test_labels, predicted))"
   ]
  },
  {
   "cell_type": "code",
   "execution_count": 21,
   "metadata": {},
   "outputs": [
    {
     "name": "stdout",
     "output_type": "stream",
     "text": [
      "completeness_score 0.7434921566289467\n",
      "homogeneity_score 0.7321848324483357\n"
     ]
    }
   ],
   "source": [
    "print(\"completeness_score\", metrics.completeness_score( test_labels, predicted))\n",
    "print(\"homogeneity_score\", metrics.homogeneity_score( test_labels, predicted))"
   ]
  },
  {
   "cell_type": "code",
   "execution_count": 22,
   "metadata": {},
   "outputs": [
    {
     "data": {
      "text/plain": [
       "array([[ 0.00000000e+00,  5.55111512e-17,  4.41176471e-02,\n",
       "         1.97058824e+00,  1.14705882e+01,  1.21764706e+01,\n",
       "         4.22058824e+00,  1.02941176e-01,  8.67361738e-19,\n",
       "         7.35294118e-02,  1.50000000e+00,  8.57352941e+00,\n",
       "         1.37058824e+01,  1.24852941e+01,  5.48529412e+00,\n",
       "         1.61764706e-01,  4.33680869e-19,  9.41176471e-01,\n",
       "         7.30882353e+00,  1.18382353e+01,  1.18529412e+01,\n",
       "         1.28823529e+01,  3.97058824e+00,  1.02941176e-01,\n",
       "         2.16840434e-19,  3.51470588e+00,  1.24852941e+01,\n",
       "         1.29852941e+01,  1.43382353e+01,  1.29852941e+01,\n",
       "         2.07352941e+00,  8.67361738e-19,  0.00000000e+00,\n",
       "         2.23529412e+00,  8.42647059e+00,  9.58823529e+00,\n",
       "         1.32647059e+01,  1.16029412e+01,  1.39705882e+00,\n",
       "         0.00000000e+00,  3.46944695e-18,  9.70588235e-01,\n",
       "         2.76470588e+00,  5.08823529e+00,  1.26764706e+01,\n",
       "         1.12352941e+01,  7.50000000e-01, -1.73472348e-18,\n",
       "         3.46944695e-18,  4.41176471e-02,  4.26470588e-01,\n",
       "         4.14705882e+00,  1.32941176e+01,  1.11470588e+01,\n",
       "         1.00000000e+00,  0.00000000e+00,  2.16840434e-19,\n",
       "         1.11022302e-16,  8.88178420e-16,  2.07352941e+00,\n",
       "         1.19117647e+01,  1.03970588e+01,  1.26470588e+00,\n",
       "         0.00000000e+00],\n",
       "       [ 0.00000000e+00,  9.62962963e-02,  3.42962963e+00,\n",
       "         1.11925926e+01,  1.25259259e+01,  5.83703704e+00,\n",
       "         5.03703704e-01,  2.77555756e-17,  1.30104261e-18,\n",
       "         5.62962963e-01,  7.38518519e+00,  1.38518519e+01,\n",
       "         1.31407407e+01,  1.03333333e+01,  1.52592593e+00,\n",
       "        -2.77555756e-17,  6.50521303e-19,  1.15555556e+00,\n",
       "         8.10370370e+00,  1.20518519e+01,  1.20074074e+01,\n",
       "         9.66666667e+00,  1.11851852e+00,  1.38777878e-17,\n",
       "         3.25260652e-19,  1.04444444e+00,  7.09629630e+00,\n",
       "         1.38814815e+01,  1.40370370e+01,  5.11111111e+00,\n",
       "         2.00000000e-01,  1.30104261e-18,  0.00000000e+00,\n",
       "         7.70370370e-01,  8.51851852e+00,  1.48740741e+01,\n",
       "         1.30000000e+01,  2.14074074e+00,  2.22222222e-02,\n",
       "         0.00000000e+00,  3.46944695e-18,  1.57037037e+00,\n",
       "         1.15703704e+01,  1.23259259e+01,  1.18962963e+01,\n",
       "         4.10370370e+00,  3.18518519e-01, -1.73472348e-18,\n",
       "         2.22222222e-02,  9.55555556e-01,  1.03481481e+01,\n",
       "         1.22592593e+01,  1.18666667e+01,  5.72592593e+00,\n",
       "         8.74074074e-01,  7.40740741e-03,  7.40740741e-03,\n",
       "         8.14814815e-02,  3.63703704e+00,  1.16370370e+01,\n",
       "         1.30518519e+01,  5.88148148e+00,  1.26666667e+00,\n",
       "         1.48148148e-02],\n",
       "       [ 0.00000000e+00,  1.15740741e+00,  1.03240741e+01,\n",
       "         1.31388889e+01,  1.37407407e+01,  1.25277778e+01,\n",
       "         5.20370370e+00,  5.55555556e-02,  9.25925926e-03,\n",
       "         4.76851852e+00,  1.50925926e+01,  1.23703704e+01,\n",
       "         9.14814815e+00,  8.54629630e+00,  3.41666667e+00,\n",
       "         4.62962963e-02,  1.08420217e-18,  5.74074074e+00,\n",
       "         1.43333333e+01,  5.47222222e+00,  2.25925926e+00,\n",
       "         1.72222222e+00,  3.33333333e-01,  1.38777878e-17,\n",
       "         5.42101086e-19,  4.50925926e+00,  1.37129630e+01,\n",
       "         1.21851852e+01,  8.12037037e+00,  2.20370370e+00,\n",
       "         1.66666667e-01,  2.16840434e-18,  0.00000000e+00,\n",
       "         1.75925926e+00,  7.58333333e+00,  1.00370370e+01,\n",
       "         1.03240741e+01,  4.58333333e+00,  2.77777778e-01,\n",
       "         0.00000000e+00,  5.20417043e-18,  4.07407407e-01,\n",
       "         1.62037037e+00,  5.21296296e+00,  1.10000000e+01,\n",
       "         6.04629630e+00,  4.16666667e-01,  0.00000000e+00,\n",
       "         5.20417043e-18,  8.88888889e-01,  5.53703704e+00,\n",
       "         9.37037037e+00,  1.28888889e+01,  4.27777778e+00,\n",
       "         2.12962963e-01,  2.77555756e-17,  5.42101086e-19,\n",
       "         1.05555556e+00,  1.13703704e+01,  1.46296296e+01,\n",
       "         7.89814815e+00,  7.96296296e-01,  8.88178420e-16,\n",
       "        -5.55111512e-17],\n",
       "       [ 0.00000000e+00,  7.14285714e-01,  9.10924370e+00,\n",
       "         1.44369748e+01,  1.38739496e+01,  7.04201681e+00,\n",
       "         6.38655462e-01,  0.00000000e+00,  1.68067227e-02,\n",
       "         4.56302521e+00,  1.25798319e+01,  8.83193277e+00,\n",
       "         1.15546218e+01,  1.17983193e+01,  2.04201681e+00,\n",
       "         1.68067227e-02,  8.40336134e-03,  2.22689076e+00,\n",
       "         3.32773109e+00,  3.23529412e+00,  1.21596639e+01,\n",
       "         9.35294118e+00,  8.48739496e-01,  0.00000000e+00,\n",
       "         5.42101086e-19,  8.40336134e-02,  9.15966387e-01,\n",
       "         8.46218487e+00,  1.44201681e+01,  6.50420168e+00,\n",
       "         1.34453782e-01,  2.16840434e-18,  0.00000000e+00,\n",
       "         5.04201681e-02,  7.31092437e-01,  4.67226891e+00,\n",
       "         1.17058824e+01,  1.24621849e+01,  2.27731092e+00,\n",
       "         0.00000000e+00,  5.20417043e-18,  6.13445378e-01,\n",
       "         1.42016807e+00,  5.29411765e-01,  3.56302521e+00,\n",
       "         1.28067227e+01,  6.65546218e+00,  0.00000000e+00,\n",
       "         5.20417043e-18,  1.06722689e+00,  6.96638655e+00,\n",
       "         6.22689076e+00,  8.29411765e+00,  1.38823529e+01,\n",
       "         5.76470588e+00,  1.68067227e-02,  5.42101086e-19,\n",
       "         5.54621849e-01,  9.94117647e+00,  1.48571429e+01,\n",
       "         1.38571429e+01,  8.17647059e+00,  1.07563025e+00,\n",
       "         4.20168067e-02],\n",
       "       [ 0.00000000e+00,  1.11022302e-16,  2.05357143e-01,\n",
       "         6.98214286e+00,  1.23839286e+01,  1.74107143e+00,\n",
       "         2.05357143e-01,  7.14285714e-02,  1.73472348e-18,\n",
       "         1.78571429e-02,  3.12500000e+00,  1.38660714e+01,\n",
       "         9.15178571e+00,  1.90178571e+00,  1.30357143e+00,\n",
       "         4.01785714e-01,  8.67361738e-19,  6.96428571e-01,\n",
       "         1.07321429e+01,  1.19196429e+01,  4.99107143e+00,\n",
       "         5.66071429e+00,  4.33035714e+00,  4.46428571e-01,\n",
       "         8.92857143e-03,  4.92857143e+00,  1.47946429e+01,\n",
       "         6.32142857e+00,  7.72321429e+00,  1.04017857e+01,\n",
       "         5.72321429e+00,  2.67857143e-02,  0.00000000e+00,\n",
       "         8.77678571e+00,  1.47678571e+01,  9.98214286e+00,\n",
       "         1.36517857e+01,  1.39910714e+01,  5.16964286e+00,\n",
       "         0.00000000e+00,  1.16071429e-01,  5.75000000e+00,\n",
       "         1.04821429e+01,  1.18571429e+01,  1.48482143e+01,\n",
       "         1.06517857e+01,  1.69642857e+00,  0.00000000e+00,\n",
       "         8.92857143e-02,  8.92857143e-01,  2.03571429e+00,\n",
       "         7.06250000e+00,  1.40714286e+01,  3.78571429e+00,\n",
       "         2.67857143e-02,  2.77555756e-17,  4.33680869e-19,\n",
       "         2.67857143e-02,  2.76785714e-01,  7.86607143e+00,\n",
       "         1.25625000e+01,  1.66964286e+00,  8.88178420e-16,\n",
       "        -1.11022302e-16],\n",
       "       [ 0.00000000e+00,  1.41843972e-02,  4.61702128e+00,\n",
       "         1.28368794e+01,  1.35531915e+01,  1.09858156e+01,\n",
       "         5.49645390e+00,  1.29787234e+00,  2.16840434e-18,\n",
       "         6.80851064e-01,  1.07659574e+01,  1.18297872e+01,\n",
       "         1.03617021e+01,  1.24680851e+01,  5.92907801e+00,\n",
       "         7.58865248e-01,  1.08420217e-18,  1.07801418e+00,\n",
       "         5.89361702e+00,  2.17730496e+00,  6.61702128e+00,\n",
       "         1.13546099e+01,  3.80141844e+00,  1.63120567e-01,\n",
       "         5.42101086e-19,  1.08510638e+00,  5.34751773e+00,\n",
       "         6.14184397e+00,  1.22695035e+01,  1.20851064e+01,\n",
       "         4.99290780e+00,  7.09219858e-03,  0.00000000e+00,\n",
       "         1.31205674e+00,  8.97163121e+00,  1.28226950e+01,\n",
       "         1.46595745e+01,  1.08368794e+01,  3.82269504e+00,\n",
       "         0.00000000e+00,  5.20417043e-18,  1.01418440e+00,\n",
       "         5.23404255e+00,  1.13262411e+01,  1.09503546e+01,\n",
       "         3.65957447e+00,  5.88652482e-01,  0.00000000e+00,\n",
       "         5.20417043e-18,  3.54609929e-02,  2.61702128e+00,\n",
       "         1.26028369e+01,  6.06382979e+00,  3.33333333e-01,\n",
       "         1.33226763e-15,  0.00000000e+00,  5.42101086e-19,\n",
       "         3.54609929e-02,  5.73758865e+00,  1.22340426e+01,\n",
       "         2.36879433e+00,  2.62411348e-01,  1.41843972e-02,\n",
       "         5.55111512e-17],\n",
       "       [ 0.00000000e+00,  5.55111512e-17,  1.25781250e+00,\n",
       "         1.10859375e+01,  9.82031250e+00,  1.81250000e+00,\n",
       "         6.25000000e-02, -2.77555756e-17,  1.73472348e-18,\n",
       "         7.81250000e-02,  7.71875000e+00,  1.44843750e+01,\n",
       "         6.19531250e+00,  1.07031250e+00,  6.25000000e-02,\n",
       "        -2.77555756e-17,  8.67361738e-19,  8.90625000e-01,\n",
       "         1.30000000e+01,  8.89062500e+00,  8.20312500e-01,\n",
       "         6.25000000e-02,  4.44089210e-16,  0.00000000e+00,\n",
       "         4.33680869e-19,  2.67187500e+00,  1.38125000e+01,\n",
       "         7.10937500e+00,  3.24218750e+00,  1.46093750e+00,\n",
       "         6.25000000e-02,  1.73472348e-18,  0.00000000e+00,\n",
       "         3.68750000e+00,  1.48828125e+01,  1.23828125e+01,\n",
       "         1.21328125e+01,  1.00937500e+01,  2.27343750e+00,\n",
       "         0.00000000e+00,  5.20417043e-18,  2.02343750e+00,\n",
       "         1.47968750e+01,  1.10468750e+01,  5.96093750e+00,\n",
       "         1.05000000e+01,  9.20312500e+00,  1.01562500e-01,\n",
       "         5.20417043e-18,  1.95312500e-01,  1.05390625e+01,\n",
       "         1.23984375e+01,  5.03125000e+00,  1.08593750e+01,\n",
       "         1.11250000e+01,  6.64062500e-01,  4.33680869e-19,\n",
       "         1.66533454e-16,  1.51562500e+00,  1.07968750e+01,\n",
       "         1.50312500e+01,  1.32578125e+01,  5.03906250e+00,\n",
       "         2.34375000e-01],\n",
       "       [ 0.00000000e+00,  3.17460317e-02,  4.13492063e+00,\n",
       "         1.29841270e+01,  1.14841270e+01,  3.28571429e+00,\n",
       "         3.96825397e-02,  0.00000000e+00,  2.16840434e-18,\n",
       "         9.92063492e-01,  1.27063492e+01,  1.31031746e+01,\n",
       "         1.10555556e+01,  1.15238095e+01,  1.26190476e+00,\n",
       "        -2.77555756e-17,  1.08420217e-18,  3.96825397e+00,\n",
       "         1.42936508e+01,  4.72222222e+00,  2.15079365e+00,\n",
       "         1.17380952e+01,  3.92063492e+00,  1.38777878e-17,\n",
       "         5.42101086e-19,  5.42857143e+00,  1.26825397e+01,\n",
       "         1.61111111e+00,  2.93650794e-01,  9.11904762e+00,\n",
       "         6.52380952e+00,  2.16840434e-18,  0.00000000e+00,\n",
       "         5.95238095e+00,  1.14126984e+01,  6.50793651e-01,\n",
       "         3.96825397e-02,  9.06349206e+00,  7.04761905e+00,\n",
       "         0.00000000e+00,  5.20417043e-18,  3.54761905e+00,\n",
       "         1.31190476e+01,  1.61111111e+00,  1.35714286e+00,\n",
       "         1.13412698e+01,  5.67460317e+00,  0.00000000e+00,\n",
       "         5.20417043e-18,  8.01587302e-01,  1.30952381e+01,\n",
       "         9.50000000e+00,  1.01746032e+01,  1.31349206e+01,\n",
       "         2.46825397e+00,  2.77555756e-17,  5.42101086e-19,\n",
       "         1.66533454e-16,  4.17460317e+00,  1.35555556e+01,\n",
       "         1.33333333e+01,  5.26190476e+00,  3.25396825e-01,\n",
       "        -5.55111512e-17],\n",
       "       [ 0.00000000e+00,  1.55913978e-01,  6.05913978e+00,\n",
       "         1.22688172e+01,  1.18602151e+01,  5.57526882e+00,\n",
       "         5.43010753e-01,  1.07526882e-02,  5.37634409e-03,\n",
       "         2.44086022e+00,  1.39086022e+01,  9.50537634e+00,\n",
       "         9.19892473e+00,  1.02419355e+01,  1.20430108e+00,\n",
       "         5.37634409e-03,  4.33680869e-19,  4.31720430e+00,\n",
       "         1.25860215e+01,  4.54301075e+00,  6.89784946e+00,\n",
       "         1.11774194e+01,  1.67204301e+00,  0.00000000e+00,\n",
       "         2.16840434e-19,  2.34946237e+00,  1.01397849e+01,\n",
       "         1.14086022e+01,  1.34569892e+01,  1.19354839e+01,\n",
       "         2.05913978e+00,  8.67361738e-19,  0.00000000e+00,\n",
       "         3.87096774e-01,  3.57526882e+00,  6.93548387e+00,\n",
       "         7.66129032e+00,  1.10000000e+01,  3.55376344e+00,\n",
       "         0.00000000e+00,  5.20417043e-18,  3.17204301e-01,\n",
       "         3.13978495e+00,  2.04838710e+00,  1.96236559e+00,\n",
       "         1.10752688e+01,  6.19892473e+00,  2.15053763e-02,\n",
       "         5.20417043e-18,  8.38709677e-01,  8.70430108e+00,\n",
       "         5.87096774e+00,  4.38172043e+00,  1.17258065e+01,\n",
       "         6.73655914e+00,  1.50537634e-01,  2.16840434e-19,\n",
       "         1.50537634e-01,  5.94623656e+00,  1.30000000e+01,\n",
       "         1.43655914e+01,  1.07043011e+01,  2.94086022e+00,\n",
       "         1.18279570e-01],\n",
       "       [ 0.00000000e+00,  6.94029851e-01,  9.58208955e+00,\n",
       "         1.43656716e+01,  7.99253731e+00,  1.04477612e+00,\n",
       "        -4.44089210e-16,  2.77555756e-17,  1.73472348e-18,\n",
       "         4.57462687e+00,  1.33880597e+01,  1.26791045e+01,\n",
       "         1.16492537e+01,  3.30597015e+00,  2.23880597e-02,\n",
       "        -2.77555756e-17,  7.46268657e-03,  4.34328358e+00,\n",
       "         8.43283582e+00,  6.56716418e+00,  1.21865672e+01,\n",
       "         3.46268657e+00,  2.23880597e-02,  1.38777878e-17,\n",
       "         4.33680869e-19,  1.16417910e+00,  3.36567164e+00,\n",
       "         7.74626866e+00,  1.26791045e+01,  2.46268657e+00,\n",
       "         5.22388060e-02,  1.73472348e-18,  0.00000000e+00,\n",
       "         5.97014925e-02,  1.81343284e+00,  1.02611940e+01,\n",
       "         1.07089552e+01,  1.60447761e+00, -1.77635684e-15,\n",
       "         0.00000000e+00,  5.20417043e-18,  2.98507463e-01,\n",
       "         4.47761194e+00,  1.06567164e+01,  7.50746269e+00,\n",
       "         2.27611940e+00,  6.56716418e-01,  0.00000000e+00,\n",
       "         5.20417043e-18,  1.18656716e+00,  1.06044776e+01,\n",
       "         1.33507463e+01,  1.13880597e+01,  1.05970149e+01,\n",
       "         7.22388060e+00,  1.31343284e+00,  4.33680869e-19,\n",
       "         6.56716418e-01,  9.70149254e+00,  1.45970149e+01,\n",
       "         1.41194030e+01,  1.32686567e+01,  9.91791045e+00,\n",
       "         3.50746269e+00]])"
      ]
     },
     "execution_count": 22,
     "metadata": {},
     "output_type": "execute_result"
    }
   ],
   "source": [
    "clustering.cluster_centers_\n",
    "#plt.plot(clustering.cluster_centers_)"
   ]
  }
 ],
 "metadata": {
  "interpreter": {
   "hash": "989cfd85ef369727a48e93cd99d0bde7b65d35384cfa89d9217c847563d83077"
  },
  "kernelspec": {
   "display_name": "Python 3.9.7 64-bit ('tf': conda)",
   "name": "python3"
  },
  "language_info": {
   "codemirror_mode": {
    "name": "ipython",
    "version": 3
   },
   "file_extension": ".py",
   "mimetype": "text/x-python",
   "name": "python",
   "nbconvert_exporter": "python",
   "pygments_lexer": "ipython3",
   "version": "3.9.7"
  },
  "orig_nbformat": 4
 },
 "nbformat": 4,
 "nbformat_minor": 2
}
