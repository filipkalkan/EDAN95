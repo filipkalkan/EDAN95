{
 "cells": [
  {
   "cell_type": "markdown",
   "metadata": {},
   "source": [
    "<h1>Lab 1</h1>"
   ]
  },
  {
   "cell_type": "code",
   "execution_count": 37,
   "metadata": {},
   "outputs": [],
   "source": [
    "from sklearn import datasets, svm, metrics\n",
    "from sklearn.neighbors import KNeighborsClassifier\n",
    "import matplotlib.pyplot as plt"
   ]
  },
  {
   "cell_type": "markdown",
   "metadata": {},
   "source": [
    "<h3>Loading and splitting the data set</h3>\n",
    "The data set consists of data, labels, and images.\n",
    "The data contains an array of arrays where the elements of an array correspond to the pixel values of the image.\n",
    "The labels contain numbers i.e. the numbers that the images represent.\n",
    "The images of the dataset correspond to the data.\n",
    "\n",
    "In this case, the data is concidered the features. The features are what is concidered when creating a prediction. For instance, data makes an impact on the prediction, while images do not."
   ]
  },
  {
   "cell_type": "code",
   "execution_count": 38,
   "metadata": {},
   "outputs": [],
   "source": [
    "digits = datasets.load_digits()\n",
    "dataset_size = len(digits.data)\n",
    "train_size = int(0.7*dataset_size)\n",
    "\n",
    "train_features, train_labels = digits.data[:train_size], digits.target[:train_size]\n",
    "train_images = digits.images[:train_size]\n",
    "test_features, test_labels = digits.data[train_size:], digits.target[train_size:]\n",
    "test_images = digits.images[train_size:]"
   ]
  },
  {
   "cell_type": "markdown",
   "metadata": {},
   "source": [
    "<h2>k-NN Classifier</h2>"
   ]
  },
  {
   "cell_type": "markdown",
   "metadata": {},
   "source": [
    "In our case, it's a 5-NN (5 nearest neighbors) classifier."
   ]
  },
  {
   "cell_type": "markdown",
   "metadata": {},
   "source": [
    "<h3>Training the model</h3>"
   ]
  },
  {
   "cell_type": "code",
   "execution_count": 39,
   "metadata": {},
   "outputs": [
    {
     "data": {
      "text/plain": [
       "KNeighborsClassifier(algorithm='brute')"
      ]
     },
     "execution_count": 39,
     "metadata": {},
     "output_type": "execute_result"
    }
   ],
   "source": [
    "classifier = KNeighborsClassifier(n_neighbors=5, algorithm='brute')\n",
    "classifier.fit(train_features, train_labels)"
   ]
  },
  {
   "cell_type": "markdown",
   "metadata": {},
   "source": [
    "<h3>Predicting the test set</h3>"
   ]
  },
  {
   "cell_type": "code",
   "execution_count": 40,
   "metadata": {},
   "outputs": [],
   "source": [
    "predicted_labels = classifier.predict(test_features)"
   ]
  },
  {
   "cell_type": "markdown",
   "metadata": {},
   "source": [
    "<h3>Visualizing the test prediction</h3>"
   ]
  },
  {
   "cell_type": "markdown",
   "metadata": {},
   "source": [
    "Firstly, we extract the corresponding distances and indicies for 5 neighbors of each data point."
   ]
  },
  {
   "cell_type": "code",
   "execution_count": 41,
   "metadata": {},
   "outputs": [],
   "source": [
    "distances, neighbors = classifier.kneighbors(test_features)"
   ]
  },
  {
   "cell_type": "markdown",
   "metadata": {},
   "source": [
    "The 5 closest distances and neighbors are as follows.\n",
    "In the second matrix, the first row states the 5 closest neighbors of the first data point in the test set. So, the indices of the 5 data points closest to the first test data point are: 353, 817, 297, 366 and 1254."
   ]
  },
  {
   "cell_type": "code",
   "execution_count": 42,
   "metadata": {},
   "outputs": [
    {
     "name": "stdout",
     "output_type": "stream",
     "text": [
      "[[11.66190379 16.94107435 18.16590212 19.31320792 20.19900988]\n",
      " [21.09502311 21.47091055 21.61018278 21.74856317 21.81742423]\n",
      " [18.02775638 18.1934054  19.62141687 21.16601049 21.9317122 ]\n",
      " [10.95445115 17.60681686 19.74841766 22.58317958 23.13006701]\n",
      " [12.9614814  13.41640786 14.79864859 15.32970972 16.40121947]]\n",
      "[[ 353  817  297  366 1254]\n",
      " [1177  588  725  824  328]\n",
      " [ 376  791  801  165  896]\n",
      " [1240   91  175 1246   23]\n",
      " [ 522 1223  611  620   65]]\n"
     ]
    }
   ],
   "source": [
    "print(distances[:5])\n",
    "print(neighbors[:5])"
   ]
  },
  {
   "cell_type": "markdown",
   "metadata": {},
   "source": [
    "Plotting the 5 nearest neighboring images of the 5 first data points."
   ]
  },
  {
   "cell_type": "code",
   "execution_count": 43,
   "metadata": {},
   "outputs": [
    {
     "data": {
      "image/png": "[encoded data removed]",
      "text/plain": [
       "<Figure size 432x288 with 6 Axes>"
      ]
     },
     "metadata": {
      "needs_background": "light"
     },
     "output_type": "display_data"
    },
    {
     "data": {
      "image/png": "[encoded data removed]",
      "text/plain": [
       "<Figure size 432x288 with 6 Axes>"
      ]
     },
     "metadata": {
      "needs_background": "light"
     },
     "output_type": "display_data"
    },
    {
     "data": {
      "image/png": "[encoded data removed]",
      "text/plain": [
       "<Figure size 432x288 with 6 Axes>"
      ]
     },
     "metadata": {
      "needs_background": "light"
     },
     "output_type": "display_data"
    }
   ],
   "source": [
    "for digit_reference_image_index in range(3):\n",
    "    plt.subplots(2)\n",
    "\n",
    "    plt.axis('off')\n",
    "    plt.imshow(test_images[digit_reference_image_index], cmap=plt.cm.gray_r, interpolation='nearest')\n",
    "    plt.title('Reference: ' + str(test_labels[digit_reference_image_index]))\n",
    "\n",
    "    closest_reference_neighbors = neighbors[digit_reference_image_index]\n",
    "    \n",
    "    for i in range(5):\n",
    "        close_neighbor = closest_reference_neighbors[i]\n",
    "        image = train_images[close_neighbor]\n",
    "        label = train_labels[close_neighbor]\n",
    "        plt.subplot(2, 5, i+1)\n",
    "        plt.axis('off')\n",
    "        plt.imshow(image, cmap=plt.cm.gray_r, interpolation='nearest')\n",
    "        plt.title('label: ' + str(label))\n"
   ]
  },
  {
   "cell_type": "markdown",
   "metadata": {},
   "source": [
    "<h3>Evaluating the model</h3>"
   ]
  },
  {
   "cell_type": "code",
   "execution_count": 44,
   "metadata": {},
   "outputs": [
    {
     "name": "stdout",
     "output_type": "stream",
     "text": [
      "              precision    recall  f1-score   support\n",
      "\n",
      "           0       0.98      0.98      0.98        53\n",
      "           1       0.95      0.98      0.96        53\n",
      "           2       0.98      0.96      0.97        53\n",
      "           3       0.96      0.92      0.94        53\n",
      "           4       0.98      0.96      0.97        57\n",
      "           5       0.95      0.98      0.96        56\n",
      "           6       0.98      1.00      0.99        54\n",
      "           7       0.95      1.00      0.97        54\n",
      "           8       0.96      0.90      0.93        52\n",
      "           9       0.96      0.95      0.95        55\n",
      "\n",
      "    accuracy                           0.96       540\n",
      "   macro avg       0.96      0.96      0.96       540\n",
      "weighted avg       0.97      0.96      0.96       540\n",
      "\n"
     ]
    }
   ],
   "source": [
    "print(metrics.classification_report(test_labels, predicted_labels))"
   ]
  },
  {
   "cell_type": "markdown",
   "metadata": {},
   "source": [
    "The confusion matrix shows how well the model performed in predicting. It can be used to see if the model is prone to confuse a specific pair of classes.\n",
    "\n",
    "In the matrix, the rows represent the predicted labels and the columns represent the true labels.\n",
    "\n",
    "For instance, in our matrix we can see that data with the true label 0 was confused once with the label 4. This caused the model to wrongly classify a single zero with a four."
   ]
  },
  {
   "cell_type": "code",
   "execution_count": 45,
   "metadata": {},
   "outputs": [
    {
     "name": "stdout",
     "output_type": "stream",
     "text": [
      "[[52  0  0  0  1  0  0  0  0  0]\n",
      " [ 0 52  0  0  0  0  0  0  0  1]\n",
      " [ 1  0 51  1  0  0  0  0  0  0]\n",
      " [ 0  0  1 49  0  1  0  1  1  0]\n",
      " [ 0  0  0  0 55  0  0  1  1  0]\n",
      " [ 0  0  0  0  0 55  1  0  0  0]\n",
      " [ 0  0  0  0  0  0 54  0  0  0]\n",
      " [ 0  0  0  0  0  0  0 54  0  0]\n",
      " [ 0  3  0  0  0  0  0  1 47  1]\n",
      " [ 0  0  0  1  0  2  0  0  0 52]]\n"
     ]
    }
   ],
   "source": [
    "print(metrics.confusion_matrix( test_labels, predicted_labels))"
   ]
  },
  {
   "cell_type": "markdown",
   "metadata": {},
   "source": [
    "<h2>k-Means</h2>"
   ]
  },
  {
   "cell_type": "markdown",
   "metadata": {},
   "source": [
    "In our case, it's a 10-means model. Meaning that there will be 10 clusters, where the center of each cluster is the mean of its members."
   ]
  },
  {
   "cell_type": "code",
   "execution_count": 46,
   "metadata": {},
   "outputs": [],
   "source": [
    "from sklearn.cluster import KMeans\n",
    "import numpy as np"
   ]
  },
  {
   "cell_type": "markdown",
   "metadata": {},
   "source": [
    "Initializing the classifier."
   ]
  },
  {
   "cell_type": "code",
   "execution_count": 47,
   "metadata": {},
   "outputs": [],
   "source": [
    "cluster = KMeans(n_clusters=10)"
   ]
  },
  {
   "cell_type": "markdown",
   "metadata": {},
   "source": [
    "Train the model."
   ]
  },
  {
   "cell_type": "code",
   "execution_count": 48,
   "metadata": {},
   "outputs": [],
   "source": [
    "clusters = cluster.fit(train_features)"
   ]
  },
  {
   "cell_type": "markdown",
   "metadata": {},
   "source": [
    "The cluster centers represent the average of all images in the cluster. The cluster center is a matrix in as many dimensions as there are pixels in an image.\n",
    "By splitting the array representing the cluster center into smaller arrays of length 8, and arranging them to a matrix we recreate the average image of the cluster."
   ]
  },
  {
   "cell_type": "code",
   "execution_count": 49,
   "metadata": {},
   "outputs": [
    {
     "data": {
      "image/png": "[encoded data removed]",
      "text/plain": [
       "<Figure size 432x288 with 1 Axes>"
      ]
     },
     "metadata": {
      "needs_background": "light"
     },
     "output_type": "display_data"
    },
    {
     "data": {
      "image/png": "[encoded data removed]",
      "text/plain": [
       "<Figure size 432x288 with 1 Axes>"
      ]
     },
     "metadata": {
      "needs_background": "light"
     },
     "output_type": "display_data"
    },
    {
     "data": {
      "image/png": "[encoded data removed]",
      "text/plain": [
       "<Figure size 432x288 with 1 Axes>"
      ]
     },
     "metadata": {
      "needs_background": "light"
     },
     "output_type": "display_data"
    },
    {
     "data": {
      "image/png": "[encoded data removed]",
      "text/plain": [
       "<Figure size 432x288 with 1 Axes>"
      ]
     },
     "metadata": {
      "needs_background": "light"
     },
     "output_type": "display_data"
    },
    {
     "data": {
      "image/png": "[encoded data removed]",
      "text/plain": [
       "<Figure size 432x288 with 1 Axes>"
      ]
     },
     "metadata": {
      "needs_background": "light"
     },
     "output_type": "display_data"
    },
    {
     "data": {
      "image/png": "[encoded data removed]",
      "text/plain": [
       "<Figure size 432x288 with 1 Axes>"
      ]
     },
     "metadata": {
      "needs_background": "light"
     },
     "output_type": "display_data"
    },
    {
     "data": {
      "image/png": "[encoded data removed]",
      "text/plain": [
       "<Figure size 432x288 with 1 Axes>"
      ]
     },
     "metadata": {
      "needs_background": "light"
     },
     "output_type": "display_data"
    },
    {
     "data": {
      "image/png": "[encoded data removed]",
      "text/plain": [
       "<Figure size 432x288 with 1 Axes>"
      ]
     },
     "metadata": {
      "needs_background": "light"
     },
     "output_type": "display_data"
    },
    {
     "data": {
      "image/png": "[encoded data removed]",
      "text/plain": [
       "<Figure size 432x288 with 1 Axes>"
      ]
     },
     "metadata": {
      "needs_background": "light"
     },
     "output_type": "display_data"
    },
    {
     "data": {
      "image/png": "[encoded data removed]",
      "text/plain": [
       "<Figure size 432x288 with 1 Axes>"
      ]
     },
     "metadata": {
      "needs_background": "light"
     },
     "output_type": "display_data"
    }
   ],
   "source": [
    "for i in range(10):\n",
    "    center_array = clusters.cluster_centers_[i]\n",
    "    center_matrix = np.split(center_array, 8)\n",
    "    plt.axis('off')\n",
    "    plt.imshow(center_matrix, cmap=plt.cm.gray_r, interpolation='nearest')\n",
    "    plt.show()"
   ]
  },
  {
   "cell_type": "markdown",
   "metadata": {},
   "source": [
    "Let's attempt to classify our data."
   ]
  },
  {
   "cell_type": "code",
   "execution_count": 50,
   "metadata": {},
   "outputs": [],
   "source": [
    "predicted = cluster.predict(test_features)"
   ]
  },
  {
   "cell_type": "markdown",
   "metadata": {},
   "source": [
    "And generate a classification report. This report shows a terrible accuracy.\n",
    "\n",
    "However, rerunning the fitting and prediction will probably result in different numbers. This is due to the model randomly assigning labels to the clusters. In one run, the model might correctly assign the label 0 to a cluster containing mainly zeros. In another run, it might wrongly assign the label 1 to the cluster containing mainly zeros."
   ]
  },
  {
   "cell_type": "code",
   "execution_count": 58,
   "metadata": {},
   "outputs": [
    {
     "name": "stdout",
     "output_type": "stream",
     "text": [
      "              precision    recall  f1-score   support\n",
      "\n",
      "           0       0.00      0.00      0.00        53\n",
      "           1       0.00      0.00      0.00        53\n",
      "           2       0.04      0.06      0.05        53\n",
      "           3       0.08      0.11      0.09        53\n",
      "           4       0.02      0.02      0.02        57\n",
      "           5       0.00      0.00      0.00        56\n",
      "           6       0.98      0.96      0.97        54\n",
      "           7       0.00      0.00      0.00        54\n",
      "           8       0.02      0.02      0.02        52\n",
      "           9       0.02      0.02      0.02        55\n",
      "\n",
      "    accuracy                           0.12       540\n",
      "   macro avg       0.12      0.12      0.12       540\n",
      "weighted avg       0.12      0.12      0.12       540\n",
      "\n"
     ]
    }
   ],
   "source": [
    "print(metrics.classification_report( test_labels, predicted))"
   ]
  },
  {
   "cell_type": "markdown",
   "metadata": {},
   "source": [
    "The confusion matrix is shown below. The reason for the high confusion is described above."
   ]
  },
  {
   "cell_type": "code",
   "execution_count": 60,
   "metadata": {},
   "outputs": [
    {
     "name": "stdout",
     "output_type": "stream",
     "text": [
      "[[ 0  0  0  0 52  0  0  1  0  0]\n",
      " [ 1  0  0 35  0 17  0  0  0  0]\n",
      " [ 0  6  3  1  1  0  0  0 42  0]\n",
      " [ 2 40  2  6  0  0  0  0  0  3]\n",
      " [ 0  0  0  0  1  1  0 52  0  3]\n",
      " [38  0 16  0  0  0  1  1  0  0]\n",
      " [ 0  0  0  1  0  1 52  0  0  0]\n",
      " [ 0  0  0  2  0  0  0  0  0 52]\n",
      " [ 1  1 12 33  0  1  0  0  1  3]\n",
      " [ 4  3 42  0  0  5  0  0  0  1]]\n"
     ]
    }
   ],
   "source": [
    "print(metrics.confusion_matrix(test_labels, predicted))"
   ]
  },
  {
   "cell_type": "markdown",
   "metadata": {},
   "source": [
    "Let's visualize how our predictor performed. The five first images along with their predicted and actual labels are shown below. There was only a single correct prediction among the shown images."
   ]
  },
  {
   "cell_type": "code",
   "execution_count": 61,
   "metadata": {},
   "outputs": [
    {
     "data": {
      "image/png": "[encoded data removed]",
      "text/plain": [
       "<Figure size 432x288 with 1 Axes>"
      ]
     },
     "metadata": {
      "needs_background": "light"
     },
     "output_type": "display_data"
    },
    {
     "data": {
      "image/png": "[encoded data removed]",
      "text/plain": [
       "<Figure size 432x288 with 1 Axes>"
      ]
     },
     "metadata": {
      "needs_background": "light"
     },
     "output_type": "display_data"
    },
    {
     "data": {
      "image/png": "[encoded data removed]",
      "text/plain": [
       "<Figure size 432x288 with 1 Axes>"
      ]
     },
     "metadata": {
      "needs_background": "light"
     },
     "output_type": "display_data"
    }
   ],
   "source": [
    "for predicted_label, i in enumerate(predicted[:3]):\n",
    "    plt.axis('off')\n",
    "    plt.imshow(test_images[i], cmap=plt.cm.gray_r, interpolation='nearest')\n",
    "    plt.title('Predicted label: ' + str(predicted_label) + ', Actual label: ' + str(test_labels[i]))\n",
    "    plt.show()"
   ]
  },
  {
   "cell_type": "markdown",
   "metadata": {},
   "source": [
    "The completeness score tells us how the clustering algorithm performed. A good clustering algorithm assigns all samples with the same true label to the same cluster, resulting in a completeness score of 1.0. In other words, if the digits with the same labels are all clustered together we get a good score.\n",
    "\n",
    "In spite of terrible accuracy and a messy confusion matrix for this model we get a relatively good completeness score. This is due to the fact that images with the same true label are many times clustered together under a different predicted label. The same applies for the homogeneity score below."
   ]
  },
  {
   "cell_type": "code",
   "execution_count": 62,
   "metadata": {},
   "outputs": [
    {
     "data": {
      "text/plain": [
       "0.7425939370562739"
      ]
     },
     "execution_count": 62,
     "metadata": {},
     "output_type": "execute_result"
    }
   ],
   "source": [
    "metrics.completeness_score(test_labels, predicted)"
   ]
  },
  {
   "cell_type": "markdown",
   "metadata": {},
   "source": [
    "The homogeneity score quantifies whether the clustering algorithm meets an important requirement: a cluster should contain only samples belonging to a single class."
   ]
  },
  {
   "cell_type": "code",
   "execution_count": 55,
   "metadata": {},
   "outputs": [
    {
     "data": {
      "text/plain": [
       "0.7303956966915996"
      ]
     },
     "execution_count": 55,
     "metadata": {},
     "output_type": "execute_result"
    }
   ],
   "source": [
    "metrics.homogeneity_score(test_labels, predicted)"
   ]
  },
  {
   "cell_type": "code",
   "execution_count": 56,
   "metadata": {},
   "outputs": [
    {
     "data": {
      "text/plain": [
       "0.7269738868355363"
      ]
     },
     "execution_count": 56,
     "metadata": {},
     "output_type": "execute_result"
    }
   ],
   "source": [
    "metrics.adjusted_mutual_info_score( test_labels, predicted)"
   ]
  },
  {
   "cell_type": "markdown",
   "metadata": {},
   "source": [
    "In conclusion, we have a model which is fairly good at clustering images that are alike together. However, in order to make the model more usable a manual labeling of the clusters would be required."
   ]
  }
 ],
 "metadata": {
  "interpreter": {
   "hash": "6a0b82462ee569e8f9cb1079829714d87cdb26c5d258ceac7e33e44278c9776b"
  },
  "kernelspec": {
   "display_name": "Python 3.8.12 64-bit ('tf': conda)",
   "name": "python3"
  },
  "language_info": {
   "codemirror_mode": {
    "name": "ipython",
    "version": 3
   },
   "file_extension": ".py",
   "mimetype": "text/x-python",
   "name": "python",
   "nbconvert_exporter": "python",
   "pygments_lexer": "ipython3",
   "version": "3.8.12"
  }
 },
 "nbformat": 4,
 "nbformat_minor": 2
}
