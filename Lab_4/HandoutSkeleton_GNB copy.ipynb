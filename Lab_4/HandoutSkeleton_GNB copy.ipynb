{
 "cells": [
  {
   "cell_type": "code",
   "execution_count": 2,
   "id": "romantic-desire",
   "metadata": {},
   "outputs": [],
   "source": [
    "from sklearn import metrics\n",
    "from sklearn.naive_bayes import GaussianNB\n",
    "from Handout_MNIST import MNIST"
   ]
  },
  {
   "cell_type": "code",
   "execution_count": 45,
   "id": "arbitrary-compromise",
   "metadata": {},
   "outputs": [
    {
     "name": "stdout",
     "output_type": "stream",
     "text": [
      "Train data: (1438, 64)\n",
      "Test data: (359, 64)\n"
     ]
    }
   ],
   "source": [
    "#Downloading digit dataset from load_digits\n",
    "from sklearn.datasets import load_digits\n",
    "import numpy as np\n",
    "\n",
    "features, labels = load_digits(return_X_y=True)\n",
    "\n",
    "test_features = features[-round(len(features)/5):]\n",
    "train_features = features[:-round(len(features)/5)]\n",
    "test_labels = labels[-round(len(labels)/5):]\n",
    "train_labels = labels[:-round(len(labels)/5)]\n",
    "\n",
    "\n",
    "print(f\"Train data: {train_features.shape}\")\n",
    "print(f\"Test data: {test_features.shape}\")"
   ]
  },
  {
   "cell_type": "code",
   "execution_count": 23,
   "id": "55abb145",
   "metadata": {},
   "outputs": [],
   "source": [
    "def get_gausian_distrubution_of_pixel_in_digit(threshold=10):\n",
    "    # get the probability of each pixel being in a digit\n",
    "    # (for each digit)\n",
    "    digit_pixel_probabilities = []\n",
    "    for digit in range(10):\n",
    "        # get the indices of the pixels that belong to the digit\n",
    "        digit_indices = np.where(train_labels == digit)\n",
    "        \n",
    "        \n",
    "        \n",
    "        for feature_set in train_features[digit_indices]:\n",
    "            for pixel_index,pixel in enumerate(feature_set):\n",
    "                if pixel > threshold:\n",
    "                    refined_fetures[pixel_index] += 1\n",
    "\n",
    "        digit_pixel_probabilities.append(refined_fetures/len(digit_indices[0]))\n",
    "    return np.array(digit_pixel_probabilities)\n",
    "\n",
    "\n",
    "def get_probability_of_number():\n",
    "    return np.array([len(i)/len(train_labels) for i in [np.where(train_labels == i)[0] for i in range(10)]])"
   ]
  },
  {
   "cell_type": "code",
   "execution_count": 77,
   "id": "f0bb4b8f",
   "metadata": {},
   "outputs": [],
   "source": [
    "# Generationg the gaussian distribution of each pixel and number\n",
    "gaussians_per_digit_and_pixel = []\n",
    "for digit in range(10):\n",
    "    # get the indices of the pixels that belong to the digit\n",
    "    digit_indices = np.where(train_labels == digit)\n",
    "    \n",
    "    # Create mean and standard deviation for each pixel and each digit\n",
    "    gaussian_means = [np.mean(train_features[digit_indices][:,pixel]+1) for pixel in range(train_features[digit_indices].shape[1])]\n",
    "    gaussian_std = [np.std(train_features[digit_indices][:,pixel]+1) for pixel in range(train_features[digit_indices].shape[1])]\n",
    "    \n",
    "    # Merge into a single array\n",
    "    gaussians_per_digit_and_pixel.append((gaussian_means,gaussian_std))\n",
    "\n",
    "#print(gaussians_per_digit_and_pixel[0])"
   ]
  },
  {
   "cell_type": "code",
   "execution_count": 101,
   "id": "ddc59bd4",
   "metadata": {},
   "outputs": [
    {
     "name": "stderr",
     "output_type": "stream",
     "text": [
      "/tmp/ipykernel_126016/2741543580.py:14: RuntimeWarning: divide by zero encountered in log\n",
      "  log_sum += np.log(likleyhood)\n"
     ]
    },
    {
     "data": {
      "text/plain": [
       "4"
      ]
     },
     "execution_count": 101,
     "metadata": {},
     "output_type": "execute_result"
    }
   ],
   "source": [
    "from scipy.stats import norm\n",
    "\n",
    "def predict(feat, threshold=10):\n",
    "    \n",
    "    probability_of_number = get_probability_of_number()\n",
    "    probabilities = []\n",
    "    for i in range(10):\n",
    "        \n",
    "        log_sum = 0\n",
    "        for index,j in enumerate(feat):\n",
    "            norm_vals = (gaussians_per_digit_and_pixel[i][0][index],gaussians_per_digit_and_pixel[i][1][index])\n",
    "            likleyhood = norm.pdf(j,norm_vals[0],norm_vals[1])\n",
    "            if(j > threshold):\n",
    "                log_sum += np.log(likleyhood)\n",
    "        probabilities.append(log_sum+np.log(probability_of_number[i]))\n",
    "    return np.argmax(probabilities)\n",
    "\n",
    "predict(test_features[1])"
   ]
  },
  {
   "cell_type": "code",
   "execution_count": 102,
   "id": "a822ef21",
   "metadata": {},
   "outputs": [
    {
     "name": "stderr",
     "output_type": "stream",
     "text": [
      "/tmp/ipykernel_126016/2741543580.py:14: RuntimeWarning: divide by zero encountered in log\n",
      "  log_sum += np.log(likleyhood)\n"
     ]
    },
    {
     "name": "stdout",
     "output_type": "stream",
     "text": [
      "Classification report SKLearn GNB:\n",
      "              precision    recall  f1-score   support\n",
      "\n",
      "           0       0.91      0.86      0.88        35\n",
      "           1       0.79      0.61      0.69        36\n",
      "           2       1.00      0.32      0.49        34\n",
      "           3       0.81      0.46      0.59        37\n",
      "           4       0.75      0.89      0.81        37\n",
      "           5       0.92      0.62      0.74        37\n",
      "           6       1.00      0.30      0.46        37\n",
      "           7       0.34      0.72      0.46        36\n",
      "           8       0.40      0.82      0.54        33\n",
      "           9       0.55      0.62      0.58        37\n",
      "\n",
      "    accuracy                           0.62       359\n",
      "   macro avg       0.75      0.62      0.62       359\n",
      "weighted avg       0.75      0.62      0.63       359\n",
      "\n",
      "\n",
      "Confusion matrix:\n",
      " [[30  0  0  0  3  0  0  0  2  0]\n",
      " [ 0 22  0  0  0  0  0  1  5  8]\n",
      " [ 0  0 11  0  4  0  0 19  0  0]\n",
      " [ 0  0  0 17  0  0  0  6 14  0]\n",
      " [ 0  0  0  0 33  0  0  1  3  0]\n",
      " [ 0  1  0  0  1 23  0  0  3  9]\n",
      " [ 1  3  0  0  1  0 11 20  1  0]\n",
      " [ 0  0  0  0  2  0  0 26  8  0]\n",
      " [ 0  2  0  0  0  1  0  1 27  2]\n",
      " [ 2  0  0  4  0  1  0  3  4 23]]\n"
     ]
    }
   ],
   "source": [
    "# Printing metics\n",
    "y_pred = []\n",
    "for sample in test_features:\n",
    "    y_pred.append(predict(sample))\n",
    "        \n",
    "print(\"Classification report SKLearn GNB:\\n%s\\n\"\n",
    "  % (metrics.classification_report(test_labels, y_pred)))\n",
    "print(f\"Confusion matrix:\\n {metrics.confusion_matrix(test_labels, y_pred)}\")"
   ]
  },
  {
   "cell_type": "code",
   "execution_count": null,
   "id": "444f2939",
   "metadata": {},
   "outputs": [],
   "source": []
  }
 ],
 "metadata": {
  "kernelspec": {
   "display_name": "Python 3",
   "language": "python",
   "name": "python3"
  },
  "language_info": {
   "codemirror_mode": {
    "name": "ipython",
    "version": 3
   },
   "file_extension": ".py",
   "mimetype": "text/x-python",
   "name": "python",
   "nbconvert_exporter": "python",
   "pygments_lexer": "ipython3",
   "version": "3.8.10"
  }
 },
 "nbformat": 4,
 "nbformat_minor": 5
}
